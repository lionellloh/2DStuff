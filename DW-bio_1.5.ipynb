{
 "cells": [
  {
   "cell_type": "code",
   "execution_count": null,
   "metadata": {},
   "outputs": [],
   "source": [
    "import random\n",
    "import math"
   ]
  },
  {
   "cell_type": "markdown",
   "metadata": {},
   "source": [
    "### The init method initializes all parameters to zero. \n",
    "\n",
    "Based on this "
   ]
  },
  {
   "cell_type": "code",
   "execution_count": 76,
   "metadata": {},
   "outputs": [],
   "source": [
    "class PrimerDesign(object):\n",
    "    \n",
    "    def __init__ (self):\n",
    "        \n",
    "        '''parameters for the length criterion'''\n",
    "        self.max_length = 22 #long enough for adequate specificity\n",
    "        self.min_length = 18 #easily bind to template at annealing temperature\n",
    "        self.penalty_length = 10 \n",
    "        \n",
    "        '''parameters for the temperature difference criterion'''\n",
    "        self.max_tdiff = 15 #if annealing temperature of forward and reverse primer is too large, primers will not anneal properly\n",
    "        self.min_tdiff = -5\n",
    "        self.penalty_tdiff = 10\n",
    "        \n",
    "        '''parameters for the cg content criterion'''\n",
    "        self.max_cg = 0.6 #GC-rich tracts tend to form inverted repeats, or hairpin structures, thus will not anneal properly to the target DNA template\n",
    "        self.min_cg = 0.4 #AT-rich strectches are hard to amplify under standard reaction conditions\n",
    "        self.penalty_cg = 10\n",
    "        \n",
    "        '''parameters for the annealing temperature criterion'''\n",
    "        self.max_temp = 65 #if too high, primer might not bind because bonds are broken as they are formed\n",
    "        self.min_temp = 50 #if too low, primer could bind imperfectly\n",
    "        self.penalty_temp = 10\n",
    "        \n",
    "        '''parameters for the run criterion'''\n",
    "        self.run_threshold = 4 #likely to have errors in replication\n",
    "        self.penalty_runs = 10\n",
    "        \n",
    "        '''parameters for the repeat criterion'''\n",
    "        self.repeat_threshold = 2 #likely to have errors in replication\n",
    "        self.penalty_repeats = 10\n",
    "        \n",
    "        '''parameters for the specificity criterion'''\n",
    "        self.penalty_specificity = 10 \n",
    "        \n",
    "        '''locations where the forward primer should be chosen from'''\n",
    "        self.fp_start = 100\n",
    "        self.fp_end = 200\n",
    "        \n",
    "        '''locations where the reverse primer should be chosen from'''\n",
    "        self.rp_start = 300\n",
    "        self.rp_end = 400\n",
    "        \n",
    "        ''' parameters for the simulated annealing portion'''\n",
    "        self.initial_temperature = 200\n",
    "        self.stopping_temperature = 0.01\n",
    "        self.drop_fraction = 0.999\n",
    "        "
   ]
  },
  {
   "cell_type": "markdown",
   "metadata": {},
   "source": [
    "### Task 2 "
   ]
  },
  {
   "cell_type": "markdown",
   "metadata": {},
   "source": [
    "### This method cleans a DNA sequence\n",
    "\n",
    "#All spaces, numbers and capital letters are removed"
   ]
  },
  {
   "cell_type": "code",
   "execution_count": 77,
   "metadata": {},
   "outputs": [],
   "source": [
    "class PrimerDesign(PrimerDesign): \n",
    "    \n",
    "    def set_dna_sequence(self, dna_sequence):\n",
    "        #list of bases\n",
    "        nucleotides = [\"a\", \"t\", \"c\", \"g\"]\n",
    "        output_list = []\n",
    "        \n",
    "        #checks input DNA sequence for bases and append them to a list\n",
    "        for char in dna_sequence: \n",
    "            if char in nucleotides: \n",
    "                output_list.append(char)\n",
    "        \n",
    "        #converts list into single line string\n",
    "        dna_sequence = \"\".join(output_list)\n",
    "        self.dna_sequence = dna_sequence\n",
    "        return self.dna_sequence"
   ]
  },
  {
   "cell_type": "markdown",
   "metadata": {},
   "source": [
    "#Test Case\n",
    "#Run this again after running all cells to instantiate test again"
   ]
  },
  {
   "cell_type": "code",
   "execution_count": 78,
   "metadata": {},
   "outputs": [
    {
     "name": "stdout",
     "output_type": "stream",
     "text": [
      "gtccgggcagcccccggcgcagcgcggccgcagcagcctccgccccccgcacggtgtgagcgcccgacgcggccgaggcggccggagtcccgagctagccccggcggccgccgccgcccagaccggacgacaggccacctcgtcggcgtccgcccgagtccccgcctcgccgccaacgccacaaccaccgcgcacggccccctgactccgtccagtattgatcgggagagccggagcgagctcttcggggagcagcgatgcgaccctccgggacggccggggcagcgctcctggcgctgctggctgcgctctgcccggcgagtcgggctctggaggaaaagaaagtttgccaaggcacgagtaacaagctcacgcagttgggcacttttgaagatcattttctcagcctccagaggatgttcaataactgtgaggtggtccttgggaatttggaaattacctatgtgcagaggaattatgatctttccttcttaaagaccatccaggaggtggctggttatgtcctcattgccctcaacacagtggagcgaattcctttggaaaacctgcagatcatcagaggaaatatgtactacgaaaattcctatgccttagcagtcttatctaactatgatgcaaataaaaccggactgaaggagctgcccatgagaaatttacaggaaatcctgcatggcgccgtgcggttcagcaacaaccctgccctgtgcaacgtggagagcatccagtggcgggacatagtcagcagtgactttctcagcaacatgtcgatggacttccagaaccacctgggcagctgccaaaagtgtgatccaagctgtcccaatgggagctgctggggtgcaggagaggagaactgccagaaactgaccaaaatcatctgtgcccagcagtgctccgggcgctgccgtggcaagtcccccagtgactgctgccacaaccagtgtgctgcaggctgcacaggccccatggagagcgactgcctggtctgccgcaaattccgagacgaagccacgtgcaaggacacctgccccccactcatgctctacaaccccaccacgtaccagatggatgtgaaccccgagggcaaatacagctttggtgccacctgcgtgaagaagtgtccccgtaattatgtggtgacagatcacggctcgtgcgtccgagcctgtggggccgacagctatgagatggaggaagacggcgtccgcaagtgtaagaagtgcgaagggccttgccgcaaagtgtgtaacggaataggtattggtgaatttaaagactcactctccataaatgctacgaatattaaacacttcaaaaactgcacctccatcagtggcgatctccacatcctgccggtggcatttaggggtgactccttcacacatactcctcctctggatccacaggaactggatattctgaaaaccgtaaaggaaatcacagggtttttgctgattcaggcttggcctgaaaacaggacggacctccatgcctttgagaacctagaaatcatacgcggcaggaccaagcaacatggtcagttttctcttgcagtcgtcagcctgaacataacatccttgggattacgctccctcaaggagataagtgatggagatgtgataatttcaggaaacaaaaatttgtgctatgcaaatacaataaactggaaaaaactgtttgggacctccggtcagaaaaccaaaattataagcaacagaggtgaaaacagctgcaaggccacaggccaggtctgccatgccttgtgctcccccgagggctgctggggcccggagcccagggactgcgtctcttgccggaatgtcagccgaggcagggaatgcgtggacaagtgcaaccttctggagggtgagccaagggagtttgtggagaactctgagtgcatacagtgccacccagagtgcctgcctcaggccatgaacatcacctgcacaggacggggaccagacaactgtatccagtgtgcccactacattgacggcccccactgcgtcaagacctgcccggcaggagtcatgggagaaaacaacaccctggtctggaagtacgcagacgcttgccatgtgtgccacctgtgccatccaaactgcacctacggatgcactgggccaggtcttgaaggctgtccaacgaatgggcctaagatcccgtccatcgccactgggatggtgggggccctcctcttgctgctggtggtggccctggggatcggcctcttcatgcgaaggcgccacatcgttcggaagcgcacgctgcggaggctgctgcaggagagggagcttgtggagcctcttacacccagtggagaagctcccaaccaagctctcttgaggatcttgaaggaaactgaattcaaaaagatcaaagtgctgggctccggtgcgttcggcacggtgtataagggactctggatcccagaaggtgagaaagttaaaattcccgtcgctatcaaggaattaagagaagcaacatctccgaaagccaacaaggaaatcctcgatgaagcctacgtgatggccagcgtggacaacccccacgtgtgccgcctgctgggcatctgcctcacctccaccgtgcagctcatcacgcagctcatgcccttcggctgcctcctggactatgtccgggaacacaaagacaatattggctcccagtacctgctcaactggtgtgtgcagatcgcaaagggcatgaactacttggaggaccgtcgcttggtgcaccgcgacctggcagccaggaacgtactggtgaaaacaccgcagcatgtcaagatcacagattttgggctggccaaactgctgggtgcggaagagaaagaataccatgcagaaggaggcaaagtgcctatcaagtggatggcattggaatcaattttacacagaatctatacccaccagagtgatgtctggagctacggggtgactgtttgggagttgatgacctttggatccaagccatatgacggaatccctgccagcgagatctcctccatcctggagaaaggagaacgcctccctcagccacccatatgtaccatcgatgtctacatgatcatggtcaagtgctggatgatagacgcagatagtcgcccaaagttccgtgagttgatcatcgaattctccaaaatggcccgagacccccagcgctaccttgtcattcagggggatgaaagaatgcatttgccaagtcctacagactccaacttctaccgtgccctgatggatgaagaagacatggacgacgtggtggatgccgacgagtacctcatcccacagcagggcttcttcagcagcccctccacgtcacggactcccctcctgagctctctgagtgcaaccagcaacaattccaccgtggcttgcattgatagaaatgggctgcaaagctgtcccatcaaggaagacagcttcttgcagcgatacagctcagaccccacaggcgccttgactgaggacagcatagacgacaccttcctcccagtgcctgaatacataaaccagtccgttcccaaaaggcccgctggctctgtgcagaatcctgtctatcacaatcagcctctgaaccccgcgcccagcagagacccacactaccaggacccccacagcactgcagtgggcaaccccgagtatctcaacactgtccagcccacctgtgtcaacagcacattcgacagccctgcccactgggcccagaaaggcagccaccaaattagcctggacaaccctgactaccagcaggacttctttcccaaggaagccaagccaaatggcatctttaagggctccacagctgaaaatgcagaatacctaagggtcgcgccacaaagcagtgaatttattggagcatgaccacggaggatagtatgagccctaaaaatccagactctttcgatacccaggaccaagccacagcaggtcctccatcccaacagccatgcccgcattagctcttagacccacagactggttttgcaacgtttacaccgactagccaggaagtacttccacctcgggcacattttgggaagttgcattcctttgtcttcaaactgtgaagcatttacagaaacgcatccagcaagaatattgtccctttgagcagaaatttatctttcaaagaggtatatttgaaaaaaaaaaaaagtatatgtgaggatttttattgattggggatcttggagtttttcattgtcgctattgatttttacttcaatgggctcttccaacaaggaagaagcttgctggtagcacttgctaccctgagttcatccaggcccaactgtgagcaaggagcacaagccacaagtcttccagaggatgcttgattccagtggttctgcttcaaggcttccactgcaaaacactaaagatccaagaaggccttcatggccccagcaggccggatcggtactgtatcaagtcatggcaggtacagtaggataagccactctgtcccttcctgggcaaagaagaaacggaggggatggaattcttccttagacttacttttgtaaaaatgtccccacggtacttactccccactgatggaccagtggtttccagtcatgagcgttagactgacttgtttgtcttccattccattgttttgaaactcagtatgctgcccctgtcttgctgtcatgaaatcagcaagagaggatgacacatcaaataataactcggattccagcccacattggattcatcagcatttggaccaatagcccacagctgagaatgtggaatacctaaggatagcaccgcttttgttctcgcaaaaacgtatctcctaatttgaggctcagatgaaatgcatcaggtcctttggggcatagatcagaagactacaaaaatgaagctgctctgaaatctcctttagccatcaccccaaccccccaaaattagtttgtgttacttatggaagatagttttctccttttacttcacttcaaaagctttttactcaaagagtatatgttccctccaggtcagctgcccccaaaccccctccttacgctttgtcacacaaaaagtgtctctgccttgagtcatctattcaagcacttacagctctggccacaacagggcattttacaggtgcgaatgacagtagcattatgagtagtgtggaattcaggtagtaaatatgaaactagggtttgaaattgataatgctttcacaacatttgcagatgttttagaaggaaaaaagttccttcctaaaataatttctctacaattggaagattggaagattcagctagttaggagcccaccttttttcctaatctgtgtgtgccctgtaacctgactggttaacagcagtcctttgtaaacagtgttttaaactctcctagtcaatatccaccccatccaatttatcaaggaagaaatggttcagaaaatattttcagcctacagttatgttcagtcacacacacatacaaaatgttccttttgcttttaaagtaatttttgactcccagatcagtcagagcccctacagcattgttaagaaagtatttgatttttgtctcaatgaaaataaaactatattcatttccactctattatgctctcaaatacccctaagcatctatactagcctggtatgggtatgaaagatacaaagataaataaaacatagtccctgattctaagaaattcacaatttagcaaaggaaatggactcatagatgctaaccttaaaacaacgtgacaaatgccagacaggacccatcagccaggcactgtgagagcacagagcagggaggttgggtcctgcctgaggagacctggaagggaggcctcacaggaggatgaccaggtctcagtcagcggggaggtggaaagtgcaggtgcatcaggggcaccctgaccgaggaaacagctgccagaggcctccactgctaaagtccacataaggctgaggtcagtcaccctaaacaacctgctccctctaagccaggggatgagcttggagcatcccacaagttccctaaaagttgcagcccccagggggattttgagctatcatctctgcacatgcttagtgagaagactacacaacatttctaagaatctgagattttatattgtcagttaaccactttcattattcattcacctcaggacatgcagaaatatttcagtcagaactgggaaacagaaggacctacattctgctgtcacttatgtgtcaagaagcagatgatcgatgaggcaggtcagttgtaagtgagtcacattgtagcattaaattctagtatttttgtagtttgaaacagtaacttaataaaagagcaaaagctaaaaaaaaaaaaaaaaa\n"
     ]
    }
   ],
   "source": [
    "test_sq = \"1 gtccgggcag cccccggcgc agcgcggccg cagcagcctc cgccccccgc acggtgtgag\\\n",
    "61 cgcccgacgc ggccgaggcg gccggagtcc cgagctagcc ccggcggccg ccgccgccca\\\n",
    "121 gaccggacga caggccacct cgtcggcgtc cgcccgagtc cccgcctcgc cgccaacgcc\\\n",
    "181 acaaccaccg cgcacggccc cctgactccg tccagtattg atcgggagag ccggagcgag\\\n",
    "241 ctcttcgggg agcagcgatg cgaccctccg ggacggccgg ggcagcgctc ctggcgctgc\\\n",
    "301 tggctgcgct ctgcccggcg agtcgggctc tggaggaaaa gaaagtttgc caaggcacga\\\n",
    "361 gtaacaagct cacgcagttg ggcacttttg aagatcattt tctcagcctc cagaggatgt\\\n",
    "421 tcaataactg tgaggtggtc cttgggaatt tggaaattac ctatgtgcag aggaattatg\\\n",
    "481 atctttcctt cttaaagacc atccaggagg tggctggtta tgtcctcatt gccctcaaca\\\n",
    "541 cagtggagcg aattcctttg gaaaacctgc agatcatcag aggaaatatg tactacgaaa\\\n",
    "601 attcctatgc cttagcagtc ttatctaact atgatgcaaa taaaaccgga ctgaaggagc\\\n",
    "661 tgcccatgag aaatttacag gaaatcctgc atggcgccgt gcggttcagc aacaaccctg\\\n",
    "721 ccctgtgcaa cgtggagagc atccagtggc gggacatagt cagcagtgac tttctcagca\\\n",
    "781 acatgtcgat ggacttccag aaccacctgg gcagctgcca aaagtgtgat ccaagctgtc\\\n",
    "841 ccaatgggag ctgctggggt gcaggagagg agaactgcca gaaactgacc aaaatcatct\\\n",
    "901 gtgcccagca gtgctccggg cgctgccgtg gcaagtcccc cagtgactgc tgccacaacc\\\n",
    "961 agtgtgctgc aggctgcaca ggccccatgg agagcgactg cctggtctgc cgcaaattcc\\\n",
    "1021 gagacgaagc cacgtgcaag gacacctgcc ccccactcat gctctacaac cccaccacgt\\\n",
    "1081 accagatgga tgtgaacccc gagggcaaat acagctttgg tgccacctgc gtgaagaagt\\\n",
    "1141 gtccccgtaa ttatgtggtg acagatcacg gctcgtgcgt ccgagcctgt ggggccgaca\\\n",
    "1201 gctatgagat ggaggaagac ggcgtccgca agtgtaagaa gtgcgaaggg ccttgccgca\\\n",
    "1261 aagtgtgtaa cggaataggt attggtgaat ttaaagactc actctccata aatgctacga\\\n",
    "1321 atattaaaca cttcaaaaac tgcacctcca tcagtggcga tctccacatc ctgccggtgg\\\n",
    "1381 catttagggg tgactccttc acacatactc ctcctctgga tccacaggaa ctggatattc\\\n",
    "1441 tgaaaaccgt aaaggaaatc acagggtttt tgctgattca ggcttggcct gaaaacagga\\\n",
    "1501 cggacctcca tgcctttgag aacctagaaa tcatacgcgg caggaccaag caacatggtc\\\n",
    "1561 agttttctct tgcagtcgtc agcctgaaca taacatcctt gggattacgc tccctcaagg\\\n",
    "1621 agataagtga tggagatgtg ataatttcag gaaacaaaaa tttgtgctat gcaaatacaa\\\n",
    "1681 taaactggaa aaaactgttt gggacctccg gtcagaaaac caaaattata agcaacagag\\\n",
    "1741 gtgaaaacag ctgcaaggcc acaggccagg tctgccatgc cttgtgctcc cccgagggct\\\n",
    "1801 gctggggccc ggagcccagg gactgcgtct cttgccggaa tgtcagccga ggcagggaat\\\n",
    "1861 gcgtggacaa gtgcaacctt ctggagggtg agccaaggga gtttgtggag aactctgagt\\\n",
    "1921 gcatacagtg ccacccagag tgcctgcctc aggccatgaa catcacctgc acaggacggg\\\n",
    "1981 gaccagacaa ctgtatccag tgtgcccact acattgacgg cccccactgc gtcaagacct\\\n",
    "2041 gcccggcagg agtcatggga gaaaacaaca ccctggtctg gaagtacgca gacgcttgcc\\\n",
    "2101 atgtgtgcca cctgtgccat ccaaactgca cctacggatg cactgggcca ggtcttgaag\\\n",
    "2161 gctgtccaac gaatgggcct aagatcccgt ccatcgccac tgggatggtg ggggccctcc\\\n",
    "2221 tcttgctgct ggtggtggcc ctggggatcg gcctcttcat gcgaaggcgc cacatcgttc\\\n",
    "2281 ggaagcgcac gctgcggagg ctgctgcagg agagggagct tgtggagcct cttacaccca\\\n",
    "2341 gtggagaagc tcccaaccaa gctctcttga ggatcttgaa ggaaactgaa ttcaaaaaga\\\n",
    "2401 tcaaagtgct gggctccggt gcgttcggca cggtgtataa gggactctgg atcccagaag\\\n",
    "2461 gtgagaaagt taaaattccc gtcgctatca aggaattaag agaagcaaca tctccgaaag\\\n",
    "2521 ccaacaagga aatcctcgat gaagcctacg tgatggccag cgtggacaac ccccacgtgt\\\n",
    "2581 gccgcctgct gggcatctgc ctcacctcca ccgtgcagct catcacgcag ctcatgccct\\\n",
    "2641 tcggctgcct cctggactat gtccgggaac acaaagacaa tattggctcc cagtacctgc\\\n",
    "2701 tcaactggtg tgtgcagatc gcaaagggca tgaactactt ggaggaccgt cgcttggtgc\\\n",
    "2761 accgcgacct ggcagccagg aacgtactgg tgaaaacacc gcagcatgtc aagatcacag\\\n",
    "2821 attttgggct ggccaaactg ctgggtgcgg aagagaaaga ataccatgca gaaggaggca\\\n",
    "2881 aagtgcctat caagtggatg gcattggaat caattttaca cagaatctat acccaccaga\\\n",
    "2941 gtgatgtctg gagctacggg gtgactgttt gggagttgat gacctttgga tccaagccat\\\n",
    "3001 atgacggaat ccctgccagc gagatctcct ccatcctgga gaaaggagaa cgcctccctc\\\n",
    "3061 agccacccat atgtaccatc gatgtctaca tgatcatggt caagtgctgg atgatagacg\\\n",
    "3121 cagatagtcg cccaaagttc cgtgagttga tcatcgaatt ctccaaaatg gcccgagacc\\\n",
    "3181 cccagcgcta ccttgtcatt cagggggatg aaagaatgca tttgccaagt cctacagact\\\n",
    "3241 ccaacttcta ccgtgccctg atggatgaag aagacatgga cgacgtggtg gatgccgacg\\\n",
    "3301 agtacctcat cccacagcag ggcttcttca gcagcccctc cacgtcacgg actcccctcc\\\n",
    "3361 tgagctctct gagtgcaacc agcaacaatt ccaccgtggc ttgcattgat agaaatgggc\\\n",
    "3421 tgcaaagctg tcccatcaag gaagacagct tcttgcagcg atacagctca gaccccacag\\\n",
    "3481 gcgccttgac tgaggacagc atagacgaca ccttcctccc agtgcctgaa tacataaacc\\\n",
    "3541 agtccgttcc caaaaggccc gctggctctg tgcagaatcc tgtctatcac aatcagcctc\\\n",
    "3601 tgaaccccgc gcccagcaga gacccacact accaggaccc ccacagcact gcagtgggca\\\n",
    "3661 accccgagta tctcaacact gtccagccca cctgtgtcaa cagcacattc gacagccctg\\\n",
    "3721 cccactgggc ccagaaaggc agccaccaaa ttagcctgga caaccctgac taccagcagg\\\n",
    "3781 acttctttcc caaggaagcc aagccaaatg gcatctttaa gggctccaca gctgaaaatg\\\n",
    "3841 cagaatacct aagggtcgcg ccacaaagca gtgaatttat tggagcatga ccacggagga\\\n",
    "3901 tagtatgagc cctaaaaatc cagactcttt cgatacccag gaccaagcca cagcaggtcc\\\n",
    "3961 tccatcccaa cagccatgcc cgcattagct cttagaccca cagactggtt ttgcaacgtt\\\n",
    "4021 tacaccgact agccaggaag tacttccacc tcgggcacat tttgggaagt tgcattcctt\\\n",
    "4081 tgtcttcaaa ctgtgaagca tttacagaaa cgcatccagc aagaatattg tccctttgag\\\n",
    "4141 cagaaattta tctttcaaag aggtatattt gaaaaaaaaa aaaagtatat gtgaggattt\\\n",
    "4201 ttattgattg gggatcttgg agtttttcat tgtcgctatt gatttttact tcaatgggct\\\n",
    "4261 cttccaacaa ggaagaagct tgctggtagc acttgctacc ctgagttcat ccaggcccaa\\\n",
    "4321 ctgtgagcaa ggagcacaag ccacaagtct tccagaggat gcttgattcc agtggttctg\\\n",
    "4381 cttcaaggct tccactgcaa aacactaaag atccaagaag gccttcatgg ccccagcagg\\\n",
    "4441 ccggatcggt actgtatcaa gtcatggcag gtacagtagg ataagccact ctgtcccttc\\\n",
    "4501 ctgggcaaag aagaaacgga ggggatggaa ttcttcctta gacttacttt tgtaaaaatg\\\n",
    "4561 tccccacggt acttactccc cactgatgga ccagtggttt ccagtcatga gcgttagact\\\n",
    "4621 gacttgtttg tcttccattc cattgttttg aaactcagta tgctgcccct gtcttgctgt\\\n",
    "4681 catgaaatca gcaagagagg atgacacatc aaataataac tcggattcca gcccacattg\\\n",
    "4741 gattcatcag catttggacc aatagcccac agctgagaat gtggaatacc taaggatagc\\\n",
    "4801 accgcttttg ttctcgcaaa aacgtatctc ctaatttgag gctcagatga aatgcatcag\\\n",
    "4861 gtcctttggg gcatagatca gaagactaca aaaatgaagc tgctctgaaa tctcctttag\\\n",
    "4921 ccatcacccc aaccccccaa aattagtttg tgttacttat ggaagatagt tttctccttt\\\n",
    "4981 tacttcactt caaaagcttt ttactcaaag agtatatgtt ccctccaggt cagctgcccc\\\n",
    "5041 caaaccccct ccttacgctt tgtcacacaa aaagtgtctc tgccttgagt catctattca\\\n",
    "5101 agcacttaca gctctggcca caacagggca ttttacaggt gcgaatgaca gtagcattat\\\n",
    "5161 gagtagtgtg gaattcaggt agtaaatatg aaactagggt ttgaaattga taatgctttc\\\n",
    "5221 acaacatttg cagatgtttt agaaggaaaa aagttccttc ctaaaataat ttctctacaa\\\n",
    "5281 ttggaagatt ggaagattca gctagttagg agcccacctt ttttcctaat ctgtgtgtgc\\\n",
    "5341 cctgtaacct gactggttaa cagcagtcct ttgtaaacag tgttttaaac tctcctagtc\\\n",
    "5401 aatatccacc ccatccaatt tatcaaggaa gaaatggttc agaaaatatt ttcagcctac\\\n",
    "5461 agttatgttc agtcacacac acatacaaaa tgttcctttt gcttttaaag taatttttga\\\n",
    "5521 ctcccagatc agtcagagcc cctacagcat tgttaagaaa gtatttgatt tttgtctcaa\\\n",
    "5581 tgaaaataaa actatattca tttccactct attatgctct caaatacccc taagcatcta\\\n",
    "5641 tactagcctg gtatgggtat gaaagataca aagataaata aaacatagtc cctgattcta\\\n",
    "5701 agaaattcac aatttagcaa aggaaatgga ctcatagatg ctaaccttaa aacaacgtga\\\n",
    "5761 caaatgccag acaggaccca tcagccaggc actgtgagag cacagagcag ggaggttggg\\\n",
    "5821 tcctgcctga ggagacctgg aagggaggcc tcacaggagg atgaccaggt ctcagtcagc\\\n",
    "5881 ggggaggtgg aaagtgcagg tgcatcaggg gcaccctgac cgaggaaaca gctgccagag\\\n",
    "5941 gcctccactg ctaaagtcca cataaggctg aggtcagtca ccctaaacaa cctgctccct\\\n",
    "6001 ctaagccagg ggatgagctt ggagcatccc acaagttccc taaaagttgc agcccccagg\\\n",
    "6061 gggattttga gctatcatct ctgcacatgc ttagtgagaa gactacacaa catttctaag\\\n",
    "6121 aatctgagat tttatattgt cagttaacca ctttcattat tcattcacct caggacatgc\\\n",
    "6181 agaaatattt cagtcagaac tgggaaacag aaggacctac attctgctgt cacttatgtg\\\n",
    "6241 tcaagaagca gatgatcgat gaggcaggtc agttgtaagt gagtcacatt gtagcattaa\\\n",
    "6301 attctagtat ttttgtagtt tgaaacagta acttaataaa agagcaaaag ctaaaaaaaa\\\n",
    "6361 aaaaaaaaa\"\n",
    "\n",
    "test = PrimerDesign()\n",
    "test.set_dna_sequence(test_sq)\n",
    "print(test.dna_sequence)"
   ]
  },
  {
   "cell_type": "markdown",
   "metadata": {},
   "source": [
    "### Task 3"
   ]
  },
  {
   "cell_type": "markdown",
   "metadata": {},
   "source": [
    "### This method selects a forward and reverse primer at random with a specified length"
   ]
  },
  {
   "cell_type": "code",
   "execution_count": 79,
   "metadata": {},
   "outputs": [],
   "source": [
    "import random \n",
    "\n",
    "class PrimerDesign(PrimerDesign):\n",
    "    \n",
    "    def func_select_random(self, sqtype='forward', length = 20 ):\n",
    "        \n",
    "        '''the length has to be a positive number'''\n",
    "        \n",
    "        if sqtype == 'forward':\n",
    "            output_list = []\n",
    "            start_limit = self.fp_start \n",
    "            end_limit = self.fp_end\n",
    "            #randomly generate a starting position for the primer\n",
    "            #the length of the primer is accounted for in the end limit\n",
    "            start_pos = random.randint(start_limit, end_limit-length)\n",
    "            #generate primer by slicing the dna sequence\n",
    "            self.forward_primer = self.dna_sequence[start_pos:start_pos+length]\n",
    "            return self.forward_primer \n",
    "        \n",
    "        elif sqtype == 'reverse':\n",
    "            start_limit = self.rp_start \n",
    "            end_limit = self.rp_end\n",
    "            start_pos= random.randint(start_limit, end_limit-length)\n",
    "            self.reverse_primer = self.dna_sequence[start_pos: start_pos+length]\n",
    "            return self.reverse_primer"
   ]
  },
  {
   "cell_type": "markdown",
   "metadata": {},
   "source": [
    "#Test Case"
   ]
  },
  {
   "cell_type": "code",
   "execution_count": 80,
   "metadata": {},
   "outputs": [
    {
     "ename": "AttributeError",
     "evalue": "'PrimerDesign' object has no attribute 'func_select_random'",
     "output_type": "error",
     "traceback": [
      "\u001b[0;31m---------------------------------------------------------------------------\u001b[0m",
      "\u001b[0;31mAttributeError\u001b[0m                            Traceback (most recent call last)",
      "\u001b[0;32m<ipython-input-80-e06979df7d1a>\u001b[0m in \u001b[0;36m<module>\u001b[0;34m()\u001b[0m\n\u001b[0;32m----> 1\u001b[0;31m \u001b[0mfp\u001b[0m \u001b[0;34m=\u001b[0m \u001b[0mtest\u001b[0m\u001b[0;34m.\u001b[0m\u001b[0mfunc_select_random\u001b[0m\u001b[0;34m(\u001b[0m\u001b[0;34m'forward'\u001b[0m\u001b[0;34m)\u001b[0m\u001b[0;34m\u001b[0m\u001b[0m\n\u001b[0m\u001b[1;32m      2\u001b[0m \u001b[0mrp\u001b[0m \u001b[0;34m=\u001b[0m \u001b[0mtest\u001b[0m\u001b[0;34m.\u001b[0m\u001b[0mfunc_select_random\u001b[0m\u001b[0;34m(\u001b[0m\u001b[0;34m'reverse'\u001b[0m\u001b[0;34m)\u001b[0m\u001b[0;34m\u001b[0m\u001b[0m\n\u001b[1;32m      3\u001b[0m \u001b[0mprint\u001b[0m\u001b[0;34m(\u001b[0m\u001b[0mfp\u001b[0m\u001b[0;34m)\u001b[0m\u001b[0;34m\u001b[0m\u001b[0m\n\u001b[1;32m      4\u001b[0m \u001b[0mprint\u001b[0m\u001b[0;34m(\u001b[0m\u001b[0mrp\u001b[0m\u001b[0;34m)\u001b[0m\u001b[0;34m\u001b[0m\u001b[0m\n",
      "\u001b[0;31mAttributeError\u001b[0m: 'PrimerDesign' object has no attribute 'func_select_random'"
     ]
    }
   ],
   "source": [
    "fp = test.func_select_random('forward')\n",
    "rp = test.func_select_random('reverse')\n",
    "print(fp)\n",
    "print(rp)"
   ]
  },
  {
   "cell_type": "markdown",
   "metadata": {},
   "source": [
    "### Task 4"
   ]
  },
  {
   "cell_type": "markdown",
   "metadata": {},
   "source": [
    "### This method calculates properties for a given primer string\n",
    "#They are defined in the following order:\n",
    "length, fraction of cg bases, annealing temperature, number of runs and number of repeats"
   ]
  },
  {
   "cell_type": "code",
   "execution_count": 81,
   "metadata": {},
   "outputs": [],
   "source": [
    "class PrimerDesign(PrimerDesign): \n",
    "    \n",
    "    def func_length(self, sq):\n",
    "        return len(sq)\n",
    "    \n",
    "    def func_cg_fraction(self, sq):\n",
    "        count = 0\n",
    "        #checks primer for c & g and adds to the counter\n",
    "        for base in sq:\n",
    "            if base == 'c' or base == 'g':\n",
    "                count+=1\n",
    "        return count/len(sq)\n",
    "    \n",
    "    def func_temperature(self,sq):\n",
    "        #calculates optimal temperature based on number of each base\n",
    "        optimal_temp = 4*(sq.count('c') + sq.count('g')) + 2*(sq.count('a') + sq.count('t'))\n",
    "        return optimal_temp"
   ]
  },
  {
   "cell_type": "markdown",
   "metadata": {},
   "source": [
    "#Test Case"
   ]
  },
  {
   "cell_type": "code",
   "execution_count": 82,
   "metadata": {},
   "outputs": [
    {
     "name": "stdout",
     "output_type": "stream",
     "text": [
      "ccgccgcccagaccggacga\n"
     ]
    },
    {
     "ename": "AttributeError",
     "evalue": "'PrimerDesign' object has no attribute 'func_length'",
     "output_type": "error",
     "traceback": [
      "\u001b[0;31m---------------------------------------------------------------------------\u001b[0m",
      "\u001b[0;31mAttributeError\u001b[0m                            Traceback (most recent call last)",
      "\u001b[0;32m<ipython-input-82-fb3c521170e8>\u001b[0m in \u001b[0;36m<module>\u001b[0;34m()\u001b[0m\n\u001b[1;32m      1\u001b[0m \u001b[0mprint\u001b[0m\u001b[0;34m(\u001b[0m\u001b[0mfp\u001b[0m\u001b[0;34m)\u001b[0m\u001b[0;34m\u001b[0m\u001b[0m\n\u001b[0;32m----> 2\u001b[0;31m \u001b[0mprint\u001b[0m\u001b[0;34m(\u001b[0m\u001b[0mtest\u001b[0m\u001b[0;34m.\u001b[0m\u001b[0mfunc_length\u001b[0m\u001b[0;34m(\u001b[0m\u001b[0mfp\u001b[0m\u001b[0;34m)\u001b[0m\u001b[0;34m)\u001b[0m\u001b[0;34m\u001b[0m\u001b[0m\n\u001b[0m\u001b[1;32m      3\u001b[0m \u001b[0mprint\u001b[0m\u001b[0;34m(\u001b[0m\u001b[0mtest\u001b[0m\u001b[0;34m.\u001b[0m\u001b[0mfunc_cg_fraction\u001b[0m\u001b[0;34m(\u001b[0m\u001b[0mfp\u001b[0m\u001b[0;34m)\u001b[0m\u001b[0;34m)\u001b[0m\u001b[0;34m\u001b[0m\u001b[0m\n\u001b[1;32m      4\u001b[0m \u001b[0mprint\u001b[0m\u001b[0;34m(\u001b[0m\u001b[0mtest\u001b[0m\u001b[0;34m.\u001b[0m\u001b[0mfunc_temperature\u001b[0m\u001b[0;34m(\u001b[0m\u001b[0mfp\u001b[0m\u001b[0;34m)\u001b[0m\u001b[0;34m)\u001b[0m\u001b[0;34m\u001b[0m\u001b[0m\n",
      "\u001b[0;31mAttributeError\u001b[0m: 'PrimerDesign' object has no attribute 'func_length'"
     ]
    }
   ],
   "source": [
    "print(fp)\n",
    "print(test.func_length(fp))\n",
    "print(test.func_cg_fraction(fp))\n",
    "print(test.func_temperature(fp))"
   ]
  },
  {
   "cell_type": "code",
   "execution_count": 83,
   "metadata": {},
   "outputs": [],
   "source": [
    "class PrimerDesign(PrimerDesign):\n",
    "\n",
    "    def func_count_runs(self,sq):\n",
    "        #converts primer string to list\n",
    "        sq_list = [i for i in sq]\n",
    "        runs = 0\n",
    "        count = 0\n",
    "        base = ' '\n",
    "        for i in sq_list:\n",
    "            #adds to count if base is same as previous\n",
    "            if i == base:\n",
    "                count += 1\n",
    "                \n",
    "            else:\n",
    "                if count >= self.run_threshold: #checks if count of previous base run exceeds threshold\n",
    "                    runs += 1 #update number of runs\n",
    "                count = 0 #resets count for new base\n",
    "                base = i #if base different from previous, variable base is changed to current base\n",
    "        if count >= self.run_threshold:\n",
    "            runs += 1\n",
    "        return runs"
   ]
  },
  {
   "cell_type": "markdown",
   "metadata": {},
   "source": [
    "#Test Case"
   ]
  },
  {
   "cell_type": "code",
   "execution_count": 84,
   "metadata": {},
   "outputs": [
    {
     "name": "stdout",
     "output_type": "stream",
     "text": [
      "ccgccgcccagaccggacga\n"
     ]
    },
    {
     "ename": "AttributeError",
     "evalue": "'PrimerDesign' object has no attribute 'func_count_runs'",
     "output_type": "error",
     "traceback": [
      "\u001b[0;31m---------------------------------------------------------------------------\u001b[0m",
      "\u001b[0;31mAttributeError\u001b[0m                            Traceback (most recent call last)",
      "\u001b[0;32m<ipython-input-84-c24ec494bbe2>\u001b[0m in \u001b[0;36m<module>\u001b[0;34m()\u001b[0m\n\u001b[1;32m      1\u001b[0m \u001b[0mprint\u001b[0m\u001b[0;34m(\u001b[0m\u001b[0mfp\u001b[0m\u001b[0;34m)\u001b[0m\u001b[0;34m\u001b[0m\u001b[0m\n\u001b[0;32m----> 2\u001b[0;31m \u001b[0mprint\u001b[0m\u001b[0;34m(\u001b[0m\u001b[0mtest\u001b[0m\u001b[0;34m.\u001b[0m\u001b[0mfunc_count_runs\u001b[0m\u001b[0;34m(\u001b[0m\u001b[0mfp\u001b[0m\u001b[0;34m)\u001b[0m\u001b[0;34m)\u001b[0m\u001b[0;34m\u001b[0m\u001b[0m\n\u001b[0m\u001b[1;32m      3\u001b[0m \u001b[0mx\u001b[0m \u001b[0;34m=\u001b[0m \u001b[0;34m'aaaaabaa'\u001b[0m\u001b[0;34m\u001b[0m\u001b[0m\n\u001b[1;32m      4\u001b[0m \u001b[0mprint\u001b[0m\u001b[0;34m(\u001b[0m\u001b[0mx\u001b[0m\u001b[0;34m)\u001b[0m\u001b[0;34m\u001b[0m\u001b[0m\n\u001b[1;32m      5\u001b[0m \u001b[0mprint\u001b[0m\u001b[0;34m(\u001b[0m\u001b[0mtest\u001b[0m\u001b[0;34m.\u001b[0m\u001b[0mfunc_count_runs\u001b[0m\u001b[0;34m(\u001b[0m\u001b[0mx\u001b[0m\u001b[0;34m)\u001b[0m\u001b[0;34m)\u001b[0m\u001b[0;34m\u001b[0m\u001b[0m\n",
      "\u001b[0;31mAttributeError\u001b[0m: 'PrimerDesign' object has no attribute 'func_count_runs'"
     ]
    }
   ],
   "source": [
    "print(fp)\n",
    "print(test.func_count_runs(fp))\n",
    "x = 'aaaaabaa'\n",
    "print(x)\n",
    "print(test.func_count_runs(x))\n",
    "y = 'aattttcccccggggg'\n",
    "print(y)\n",
    "print(test.func_count_runs(y))"
   ]
  },
  {
   "cell_type": "code",
   "execution_count": 85,
   "metadata": {
    "tags": [
     "Celine's"
    ]
   },
   "outputs": [],
   "source": [
    "class PrimerDesign(PrimerDesign):\n",
    "    def func_count_repeats(self,sq):\n",
    "        di_repeats = ['at','ac','ag','ca','ct','cg','ga','gt','gc','ta','tc','tg']\n",
    "        repeats = 0\n",
    "        count = 0\n",
    "\n",
    "        for i in di_repeats:\n",
    "            #makes a copy of primer sequence\n",
    "            x = sq[:]\n",
    "            while len(x)>= 2:\n",
    "                #if first 2 characters of sequence is same as di_repeat\n",
    "                if x[0] + x[1] == i:\n",
    "                    while len(x) >= 2 and x[0] + x[1] == i:\n",
    "                        count += 1 #adds to count\n",
    "                        x = x[2:] #removes first 2 characters\n",
    "                    \n",
    "                    #when encounter something that is not the di_repeat checked for, checks if theres a repeat\n",
    "                    if count > 1:\n",
    "                        repeats += count - 1\n",
    "                    count = 0\n",
    "\n",
    "                    #after encountering the first di_repeat in sequence if not di_repeat, remove first 1 character\n",
    "                    while len(x) >= 2 and x[0] + x[1] != i:\n",
    "                        x = x[1:]\n",
    "                \n",
    "                #before encountering first di_repeat\n",
    "                else:\n",
    "                    x = x[1:]\n",
    "                    \n",
    "            #when finish checking for sequence for a di_rpeeat, checks if last part has repeats        \n",
    "            if count > 1:\n",
    "                repeats += count -1\n",
    "            count = 0\n",
    "            \n",
    "        return repeats"
   ]
  },
  {
   "cell_type": "markdown",
   "metadata": {},
   "source": [
    "#Test Case"
   ]
  },
  {
   "cell_type": "code",
   "execution_count": 86,
   "metadata": {},
   "outputs": [
    {
     "name": "stdout",
     "output_type": "stream",
     "text": [
      "4\n",
      "8\n",
      "7\n"
     ]
    }
   ],
   "source": [
    "x = 'atatatcgtata'\n",
    "y = 'acacacttcgcgcgcg'\n",
    "z = 'gtacacacttacacacag'\n",
    "test = PrimerDesign()\n",
    "print(test.func_count_repeats(x))\n",
    "print(test.func_count_repeats(y))\n",
    "print(test.func_count_repeats(z))"
   ]
  },
  {
   "cell_type": "markdown",
   "metadata": {},
   "source": [
    "### Task 5"
   ]
  },
  {
   "cell_type": "markdown",
   "metadata": {},
   "source": [
    "### This method calculates the cost for each criteria"
   ]
  },
  {
   "cell_type": "code",
   "execution_count": 87,
   "metadata": {},
   "outputs": [],
   "source": [
    "class PrimerDesign(PrimerDesign):\n",
    "    \n",
    "    def cost_length(self, sq):\n",
    "        '''This is given to you as an example '''\n",
    "        sq_len = len(sq)\n",
    "        if(sq_len > self.max_length):\n",
    "            return (sq_len - self.max_length)*self.penalty_length\n",
    "        elif(sq_len > self.min_length):\n",
    "            return 0\n",
    "        else:\n",
    "            return (self.min_length - sq_len)*self.penalty_length \n",
    "    \n",
    "    def cost_temperature(self, sq):\n",
    "        temp = self.func_temperature(sq)\n",
    "        if temp > self.max_temp:\n",
    "            cost_temp = self.penalty_temp*(temp-self.max_temp)\n",
    "        elif temp > self.min_temp:\n",
    "            cost_temp = 0\n",
    "        else:\n",
    "            cost_temp = self.penalty_temp*(self.min_temp-temp)\n",
    "        return cost_temp\n",
    "        \n",
    "    def cost_cgcontent(self,sq):\n",
    "        cg_content = self.func_cg_fraction(sq)\n",
    "        if cg_content > 0.6:\n",
    "            cost_cgcontent = self.penalty_cg*(cg_content-0.6)\n",
    "        elif cg_content >= 0.4:\n",
    "            cost_cgcontent = 0\n",
    "        else:\n",
    "            cost_cgcontent = self.penalty_cg*(0.4-cg_content)\n",
    "        return cost_cgcontent\n",
    "        \n",
    "    def cost_temperature_difference(self, fp, rp):\n",
    "        temp_fp = self.func_temperature(fp)\n",
    "        temp_rp = self.func_temperature(rp)\n",
    "        temp_diff = abs(temp_fp-temp_rp)\n",
    "        if temp_diff > self.max_tdiff:\n",
    "            cost_temp_diff = self.penalty_tdiff*(temp_diff-self.max_tdiff)\n",
    "        else:\n",
    "            cost_temp_diff = 0\n",
    "        return cost_temp_diff\n",
    "    \n",
    "    def cost_specificity(self, sq):\n",
    "        return self.penalty_specificity*(self.dna_sequence.count(sq)-1)\n",
    "    \n",
    "    def cost_runs(self, sq):\n",
    "        return self.func_count_runs(sq) * self.penalty_runs\n",
    "    \n",
    "    def cost_repeats(self,sq):\n",
    "        return self.func_count_repeats(sq) * self.penalty_repeats"
   ]
  },
  {
   "cell_type": "markdown",
   "metadata": {},
   "source": [
    "### Task 6"
   ]
  },
  {
   "cell_type": "markdown",
   "metadata": {},
   "source": [
    "### This method sums the cost for each criteria for both primers"
   ]
  },
  {
   "cell_type": "code",
   "execution_count": 88,
   "metadata": {},
   "outputs": [],
   "source": [
    "class PrimerDesign(PrimerDesign):\n",
    "    \n",
    "    def cost_objective_function(self, fp, rp):\n",
    "        '''complete the calculation of the cost'''\n",
    "        \n",
    "        cost_fp = self.cost_length(fp) + self.cost_temperature(fp) + self.cost_cgcontent(fp) + self.cost_specificity(fp) + self.cost_runs(fp) + self.cost_repeats(fp)\n",
    "        cost_rp = self.cost_length(rp) + self.cost_temperature(rp) + self.cost_cgcontent(rp) + self.cost_specificity(rp) + self.cost_runs(rp) + self.cost_repeats(rp)\n",
    "        total_cost = cost_fp + cost_rp + self.cost_temperature_difference(fp,rp)\n",
    "        return total_cost "
   ]
  },
  {
   "cell_type": "markdown",
   "metadata": {},
   "source": [
    "#Test Case"
   ]
  },
  {
   "cell_type": "code",
   "execution_count": 89,
   "metadata": {},
   "outputs": [
    {
     "name": "stdout",
     "output_type": "stream",
     "text": [
      "{'max_length': 22, 'min_length': 18, 'penalty_length': 10, 'max_tdiff': 15, 'min_tdiff': -5, 'penalty_tdiff': 10, 'max_cg': 0.6, 'min_cg': 0.4, 'penalty_cg': 10, 'max_temp': 65, 'min_temp': 50, 'penalty_temp': 10, 'run_threshold': 4, 'penalty_runs': 10, 'repeat_threshold': 2, 'penalty_repeats': 10, 'penalty_specificity': 10, 'fp_start': 100, 'fp_end': 200, 'rp_start': 300, 'rp_end': 400, 'initial_temperature': 200, 'stopping_temperature': 0.01, 'drop_fraction': 0.999}\n"
     ]
    },
    {
     "ename": "AttributeError",
     "evalue": "'PrimerDesign' object has no attribute 'cost_objective_function'",
     "output_type": "error",
     "traceback": [
      "\u001b[0;31m---------------------------------------------------------------------------\u001b[0m",
      "\u001b[0;31mAttributeError\u001b[0m                            Traceback (most recent call last)",
      "\u001b[0;32m<ipython-input-89-ce7d0ac6b29a>\u001b[0m in \u001b[0;36m<module>\u001b[0;34m()\u001b[0m\n\u001b[1;32m      1\u001b[0m \u001b[0mprint\u001b[0m\u001b[0;34m(\u001b[0m\u001b[0mtest\u001b[0m\u001b[0;34m.\u001b[0m\u001b[0m__dict__\u001b[0m\u001b[0;34m)\u001b[0m\u001b[0;34m\u001b[0m\u001b[0m\n\u001b[0;32m----> 2\u001b[0;31m \u001b[0mprint\u001b[0m\u001b[0;34m(\u001b[0m\u001b[0mtest\u001b[0m\u001b[0;34m.\u001b[0m\u001b[0mcost_objective_function\u001b[0m\u001b[0;34m(\u001b[0m\u001b[0mfp\u001b[0m\u001b[0;34m,\u001b[0m\u001b[0mrp\u001b[0m\u001b[0;34m)\u001b[0m\u001b[0;34m)\u001b[0m\u001b[0;34m\u001b[0m\u001b[0m\n\u001b[0m",
      "\u001b[0;31mAttributeError\u001b[0m: 'PrimerDesign' object has no attribute 'cost_objective_function'"
     ]
    }
   ],
   "source": [
    "print(test.__dict__)\n",
    "print(test.cost_objective_function(fp,rp))"
   ]
  },
  {
   "cell_type": "markdown",
   "metadata": {},
   "source": [
    "### Task 7"
   ]
  },
  {
   "cell_type": "markdown",
   "metadata": {},
   "source": [
    "### This method prints a receipt of the cost of producing the randomly selected forward and reverse primers"
   ]
  },
  {
   "cell_type": "code",
   "execution_count": 90,
   "metadata": {},
   "outputs": [],
   "source": [
    "class PrimerDesign(PrimerDesign):\n",
    "    \n",
    "    def cost_objective_function_info(self, fp, rp):\n",
    "        Criterion = ['length','annealing temperature', '%cg_content','specificity','runs','repeats']\n",
    "        F_Cost = [self.func_length(fp), self.func_temperature(fp), self.cost_cgcontent(fp), self.cost_specificity(fp), self.cost_runs(fp), self.cost_repeats(fp)]\n",
    "        F_Criterion_Met = ['True' if i==0 else 'False' for i in F_Cost]\n",
    "        \n",
    "        R_Cost = [self.func_length(rp), self.func_temperature(rp), self.cost_cgcontent(rp), self.cost_specificity(rp), self.cost_runs(rp), self.cost_repeats(rp)]\n",
    "        R_Criterion_Met = ['True' if i==0 else 'False' for i in R_Cost]\n",
    "\n",
    "        line = '{:<80}'.format('===Forward Primer=== {}'.format(fp)) + '\\n' \n",
    "        line += '{:<25}'.format('Criterion') + '{:>25}'.format('Cost Function Score') + '{:>30}'.format('Criteria Met') + '\\n' \n",
    "        line += '-'*80 + '\\n'\n",
    "        line += '{:<25}'.format(Criterion[0]) + '{:>25}'.format('{0:.3f}'.format(F_Cost[0])) + '{:>30}'.format(F_Criterion_Met[0]) + '\\n'\n",
    "        line += '{:<25}'.format(Criterion[1]) + '{:>25}'.format('{0:.3f}'.format(F_Cost[1])) + '{:>30}'.format(F_Criterion_Met[1]) + '\\n'\n",
    "        line += '{:<25}'.format(Criterion[2]) + '{:>25}'.format('{0:.3f}'.format(F_Cost[2])) + '{:>30}'.format(F_Criterion_Met[2]) + '\\n'\n",
    "        line += '{:<25}'.format(Criterion[3]) + '{:>25}'.format('{0:.3f}'.format(F_Cost[3])) + '{:>30}'.format(F_Criterion_Met[3]) + '\\n'\n",
    "        line += '{:<25}'.format(Criterion[4]) + '{:>25}'.format('{0:.3f}'.format(F_Cost[4])) + '{:>30}'.format(F_Criterion_Met[4]) + '\\n'\n",
    "        line += '{:<25}'.format(Criterion[5]) + '{:>25}'.format('{0:.3f}'.format(F_Cost[5])) + '{:>30}'.format(F_Criterion_Met[5]) + '\\n'\n",
    "        line += '\\n'\n",
    "\n",
    "        line += '{:<50}'.format('===Reverse Primer=== {}'.format(rp)) + '\\n' \n",
    "        line += '{:<25}'.format('Criterion') + '{:>25}'.format('Cost Function Score') + '{:>30}'.format('Criteria Met') + '\\n' \n",
    "        line += '-'*80 + '\\n'\n",
    "        line += '{:<25}'.format(Criterion[0]) + '{:>25}'.format('{0:.3f}'.format(R_Cost[0])) + '{:>30}'.format(R_Criterion_Met[0]) + '\\n'\n",
    "        line += '{:<25}'.format(Criterion[1]) + '{:>25}'.format('{0:.3f}'.format(R_Cost[1])) + '{:>30}'.format(R_Criterion_Met[1]) + '\\n'\n",
    "        line += '{:<25}'.format(Criterion[2]) + '{:>25}'.format('{0:.3f}'.format(R_Cost[2])) + '{:>30}'.format(R_Criterion_Met[2]) + '\\n'\n",
    "        line += '{:<25}'.format(Criterion[3]) + '{:>25}'.format('{0:.3f}'.format(R_Cost[3])) + '{:>30}'.format(R_Criterion_Met[3]) + '\\n'\n",
    "        line += '{:<25}'.format(Criterion[4]) + '{:>25}'.format('{0:.3f}'.format(R_Cost[4])) + '{:>30}'.format(R_Criterion_Met[4]) + '\\n'\n",
    "        line += '{:<25}'.format(Criterion[5]) + '{:>25}'.format('{0:.3f}'.format(R_Cost[5])) + '{:>30}'.format(R_Criterion_Met[5]) + '\\n'\n",
    "        line += '\\n'\n",
    "\n",
    "        line += '{:<25}'.format('Temperature Difference') + '{:>25}'.format('{0:.3f}'.format(self.cost_objective_function(fp,rp))) + '\\n'\n",
    "        \n",
    "        print (line)"
   ]
  },
  {
   "cell_type": "code",
   "execution_count": 91,
   "metadata": {},
   "outputs": [
    {
     "ename": "AttributeError",
     "evalue": "'PrimerDesign' object has no attribute 'cost_objective_function_info'",
     "output_type": "error",
     "traceback": [
      "\u001b[0;31m---------------------------------------------------------------------------\u001b[0m",
      "\u001b[0;31mAttributeError\u001b[0m                            Traceback (most recent call last)",
      "\u001b[0;32m<ipython-input-91-9e61035c9704>\u001b[0m in \u001b[0;36m<module>\u001b[0;34m()\u001b[0m\n\u001b[0;32m----> 1\u001b[0;31m \u001b[0mtest\u001b[0m\u001b[0;34m.\u001b[0m\u001b[0mcost_objective_function_info\u001b[0m\u001b[0;34m(\u001b[0m\u001b[0mfp\u001b[0m\u001b[0;34m,\u001b[0m\u001b[0mrp\u001b[0m\u001b[0;34m)\u001b[0m\u001b[0;34m\u001b[0m\u001b[0m\n\u001b[0m",
      "\u001b[0;31mAttributeError\u001b[0m: 'PrimerDesign' object has no attribute 'cost_objective_function_info'"
     ]
    }
   ],
   "source": [
    "test.cost_objective_function_info(fp,rp)"
   ]
  },
  {
   "cell_type": "markdown",
   "metadata": {},
   "source": [
    "### This method uses pandas to print a similar receipt"
   ]
  },
  {
   "cell_type": "code",
   "execution_count": 92,
   "metadata": {},
   "outputs": [],
   "source": [
    "def color_false(s):\n",
    "    if s == 'False':\n",
    "        color = 'red'\n",
    "    elif s == 'True':\n",
    "        color = 'green'\n",
    "    else:\n",
    "        color = 'black'\n",
    "    return 'color: %s' % color"
   ]
  },
  {
   "cell_type": "code",
   "execution_count": 93,
   "metadata": {},
   "outputs": [],
   "source": [
    "import pandas as pd\n",
    "\n",
    "class PrimerDesign(PrimerDesign):\n",
    "    \n",
    "    def cost_objective_function_info(self, fp, rp):\n",
    "        Criterion = ['length','annealing temperature', '%cg_content','specificity','runs','repeats']\n",
    "        F_Cost = [self.func_length(fp),\n",
    "                  self.func_temperature(fp),\n",
    "                  self.cost_cgcontent(fp),\n",
    "                  self.cost_specificity(fp),\n",
    "                  self.cost_runs(fp),\n",
    "                  self.cost_repeats(fp)]\n",
    "        F_Criterion_Met = ['True' if i==0 else 'False' for i in F_Cost]\n",
    "        F_Primer = {'Criterion': Criterion, \n",
    "                    'Cost Function Score': pd.Series(['{0:.3f}'.format(i) for i in F_Cost], index=[i for i in range(1,7)]), \n",
    "                    'Criterion Met':F_Criterion_Met}\n",
    "        \n",
    "        R_Cost = [self.func_length(rp),\n",
    "                  self.func_temperature(rp),\n",
    "                  self.cost_cgcontent(rp),\n",
    "                  self.cost_specificity(rp),\n",
    "                  self.cost_runs(rp),\n",
    "                  self.cost_repeats(rp)]\n",
    "        R_Criterion_Met = ['True' if i==0 else 'False' for i in R_Cost]\n",
    "        R_Primer = {'Criterion': Criterion, \n",
    "                    'Cost Function Score': pd.Series(['{0:.3f}'.format(i) for i in R_Cost], index=[i for i in range(1,7)]), \n",
    "                    'Criterion Met':R_Criterion_Met}\n",
    "        return (F_Primer, R_Primer)"
   ]
  },
  {
   "cell_type": "code",
   "execution_count": 94,
   "metadata": {},
   "outputs": [
    {
     "name": "stdout",
     "output_type": "stream",
     "text": [
      "Forward Primer\n"
     ]
    },
    {
     "ename": "AttributeError",
     "evalue": "'PrimerDesign' object has no attribute 'cost_objective_function_info'",
     "output_type": "error",
     "traceback": [
      "\u001b[0;31m---------------------------------------------------------------------------\u001b[0m",
      "\u001b[0;31mAttributeError\u001b[0m                            Traceback (most recent call last)",
      "\u001b[0;32m<ipython-input-94-92f5b338e836>\u001b[0m in \u001b[0;36m<module>\u001b[0;34m()\u001b[0m\n\u001b[1;32m      1\u001b[0m \u001b[0mprint\u001b[0m\u001b[0;34m(\u001b[0m\u001b[0;34m'Forward Primer'\u001b[0m\u001b[0;34m)\u001b[0m\u001b[0;34m\u001b[0m\u001b[0m\n\u001b[0;32m----> 2\u001b[0;31m \u001b[0mpd\u001b[0m\u001b[0;34m.\u001b[0m\u001b[0mDataFrame\u001b[0m\u001b[0;34m.\u001b[0m\u001b[0mfrom_dict\u001b[0m\u001b[0;34m(\u001b[0m\u001b[0mtest\u001b[0m\u001b[0;34m.\u001b[0m\u001b[0mcost_objective_function_info\u001b[0m\u001b[0;34m(\u001b[0m\u001b[0mfp\u001b[0m\u001b[0;34m,\u001b[0m\u001b[0mrp\u001b[0m\u001b[0;34m)\u001b[0m\u001b[0;34m[\u001b[0m\u001b[0;36m0\u001b[0m\u001b[0;34m]\u001b[0m\u001b[0;34m)\u001b[0m\u001b[0;34m[\u001b[0m\u001b[0;34m[\u001b[0m\u001b[0;34m'Criterion'\u001b[0m\u001b[0;34m,\u001b[0m \u001b[0;34m'Cost Function Score'\u001b[0m\u001b[0;34m,\u001b[0m \u001b[0;34m'Criterion Met'\u001b[0m\u001b[0;34m]\u001b[0m\u001b[0;34m]\u001b[0m\u001b[0;34m.\u001b[0m\u001b[0mstyle\u001b[0m\u001b[0;34m.\u001b[0m\u001b[0mapplymap\u001b[0m\u001b[0;34m(\u001b[0m\u001b[0mcolor_false\u001b[0m\u001b[0;34m)\u001b[0m\u001b[0;34m\u001b[0m\u001b[0m\n\u001b[0m",
      "\u001b[0;31mAttributeError\u001b[0m: 'PrimerDesign' object has no attribute 'cost_objective_function_info'"
     ]
    }
   ],
   "source": [
    "print('Forward Primer')\n",
    "pd.DataFrame.from_dict(test.cost_objective_function_info(fp,rp)[0])[['Criterion', 'Cost Function Score', 'Criterion Met']].style.applymap(color_false)"
   ]
  },
  {
   "cell_type": "code",
   "execution_count": 95,
   "metadata": {},
   "outputs": [
    {
     "name": "stdout",
     "output_type": "stream",
     "text": [
      "Reverse Primer\n"
     ]
    },
    {
     "ename": "AttributeError",
     "evalue": "'PrimerDesign' object has no attribute 'cost_objective_function_info'",
     "output_type": "error",
     "traceback": [
      "\u001b[0;31m---------------------------------------------------------------------------\u001b[0m",
      "\u001b[0;31mAttributeError\u001b[0m                            Traceback (most recent call last)",
      "\u001b[0;32m<ipython-input-95-036bcf7492fd>\u001b[0m in \u001b[0;36m<module>\u001b[0;34m()\u001b[0m\n\u001b[1;32m      1\u001b[0m \u001b[0mprint\u001b[0m\u001b[0;34m(\u001b[0m\u001b[0;34m'Reverse Primer'\u001b[0m\u001b[0;34m)\u001b[0m\u001b[0;34m\u001b[0m\u001b[0m\n\u001b[0;32m----> 2\u001b[0;31m \u001b[0mpd\u001b[0m\u001b[0;34m.\u001b[0m\u001b[0mDataFrame\u001b[0m\u001b[0;34m.\u001b[0m\u001b[0mfrom_dict\u001b[0m\u001b[0;34m(\u001b[0m\u001b[0mtest\u001b[0m\u001b[0;34m.\u001b[0m\u001b[0mcost_objective_function_info\u001b[0m\u001b[0;34m(\u001b[0m\u001b[0mfp\u001b[0m\u001b[0;34m,\u001b[0m\u001b[0mrp\u001b[0m\u001b[0;34m)\u001b[0m\u001b[0;34m[\u001b[0m\u001b[0;36m1\u001b[0m\u001b[0;34m]\u001b[0m\u001b[0;34m)\u001b[0m\u001b[0;34m[\u001b[0m\u001b[0;34m[\u001b[0m\u001b[0;34m'Criterion'\u001b[0m\u001b[0;34m,\u001b[0m \u001b[0;34m'Cost Function Score'\u001b[0m\u001b[0;34m,\u001b[0m \u001b[0;34m'Criterion Met'\u001b[0m\u001b[0;34m]\u001b[0m\u001b[0;34m]\u001b[0m\u001b[0;34m.\u001b[0m\u001b[0mstyle\u001b[0m\u001b[0;34m.\u001b[0m\u001b[0mapplymap\u001b[0m\u001b[0;34m(\u001b[0m\u001b[0mcolor_false\u001b[0m\u001b[0;34m)\u001b[0m\u001b[0;34m\u001b[0m\u001b[0m\n\u001b[0m",
      "\u001b[0;31mAttributeError\u001b[0m: 'PrimerDesign' object has no attribute 'cost_objective_function_info'"
     ]
    }
   ],
   "source": [
    "print('Reverse Primer')\n",
    "pd.DataFrame.from_dict(test.cost_objective_function_info(fp,rp)[1])[['Criterion', 'Cost Function Score', 'Criterion Met']].style.applymap(color_false)"
   ]
  },
  {
   "cell_type": "markdown",
   "metadata": {},
   "source": [
    "# Run all them functions\n",
    "\n",
    "### Create the String"
   ]
  },
  {
   "cell_type": "code",
   "execution_count": 96,
   "metadata": {},
   "outputs": [],
   "source": [
    "test_sq = \"1 gtccgggcag cccccggcgc agcgcggccg cagcagcctc cgccccccgc acggtgtgag\\\n",
    "61 cgcccgacgc ggccgaggcg gccggagtcc cgagctagcc ccggcggccg ccgccgccca\\\n",
    "121 gaccggacga caggccacct cgtcggcgtc cgcccgagtc cccgcctcgc cgccaacgcc\\\n",
    "181 acaaccaccg cgcacggccc cctgactccg tccagtattg atcgggagag ccggagcgag\\\n",
    "241 ctcttcgggg agcagcgatg cgaccctccg ggacggccgg ggcagcgctc ctggcgctgc\\\n",
    "301 tggctgcgct ctgcccggcg agtcgggctc tggaggaaaa gaaagtttgc caaggcacga\\\n",
    "361 gtaacaagct cacgcagttg ggcacttttg aagatcattt tctcagcctc cagaggatgt\\\n",
    "421 tcaataactg tgaggtggtc cttgggaatt tggaaattac ctatgtgcag aggaattatg\\\n",
    "481 atctttcctt cttaaagacc atccaggagg tggctggtta tgtcctcatt gccctcaaca\\\n",
    "541 cagtggagcg aattcctttg gaaaacctgc agatcatcag aggaaatatg tactacgaaa\\\n",
    "601 attcctatgc cttagcagtc ttatctaact atgatgcaaa taaaaccgga ctgaaggagc\\\n",
    "661 tgcccatgag aaatttacag gaaatcctgc atggcgccgt gcggttcagc aacaaccctg\\\n",
    "721 ccctgtgcaa cgtggagagc atccagtggc gggacatagt cagcagtgac tttctcagca\\\n",
    "781 acatgtcgat ggacttccag aaccacctgg gcagctgcca aaagtgtgat ccaagctgtc\\\n",
    "841 ccaatgggag ctgctggggt gcaggagagg agaactgcca gaaactgacc aaaatcatct\\\n",
    "901 gtgcccagca gtgctccggg cgctgccgtg gcaagtcccc cagtgactgc tgccacaacc\\\n",
    "961 agtgtgctgc aggctgcaca ggccccatgg agagcgactg cctggtctgc cgcaaattcc\\\n",
    "1021 gagacgaagc cacgtgcaag gacacctgcc ccccactcat gctctacaac cccaccacgt\\\n",
    "1081 accagatgga tgtgaacccc gagggcaaat acagctttgg tgccacctgc gtgaagaagt\\\n",
    "1141 gtccccgtaa ttatgtggtg acagatcacg gctcgtgcgt ccgagcctgt ggggccgaca\\\n",
    "1201 gctatgagat ggaggaagac ggcgtccgca agtgtaagaa gtgcgaaggg ccttgccgca\\\n",
    "1261 aagtgtgtaa cggaataggt attggtgaat ttaaagactc actctccata aatgctacga\\\n",
    "1321 atattaaaca cttcaaaaac tgcacctcca tcagtggcga tctccacatc ctgccggtgg\\\n",
    "1381 catttagggg tgactccttc acacatactc ctcctctgga tccacaggaa ctggatattc\\\n",
    "1441 tgaaaaccgt aaaggaaatc acagggtttt tgctgattca ggcttggcct gaaaacagga\\\n",
    "1501 cggacctcca tgcctttgag aacctagaaa tcatacgcgg caggaccaag caacatggtc\\\n",
    "1561 agttttctct tgcagtcgtc agcctgaaca taacatcctt gggattacgc tccctcaagg\\\n",
    "1621 agataagtga tggagatgtg ataatttcag gaaacaaaaa tttgtgctat gcaaatacaa\\\n",
    "1681 taaactggaa aaaactgttt gggacctccg gtcagaaaac caaaattata agcaacagag\\\n",
    "1741 gtgaaaacag ctgcaaggcc acaggccagg tctgccatgc cttgtgctcc cccgagggct\\\n",
    "1801 gctggggccc ggagcccagg gactgcgtct cttgccggaa tgtcagccga ggcagggaat\\\n",
    "1861 gcgtggacaa gtgcaacctt ctggagggtg agccaaggga gtttgtggag aactctgagt\\\n",
    "1921 gcatacagtg ccacccagag tgcctgcctc aggccatgaa catcacctgc acaggacggg\\\n",
    "1981 gaccagacaa ctgtatccag tgtgcccact acattgacgg cccccactgc gtcaagacct\\\n",
    "2041 gcccggcagg agtcatggga gaaaacaaca ccctggtctg gaagtacgca gacgcttgcc\\\n",
    "2101 atgtgtgcca cctgtgccat ccaaactgca cctacggatg cactgggcca ggtcttgaag\\\n",
    "2161 gctgtccaac gaatgggcct aagatcccgt ccatcgccac tgggatggtg ggggccctcc\\\n",
    "2221 tcttgctgct ggtggtggcc ctggggatcg gcctcttcat gcgaaggcgc cacatcgttc\\\n",
    "2281 ggaagcgcac gctgcggagg ctgctgcagg agagggagct tgtggagcct cttacaccca\\\n",
    "2341 gtggagaagc tcccaaccaa gctctcttga ggatcttgaa ggaaactgaa ttcaaaaaga\\\n",
    "2401 tcaaagtgct gggctccggt gcgttcggca cggtgtataa gggactctgg atcccagaag\\\n",
    "2461 gtgagaaagt taaaattccc gtcgctatca aggaattaag agaagcaaca tctccgaaag\\\n",
    "2521 ccaacaagga aatcctcgat gaagcctacg tgatggccag cgtggacaac ccccacgtgt\\\n",
    "2581 gccgcctgct gggcatctgc ctcacctcca ccgtgcagct catcacgcag ctcatgccct\\\n",
    "2641 tcggctgcct cctggactat gtccgggaac acaaagacaa tattggctcc cagtacctgc\\\n",
    "2701 tcaactggtg tgtgcagatc gcaaagggca tgaactactt ggaggaccgt cgcttggtgc\\\n",
    "2761 accgcgacct ggcagccagg aacgtactgg tgaaaacacc gcagcatgtc aagatcacag\\\n",
    "2821 attttgggct ggccaaactg ctgggtgcgg aagagaaaga ataccatgca gaaggaggca\\\n",
    "2881 aagtgcctat caagtggatg gcattggaat caattttaca cagaatctat acccaccaga\\\n",
    "2941 gtgatgtctg gagctacggg gtgactgttt gggagttgat gacctttgga tccaagccat\\\n",
    "3001 atgacggaat ccctgccagc gagatctcct ccatcctgga gaaaggagaa cgcctccctc\\\n",
    "3061 agccacccat atgtaccatc gatgtctaca tgatcatggt caagtgctgg atgatagacg\\\n",
    "3121 cagatagtcg cccaaagttc cgtgagttga tcatcgaatt ctccaaaatg gcccgagacc\\\n",
    "3181 cccagcgcta ccttgtcatt cagggggatg aaagaatgca tttgccaagt cctacagact\\\n",
    "3241 ccaacttcta ccgtgccctg atggatgaag aagacatgga cgacgtggtg gatgccgacg\\\n",
    "3301 agtacctcat cccacagcag ggcttcttca gcagcccctc cacgtcacgg actcccctcc\\\n",
    "3361 tgagctctct gagtgcaacc agcaacaatt ccaccgtggc ttgcattgat agaaatgggc\\\n",
    "3421 tgcaaagctg tcccatcaag gaagacagct tcttgcagcg atacagctca gaccccacag\\\n",
    "3481 gcgccttgac tgaggacagc atagacgaca ccttcctccc agtgcctgaa tacataaacc\\\n",
    "3541 agtccgttcc caaaaggccc gctggctctg tgcagaatcc tgtctatcac aatcagcctc\\\n",
    "3601 tgaaccccgc gcccagcaga gacccacact accaggaccc ccacagcact gcagtgggca\\\n",
    "3661 accccgagta tctcaacact gtccagccca cctgtgtcaa cagcacattc gacagccctg\\\n",
    "3721 cccactgggc ccagaaaggc agccaccaaa ttagcctgga caaccctgac taccagcagg\\\n",
    "3781 acttctttcc caaggaagcc aagccaaatg gcatctttaa gggctccaca gctgaaaatg\\\n",
    "3841 cagaatacct aagggtcgcg ccacaaagca gtgaatttat tggagcatga ccacggagga\\\n",
    "3901 tagtatgagc cctaaaaatc cagactcttt cgatacccag gaccaagcca cagcaggtcc\\\n",
    "3961 tccatcccaa cagccatgcc cgcattagct cttagaccca cagactggtt ttgcaacgtt\\\n",
    "4021 tacaccgact agccaggaag tacttccacc tcgggcacat tttgggaagt tgcattcctt\\\n",
    "4081 tgtcttcaaa ctgtgaagca tttacagaaa cgcatccagc aagaatattg tccctttgag\\\n",
    "4141 cagaaattta tctttcaaag aggtatattt gaaaaaaaaa aaaagtatat gtgaggattt\\\n",
    "4201 ttattgattg gggatcttgg agtttttcat tgtcgctatt gatttttact tcaatgggct\\\n",
    "4261 cttccaacaa ggaagaagct tgctggtagc acttgctacc ctgagttcat ccaggcccaa\\\n",
    "4321 ctgtgagcaa ggagcacaag ccacaagtct tccagaggat gcttgattcc agtggttctg\\\n",
    "4381 cttcaaggct tccactgcaa aacactaaag atccaagaag gccttcatgg ccccagcagg\\\n",
    "4441 ccggatcggt actgtatcaa gtcatggcag gtacagtagg ataagccact ctgtcccttc\\\n",
    "4501 ctgggcaaag aagaaacgga ggggatggaa ttcttcctta gacttacttt tgtaaaaatg\\\n",
    "4561 tccccacggt acttactccc cactgatgga ccagtggttt ccagtcatga gcgttagact\\\n",
    "4621 gacttgtttg tcttccattc cattgttttg aaactcagta tgctgcccct gtcttgctgt\\\n",
    "4681 catgaaatca gcaagagagg atgacacatc aaataataac tcggattcca gcccacattg\\\n",
    "4741 gattcatcag catttggacc aatagcccac agctgagaat gtggaatacc taaggatagc\\\n",
    "4801 accgcttttg ttctcgcaaa aacgtatctc ctaatttgag gctcagatga aatgcatcag\\\n",
    "4861 gtcctttggg gcatagatca gaagactaca aaaatgaagc tgctctgaaa tctcctttag\\\n",
    "4921 ccatcacccc aaccccccaa aattagtttg tgttacttat ggaagatagt tttctccttt\\\n",
    "4981 tacttcactt caaaagcttt ttactcaaag agtatatgtt ccctccaggt cagctgcccc\\\n",
    "5041 caaaccccct ccttacgctt tgtcacacaa aaagtgtctc tgccttgagt catctattca\\\n",
    "5101 agcacttaca gctctggcca caacagggca ttttacaggt gcgaatgaca gtagcattat\\\n",
    "5161 gagtagtgtg gaattcaggt agtaaatatg aaactagggt ttgaaattga taatgctttc\\\n",
    "5221 acaacatttg cagatgtttt agaaggaaaa aagttccttc ctaaaataat ttctctacaa\\\n",
    "5281 ttggaagatt ggaagattca gctagttagg agcccacctt ttttcctaat ctgtgtgtgc\\\n",
    "5341 cctgtaacct gactggttaa cagcagtcct ttgtaaacag tgttttaaac tctcctagtc\\\n",
    "5401 aatatccacc ccatccaatt tatcaaggaa gaaatggttc agaaaatatt ttcagcctac\\\n",
    "5461 agttatgttc agtcacacac acatacaaaa tgttcctttt gcttttaaag taatttttga\\\n",
    "5521 ctcccagatc agtcagagcc cctacagcat tgttaagaaa gtatttgatt tttgtctcaa\\\n",
    "5581 tgaaaataaa actatattca tttccactct attatgctct caaatacccc taagcatcta\\\n",
    "5641 tactagcctg gtatgggtat gaaagataca aagataaata aaacatagtc cctgattcta\\\n",
    "5701 agaaattcac aatttagcaa aggaaatgga ctcatagatg ctaaccttaa aacaacgtga\\\n",
    "5761 caaatgccag acaggaccca tcagccaggc actgtgagag cacagagcag ggaggttggg\\\n",
    "5821 tcctgcctga ggagacctgg aagggaggcc tcacaggagg atgaccaggt ctcagtcagc\\\n",
    "5881 ggggaggtgg aaagtgcagg tgcatcaggg gcaccctgac cgaggaaaca gctgccagag\\\n",
    "5941 gcctccactg ctaaagtcca cataaggctg aggtcagtca ccctaaacaa cctgctccct\\\n",
    "6001 ctaagccagg ggatgagctt ggagcatccc acaagttccc taaaagttgc agcccccagg\\\n",
    "6061 gggattttga gctatcatct ctgcacatgc ttagtgagaa gactacacaa catttctaag\\\n",
    "6121 aatctgagat tttatattgt cagttaacca ctttcattat tcattcacct caggacatgc\\\n",
    "6181 agaaatattt cagtcagaac tgggaaacag aaggacctac attctgctgt cacttatgtg\\\n",
    "6241 tcaagaagca gatgatcgat gaggcaggtc agttgtaagt gagtcacatt gtagcattaa\\\n",
    "6301 attctagtat ttttgtagtt tgaaacagta acttaataaa agagcaaaag ctaaaaaaaa\\\n",
    "6361 aaaaaaaaa\""
   ]
  },
  {
   "cell_type": "code",
   "execution_count": 97,
   "metadata": {},
   "outputs": [
    {
     "name": "stdout",
     "output_type": "stream",
     "text": [
      "aggccacctcgtcggcgtcc\n",
      "tcacgcagttgggcactttt\n",
      "51.5\n"
     ]
    },
    {
     "data": {
      "text/html": [
       "<style  type=\"text/css\" >\n",
       "    #T_d26c85d8_3ef8_11e8_bd44_b8e856060b0erow0_col0 {\n",
       "            color:  black;\n",
       "        }    #T_d26c85d8_3ef8_11e8_bd44_b8e856060b0erow0_col1 {\n",
       "            color:  black;\n",
       "        }    #T_d26c85d8_3ef8_11e8_bd44_b8e856060b0erow0_col2 {\n",
       "            color:  red;\n",
       "        }    #T_d26c85d8_3ef8_11e8_bd44_b8e856060b0erow1_col0 {\n",
       "            color:  black;\n",
       "        }    #T_d26c85d8_3ef8_11e8_bd44_b8e856060b0erow1_col1 {\n",
       "            color:  black;\n",
       "        }    #T_d26c85d8_3ef8_11e8_bd44_b8e856060b0erow1_col2 {\n",
       "            color:  red;\n",
       "        }    #T_d26c85d8_3ef8_11e8_bd44_b8e856060b0erow2_col0 {\n",
       "            color:  black;\n",
       "        }    #T_d26c85d8_3ef8_11e8_bd44_b8e856060b0erow2_col1 {\n",
       "            color:  black;\n",
       "        }    #T_d26c85d8_3ef8_11e8_bd44_b8e856060b0erow2_col2 {\n",
       "            color:  green;\n",
       "        }    #T_d26c85d8_3ef8_11e8_bd44_b8e856060b0erow3_col0 {\n",
       "            color:  black;\n",
       "        }    #T_d26c85d8_3ef8_11e8_bd44_b8e856060b0erow3_col1 {\n",
       "            color:  black;\n",
       "        }    #T_d26c85d8_3ef8_11e8_bd44_b8e856060b0erow3_col2 {\n",
       "            color:  green;\n",
       "        }    #T_d26c85d8_3ef8_11e8_bd44_b8e856060b0erow4_col0 {\n",
       "            color:  black;\n",
       "        }    #T_d26c85d8_3ef8_11e8_bd44_b8e856060b0erow4_col1 {\n",
       "            color:  black;\n",
       "        }    #T_d26c85d8_3ef8_11e8_bd44_b8e856060b0erow4_col2 {\n",
       "            color:  green;\n",
       "        }    #T_d26c85d8_3ef8_11e8_bd44_b8e856060b0erow5_col0 {\n",
       "            color:  black;\n",
       "        }    #T_d26c85d8_3ef8_11e8_bd44_b8e856060b0erow5_col1 {\n",
       "            color:  black;\n",
       "        }    #T_d26c85d8_3ef8_11e8_bd44_b8e856060b0erow5_col2 {\n",
       "            color:  green;\n",
       "        }</style>  \n",
       "<table id=\"T_d26c85d8_3ef8_11e8_bd44_b8e856060b0e\" > \n",
       "<thead>    <tr> \n",
       "        <th class=\"blank level0\" ></th> \n",
       "        <th class=\"col_heading level0 col0\" >Criterion</th> \n",
       "        <th class=\"col_heading level0 col1\" >Cost Function Score</th> \n",
       "        <th class=\"col_heading level0 col2\" >Criterion Met</th> \n",
       "    </tr></thead> \n",
       "<tbody>    <tr> \n",
       "        <th id=\"T_d26c85d8_3ef8_11e8_bd44_b8e856060b0elevel0_row0\" class=\"row_heading level0 row0\" >1</th> \n",
       "        <td id=\"T_d26c85d8_3ef8_11e8_bd44_b8e856060b0erow0_col0\" class=\"data row0 col0\" >length</td> \n",
       "        <td id=\"T_d26c85d8_3ef8_11e8_bd44_b8e856060b0erow0_col1\" class=\"data row0 col1\" >20.000</td> \n",
       "        <td id=\"T_d26c85d8_3ef8_11e8_bd44_b8e856060b0erow0_col2\" class=\"data row0 col2\" >False</td> \n",
       "    </tr>    <tr> \n",
       "        <th id=\"T_d26c85d8_3ef8_11e8_bd44_b8e856060b0elevel0_row1\" class=\"row_heading level0 row1\" >2</th> \n",
       "        <td id=\"T_d26c85d8_3ef8_11e8_bd44_b8e856060b0erow1_col0\" class=\"data row1 col0\" >annealing temperature</td> \n",
       "        <td id=\"T_d26c85d8_3ef8_11e8_bd44_b8e856060b0erow1_col1\" class=\"data row1 col1\" >60.000</td> \n",
       "        <td id=\"T_d26c85d8_3ef8_11e8_bd44_b8e856060b0erow1_col2\" class=\"data row1 col2\" >False</td> \n",
       "    </tr>    <tr> \n",
       "        <th id=\"T_d26c85d8_3ef8_11e8_bd44_b8e856060b0elevel0_row2\" class=\"row_heading level0 row2\" >3</th> \n",
       "        <td id=\"T_d26c85d8_3ef8_11e8_bd44_b8e856060b0erow2_col0\" class=\"data row2 col0\" >%cg_content</td> \n",
       "        <td id=\"T_d26c85d8_3ef8_11e8_bd44_b8e856060b0erow2_col1\" class=\"data row2 col1\" >0.000</td> \n",
       "        <td id=\"T_d26c85d8_3ef8_11e8_bd44_b8e856060b0erow2_col2\" class=\"data row2 col2\" >True</td> \n",
       "    </tr>    <tr> \n",
       "        <th id=\"T_d26c85d8_3ef8_11e8_bd44_b8e856060b0elevel0_row3\" class=\"row_heading level0 row3\" >4</th> \n",
       "        <td id=\"T_d26c85d8_3ef8_11e8_bd44_b8e856060b0erow3_col0\" class=\"data row3 col0\" >specificity</td> \n",
       "        <td id=\"T_d26c85d8_3ef8_11e8_bd44_b8e856060b0erow3_col1\" class=\"data row3 col1\" >0.000</td> \n",
       "        <td id=\"T_d26c85d8_3ef8_11e8_bd44_b8e856060b0erow3_col2\" class=\"data row3 col2\" >True</td> \n",
       "    </tr>    <tr> \n",
       "        <th id=\"T_d26c85d8_3ef8_11e8_bd44_b8e856060b0elevel0_row4\" class=\"row_heading level0 row4\" >5</th> \n",
       "        <td id=\"T_d26c85d8_3ef8_11e8_bd44_b8e856060b0erow4_col0\" class=\"data row4 col0\" >runs</td> \n",
       "        <td id=\"T_d26c85d8_3ef8_11e8_bd44_b8e856060b0erow4_col1\" class=\"data row4 col1\" >0.000</td> \n",
       "        <td id=\"T_d26c85d8_3ef8_11e8_bd44_b8e856060b0erow4_col2\" class=\"data row4 col2\" >True</td> \n",
       "    </tr>    <tr> \n",
       "        <th id=\"T_d26c85d8_3ef8_11e8_bd44_b8e856060b0elevel0_row5\" class=\"row_heading level0 row5\" >6</th> \n",
       "        <td id=\"T_d26c85d8_3ef8_11e8_bd44_b8e856060b0erow5_col0\" class=\"data row5 col0\" >repeats</td> \n",
       "        <td id=\"T_d26c85d8_3ef8_11e8_bd44_b8e856060b0erow5_col1\" class=\"data row5 col1\" >0.000</td> \n",
       "        <td id=\"T_d26c85d8_3ef8_11e8_bd44_b8e856060b0erow5_col2\" class=\"data row5 col2\" >True</td> \n",
       "    </tr></tbody> \n",
       "</table> "
      ],
      "text/plain": [
       "<pandas.io.formats.style.Styler at 0x1119179e8>"
      ]
     },
     "execution_count": 97,
     "metadata": {},
     "output_type": "execute_result"
    }
   ],
   "source": [
    "test = PrimerDesign()\n",
    "test.set_dna_sequence(test_sq)\n",
    "# print(test.dna_sequence)\n",
    "\n",
    "fp = test.func_select_random('forward')\n",
    "rp = test.func_select_random('reverse')\n",
    "print(fp)\n",
    "print(rp)\n",
    "print(test.cost_objective_function(fp,rp))\n",
    "\n",
    "pd.DataFrame.from_dict(test.cost_objective_function_info(fp,rp)[1])[['Criterion', 'Cost Function Score', 'Criterion Met']].style.applymap(color_false)\n",
    "\n"
   ]
  },
  {
   "cell_type": "markdown",
   "metadata": {},
   "source": [
    "### Task 10"
   ]
  },
  {
   "cell_type": "code",
   "execution_count": 98,
   "metadata": {},
   "outputs": [
    {
     "ename": "IndentationError",
     "evalue": "expected an indented block (<ipython-input-98-cbe49d7361a8>, line 5)",
     "output_type": "error",
     "traceback": [
      "\u001b[0;36m  File \u001b[0;32m\"<ipython-input-98-cbe49d7361a8>\"\u001b[0;36m, line \u001b[0;32m5\u001b[0m\n\u001b[0;31m    def func_simulated_annealing(self):\u001b[0m\n\u001b[0m      ^\u001b[0m\n\u001b[0;31mIndentationError\u001b[0m\u001b[0;31m:\u001b[0m expected an indented block\n"
     ]
    }
   ],
   "source": [
    "import random\n",
    "class PrimerDesign(PrimerDesign): \n",
    "    def get_primer_neighbour(fp): \n",
    "        \n",
    "    def func_simulated_annealing(self):\n",
    "        \n",
    "        temperature = self.initial_temperature\n",
    "        stopping_temperature = self.stopping_temperature\n",
    "        drop = self.drop_fraction\n",
    "        fp_current = test.func_select_random('forward')\n",
    "        rp_current = test.func_select_random('reverse')\n",
    "        curent_cost = cost_objective_function(fp_current, rp_current)\n",
    "        \n",
    "        while temperature > stopping_temperature: \n",
    "            temperature -= drop\n",
    "            f_start = random.randint(0,len(self.dna_sequence-1))\n",
    "            probability = np.\n",
    "        pass \n"
   ]
  },
  {
   "cell_type": "code",
   "execution_count": null,
   "metadata": {},
   "outputs": [],
   "source": []
  },
  {
   "cell_type": "markdown",
   "metadata": {},
   "source": [
    "### Store the DNA sequence given to you in the variable below "
   ]
  },
  {
   "cell_type": "code",
   "execution_count": null,
   "metadata": {},
   "outputs": [],
   "source": [
    "dna_sequence = ''' '''"
   ]
  },
  {
   "cell_type": "markdown",
   "metadata": {},
   "source": [
    "### Instantiate your class and read in the DNA sequence"
   ]
  },
  {
   "cell_type": "code",
   "execution_count": null,
   "metadata": {},
   "outputs": [],
   "source": []
  },
  {
   "cell_type": "markdown",
   "metadata": {},
   "source": [
    "### If you need to adjust any parameter from their default values in the init method, do it here"
   ]
  },
  {
   "cell_type": "code",
   "execution_count": null,
   "metadata": {},
   "outputs": [],
   "source": []
  },
  {
   "cell_type": "markdown",
   "metadata": {},
   "source": [
    "### Show the outcome of your testing and the functions in the subsequent cells "
   ]
  }
 ],
 "metadata": {
  "kernelspec": {
   "display_name": "Python 3",
   "language": "python",
   "name": "python3"
  },
  "language_info": {
   "codemirror_mode": {
    "name": "ipython",
    "version": 3
   },
   "file_extension": ".py",
   "mimetype": "text/x-python",
   "name": "python",
   "nbconvert_exporter": "python",
   "pygments_lexer": "ipython3",
   "version": "3.6.3"
  }
 },
 "nbformat": 4,
 "nbformat_minor": 2
}
