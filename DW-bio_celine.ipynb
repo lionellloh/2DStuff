{
 "cells": [
  {
   "cell_type": "code",
   "execution_count": 115,
   "metadata": {},
   "outputs": [],
   "source": [
    "import random\n",
    "import math"
   ]
  },
  {
   "cell_type": "markdown",
   "metadata": {},
   "source": [
    "## The init method initializes all parameters to zero. \n",
    "\n",
    "### If any parameter needs to have a default value, you can set it here. \n",
    "\n",
    "### All penalty parameters are set to a default value of 10"
   ]
  },
  {
   "cell_type": "code",
   "execution_count": 116,
   "metadata": {},
   "outputs": [],
   "source": [
    "class PrimerDesign(object):\n",
    "    \n",
    "    def __init__ (self):\n",
    "        \n",
    "        '''parameters for the length criterion'''\n",
    "        self.max_length = 18 #long enough for adequate specificity\n",
    "        self.min_length = 22 #easily bind to template at annealing temperature\n",
    "        self.penalty_length = 10 \n",
    "        \n",
    "        '''parameters for the temperature difference criterion'''\n",
    "        self.max_tdiff = 5 #if annealing temperature of forward and reverse primer is too large, primers will not anneal properly\n",
    "        self.min_tdiff = -5\n",
    "        self.penalty_tdiff = 10\n",
    "        \n",
    "        '''parameters for the cg content criterion'''\n",
    "        self.max_cg = 0.6 #GC-rich tracts tend to form inverted repeats, or hairpin structures, thus will not anneal properly to the target DNA template\n",
    "        self.min_cg = 0.4 #AT-rich strectches are hard to amplify under standard reaction conditions\n",
    "        self.penalty_cg = 10\n",
    "        \n",
    "        '''parameters for the annealing temperature criterion'''\n",
    "        self.max_temp = 65 #if too high, primer might not bind because bonds are broken as they are formed\n",
    "        self.min_temp = 50 #if too low, primer could bind imperfectly\n",
    "        self.penalty_temp = 10\n",
    "        \n",
    "        '''parameters for the run criterion'''\n",
    "        self.run_threshold = 4 #likely to have errors in replication\n",
    "        self.penalty_runs = 10\n",
    "        \n",
    "        '''parameters for the repeat criterion'''\n",
    "        self.repeat_threshold = 2 #likely to have errors in replication\n",
    "        self.penalty_repeats = 10\n",
    "        \n",
    "        '''parameters for the specificity criterion'''\n",
    "        self.penalty_specificity = 10 \n",
    "        \n",
    "        '''locations where the forward primer should be chosen from'''\n",
    "        self.fp_start = 100\n",
    "        self.fp_end = 200\n",
    "        \n",
    "        '''locations where the reverse primer should be chosen from'''\n",
    "        self.rp_start = 300\n",
    "        self.rp_end = 400\n",
    "        \n",
    "        ''' parameters for the simulated annealing portion'''\n",
    "        self.initial_temperature = 200\n",
    "        self.stopping_temperature = 0.01\n",
    "        self.drop_fraction = 0.999\n",
    "        "
   ]
  },
  {
   "cell_type": "markdown",
   "metadata": {},
   "source": [
    "### Task 2 "
   ]
  },
  {
   "cell_type": "code",
   "execution_count": 1,
   "metadata": {},
   "outputs": [
    {
     "ename": "NameError",
     "evalue": "name 'PrimerDesign' is not defined",
     "traceback": [
      "\u001b[0;31m---------------------------------------------------------------------------\u001b[0m",
      "\u001b[0;31mNameError\u001b[0m                                 Traceback (most recent call last)",
      "\u001b[0;32m<ipython-input-1-f54ddabb489b>\u001b[0m in \u001b[0;36m<module>\u001b[0;34m()\u001b[0m\n\u001b[0;32m----> 1\u001b[0;31m \u001b[0;32mclass\u001b[0m \u001b[0mPrimerDesign\u001b[0m\u001b[0;34m(\u001b[0m\u001b[0mPrimerDesign\u001b[0m\u001b[0;34m)\u001b[0m\u001b[0;34m:\u001b[0m\u001b[0;34m\u001b[0m\u001b[0m\n\u001b[0m\u001b[1;32m      2\u001b[0m \u001b[0;34m\u001b[0m\u001b[0m\n\u001b[1;32m      3\u001b[0m     \u001b[0;32mdef\u001b[0m \u001b[0mset_dna_sequence\u001b[0m\u001b[0;34m(\u001b[0m\u001b[0mself\u001b[0m\u001b[0;34m,\u001b[0m \u001b[0mdna_sequence\u001b[0m\u001b[0;34m)\u001b[0m\u001b[0;34m:\u001b[0m\u001b[0;34m\u001b[0m\u001b[0m\n\u001b[1;32m      4\u001b[0m         \u001b[0mnucleotides\u001b[0m \u001b[0;34m=\u001b[0m \u001b[0;34m[\u001b[0m\u001b[0;34m\"a\"\u001b[0m\u001b[0;34m,\u001b[0m \u001b[0;34m\"t\"\u001b[0m\u001b[0;34m,\u001b[0m \u001b[0;34m\"c\"\u001b[0m\u001b[0;34m,\u001b[0m \u001b[0;34m\"g\"\u001b[0m\u001b[0;34m]\u001b[0m\u001b[0;34m\u001b[0m\u001b[0m\n\u001b[1;32m      5\u001b[0m         \u001b[0moutput_list\u001b[0m \u001b[0;34m=\u001b[0m \u001b[0;34m[\u001b[0m\u001b[0;34m]\u001b[0m\u001b[0;34m\u001b[0m\u001b[0m\n",
      "\u001b[0;31mNameError\u001b[0m: name 'PrimerDesign' is not defined"
     ],
     "output_type": "error"
    }
   ],
   "source": [
    "class PrimerDesign(PrimerDesign): \n",
    "    \n",
    "    def set_dna_sequence(self, dna_sequence):\n",
    "        nucleotides = [\"a\", \"t\", \"c\", \"g\"]\n",
    "        output_list = []\n",
    "        for char in dna_sequence: \n",
    "            if char in nucleotides: \n",
    "                output_list.append(char)\n",
    "#         print(\"output\", output_list)\n",
    "        dna_sequence = \"\".join(output_list)\n",
    "        self.dna_sequence = dna_sequence\n",
    "        return self.dna_sequence"
   ]
  },
  {
   "cell_type": "code",
   "execution_count": 118,
   "metadata": {},
   "outputs": [
    {
     "name": "stdout",
     "output_type": "stream",
     "text": [
      "cccactgggcccagaaaggcagccaccaaattagcctggacaaccctgactaccagcaggacttctttcccaaggaagccaagccaaatggcatctttaagggctccacagctgaaaatgcagaatacctaagggtcgcgccacaaagcagtgaatttattggagcatgaccacggaggatagtatgagccctaaaaatccagactctttcgatacccaggaccaagccacagcaggtcctccatcccaacagccatgcccgcattagctcttagacccacagactggttttgcaacgtttacaccgactagccaggaagtacttccacctcgggcacattttgggaagttgcattcctttgtcttcaaactgtgaagcatttacagaaacgcatccagcaagaatattgtccctttgagcagaaatttatctttcaaagaggtatatttgaaaaaaaaaaaaagtatatgtgaggatttttattgattggggatcttggagtttttcattgtcgctattgatttttacttcaatgggctcttccaacaaggaagaagcttgctggtagcacttgctaccctgagttcatccaggcccaactgtgagcaaggagcacaagccacaagtcttccagaggatgcttgattccagtggttctgcttcaaggcttccactgcaaaacactaaagatccaagaaggccttcatggccccagcagg 720\n"
     ]
    }
   ],
   "source": [
    "test_sq = '3721 cccactgggc ccagaaaggc agccaccaaa ttagcctgga caaccctgac taccagcagg 3781 acttctttcc caaggaagcc aagccaaatg gcatctttaa gggctccaca gctgaaaatg 3841 cagaatacct aagggtcgcg ccacaaagca gtgaatttat tggagcatga ccacggagga 3901 tagtatgagc cctaaaaatc cagactcttt cgatacccag gaccaagcca cagcaggtcc 3961 tccatcccaa cagccatgcc cgcattagct cttagaccca cagactggtt ttgcaacgtt 4021 tacaccgact agccaggaag tacttccacc tcgggcacat tttgggaagt tgcattcctt 4081 tgtcttcaaa ctgtgaagca tttacagaaa cgcatccagc aagaatattg tccctttgag 4141 cagaaattta tctttcaaag aggtatattt gaaaaaaaaa aaaagtatat gtgaggattt 4201 ttattgattg gggatcttgg agtttttcat tgtcgctatt gatttttact tcaatgggct 4261 cttccaacaa ggaagaagct tgctggtagc acttgctacc ctgagttcat ccaggcccaa 4321 ctgtgagcaa ggagcacaag ccacaagtct tccagaggat gcttgattcc agtggttctg 4381 cttcaaggct tccactgcaa aacactaaag atccaagaag gccttcatgg ccccagcagg'\n",
    "test = PrimerDesign()\n",
    "test.set_dna_sequence(test_sq)\n",
    "print(test.dna_sequence, len(test.dna_sequence))"
   ]
  },
  {
   "cell_type": "markdown",
   "metadata": {},
   "source": [
    "### Task 3"
   ]
  },
  {
   "cell_type": "code",
   "execution_count": 119,
   "metadata": {},
   "outputs": [],
   "source": [
    "import random \n",
    "\n",
    "class PrimerDesign(PrimerDesign):\n",
    "    \n",
    "    def func_select_random(self, sqtype='forward', length = 20 ):\n",
    "        \n",
    "        '''the length has to be a positive number'''\n",
    "        \n",
    "        if(sqtype == 'forward'):\n",
    "            output_list = []\n",
    "            start_limit = self.fp_start \n",
    "            end_limit = self.fp_end \n",
    "            start_pos = random.randint(start_limit, end_limit-length)\n",
    "            self.forward_primer = self.dna_sequence[start_pos:start_pos+length]\n",
    "            return self.forward_primer \n",
    "        \n",
    "        elif(sqtype == 'reverse'):\n",
    "            start_limit = self.rp_start \n",
    "            end_limit = self.rp_end\n",
    "            start_pos= random.randint(start_limit, end_limit-length)\n",
    "            self.reverse_primer = self.dna_sequence[start_pos: start_pos+length]\n",
    "            return self.reverse_primer\n",
    "        \n",
    "        else: \n",
    "            return None"
   ]
  },
  {
   "cell_type": "code",
   "execution_count": 120,
   "metadata": {},
   "outputs": [
    {
     "name": "stdout",
     "output_type": "stream",
     "text": [
      "atgaccacggaggatagtat\n",
      "gaagttgcattcctttgtct\n"
     ]
    }
   ],
   "source": [
    "test_sq = '3721 cccactgggc ccagaaaggc agccaccaaa ttagcctgga caaccctgac taccagcagg 3781 acttctttcc caaggaagcc aagccaaatg gcatctttaa gggctccaca gctgaaaatg 3841 cagaatacct aagggtcgcg ccacaaagca gtgaatttat tggagcatga ccacggagga 3901 tagtatgagc cctaaaaatc cagactcttt cgatacccag gaccaagcca cagcaggtcc 3961 tccatcccaa cagccatgcc cgcattagct cttagaccca cagactggtt ttgcaacgtt 4021 tacaccgact agccaggaag tacttccacc tcgggcacat tttgggaagt tgcattcctt 4081 tgtcttcaaa ctgtgaagca tttacagaaa cgcatccagc aagaatattg tccctttgag 4141 cagaaattta tctttcaaag aggtatattt gaaaaaaaaa aaaagtatat gtgaggattt 4201 ttattgattg gggatcttgg agtttttcat tgtcgctatt gatttttact tcaatgggct 4261 cttccaacaa ggaagaagct tgctggtagc acttgctacc ctgagttcat ccaggcccaa 4321 ctgtgagcaa ggagcacaag ccacaagtct tccagaggat gcttgattcc agtggttctg 4381 cttcaaggct tccactgcaa aacactaaag atccaagaag gccttcatgg ccccagcagg'\n",
    "test = PrimerDesign()\n",
    "test.set_dna_sequence(test_sq)\n",
    "print(test.func_select_random('forward'))\n",
    "print(test.func_select_random('reverse'))"
   ]
  },
  {
   "cell_type": "markdown",
   "metadata": {},
   "source": [
    "### Task 4"
   ]
  },
  {
   "cell_type": "code",
   "execution_count": 121,
   "metadata": {},
   "outputs": [],
   "source": [
    "class PrimerDesign(PrimerDesign): \n",
    "    \n",
    "    def func_length(self, sq):\n",
    "        return len(sq)\n",
    "    \n",
    "    def func_cg_fraction(self, sq):\n",
    "        count = 0\n",
    "        for base in sq:\n",
    "            if base == 'c' or base == 'g':\n",
    "                count+=1\n",
    "        return count/len(sq)\n",
    "    \n",
    "    def func_temperature(self,sq):\n",
    "        optimal_temp = 4*(sq.count('c') + sq.count('g')) + 2*(sq.count('a') + sq.count('t'))\n",
    "        return optimal_temp"
   ]
  },
  {
   "cell_type": "code",
   "execution_count": 122,
   "metadata": {},
   "outputs": [
    {
     "name": "stdout",
     "output_type": "stream",
     "text": [
      "cggaggatagtatgagccct\n",
      "20\n",
      "0.55\n",
      "62\n"
     ]
    }
   ],
   "source": [
    "test_sq = '3721 cccactgggc ccagaaaggc agccaccaaa ttagcctgga caaccctgac taccagcagg 3781 acttctttcc caaggaagcc aagccaaatg gcatctttaa gggctccaca gctgaaaatg 3841 cagaatacct aagggtcgcg ccacaaagca gtgaatttat tggagcatga ccacggagga 3901 tagtatgagc cctaaaaatc cagactcttt cgatacccag gaccaagcca cagcaggtcc 3961 tccatcccaa cagccatgcc cgcattagct cttagaccca cagactggtt ttgcaacgtt 4021 tacaccgact agccaggaag tacttccacc tcgggcacat tttgggaagt tgcattcctt 4081 tgtcttcaaa ctgtgaagca tttacagaaa cgcatccagc aagaatattg tccctttgag 4141 cagaaattta tctttcaaag aggtatattt gaaaaaaaaa aaaagtatat gtgaggattt 4201 ttattgattg gggatcttgg agtttttcat tgtcgctatt gatttttact tcaatgggct 4261 cttccaacaa ggaagaagct tgctggtagc acttgctacc ctgagttcat ccaggcccaa 4321 ctgtgagcaa ggagcacaag ccacaagtct tccagaggat gcttgattcc agtggttctg 4381 cttcaaggct tccactgcaa aacactaaag atccaagaag gccttcatgg ccccagcagg'\n",
    "test = PrimerDesign()\n",
    "test.set_dna_sequence(test_sq)\n",
    "sq = test.func_select_random('forward')\n",
    "print(sq)\n",
    "print(test.func_length(sq))\n",
    "print(test.func_cg_fraction(sq))\n",
    "print(test.func_temperature(sq))"
   ]
  },
  {
   "cell_type": "code",
   "execution_count": 123,
   "metadata": {},
   "outputs": [],
   "source": [
    "class PrimerDesign(PrimerDesign):\n",
    "\n",
    "    def func_count_runs(self,sq):\n",
    "        sq_list = [i for i in sq]\n",
    "        runs = 0\n",
    "        count = 0\n",
    "        base = ' '\n",
    "        for i in sq_list:\n",
    "            if i == base:\n",
    "                count += 1\n",
    "            else:\n",
    "                if count >= self.run_threshold:\n",
    "                    runs += 1\n",
    "                count = 0\n",
    "                base = i\n",
    "        if count >= self.run_threshold:\n",
    "            runs += 1\n",
    "        return runs"
   ]
  },
  {
   "cell_type": "code",
   "execution_count": 124,
   "metadata": {},
   "outputs": [
    {
     "name": "stdout",
     "output_type": "stream",
     "text": [
      "tttattggagcatgaccacg\n",
      "0\n",
      "aaaaabaa\n",
      "1\n",
      "aattttcccccggggg\n",
      "2\n"
     ]
    }
   ],
   "source": [
    "test_sq = '3721 cccactgggc ccagaaaggc agccaccaaa ttagcctgga caaccctgac taccagcagg 3781 acttctttcc caaggaagcc aagccaaatg gcatctttaa gggctccaca gctgaaaatg 3841 cagaatacct aagggtcgcg ccacaaagca gtgaatttat tggagcatga ccacggagga 3901 tagtatgagc cctaaaaatc cagactcttt cgatacccag gaccaagcca cagcaggtcc 3961 tccatcccaa cagccatgcc cgcattagct cttagaccca cagactggtt ttgcaacgtt 4021 tacaccgact agccaggaag tacttccacc tcgggcacat tttgggaagt tgcattcctt 4081 tgtcttcaaa ctgtgaagca tttacagaaa cgcatccagc aagaatattg tccctttgag 4141 cagaaattta tctttcaaag aggtatattt gaaaaaaaaa aaaagtatat gtgaggattt 4201 ttattgattg gggatcttgg agtttttcat tgtcgctatt gatttttact tcaatgggct 4261 cttccaacaa ggaagaagct tgctggtagc acttgctacc ctgagttcat ccaggcccaa 4321 ctgtgagcaa ggagcacaag ccacaagtct tccagaggat gcttgattcc agtggttctg 4381 cttcaaggct tccactgcaa aacactaaag atccaagaag gccttcatgg ccccagcagg'\n",
    "test = PrimerDesign()\n",
    "test.set_dna_sequence(test_sq)\n",
    "sq = test.func_select_random('forward')\n",
    "print(sq)\n",
    "print(test.func_count_runs(sq))\n",
    "x = 'aaaaabaa'\n",
    "print(x)\n",
    "print(test.func_count_runs(x))\n",
    "y = 'aattttcccccggggg'\n",
    "print(y)\n",
    "print(test.func_count_runs(y))"
   ]
  },
  {
   "cell_type": "code",
   "execution_count": 125,
   "metadata": {
    "tags": [
     "Celine's"
    ]
   },
   "outputs": [],
   "source": [
    "class PrimerDesign(PrimerDesign):\n",
    "    def func_count_repeats(self,sq):\n",
    "        di_repeats = ['at','ac','ag','ca','ct','cg','ga','gt','gc','ta','tc','tg']\n",
    "        repeats = 0\n",
    "        count = 0\n",
    "\n",
    "        for i in di_repeats:\n",
    "            x = sq[:]\n",
    "            while len(x)>= 2:\n",
    "                if x[0] + x[1] == i:\n",
    "                    while len(x) >= 2 and x[0] + x[1] == i:\n",
    "                        count += 1\n",
    "                        x = x[2:]\n",
    "                    if count > 1:\n",
    "                        repeats += count - 1\n",
    "                    count = 0\n",
    "\n",
    "                    while len(x) >= 2 and x[0] + x[1] != i:\n",
    "                        x = x[1:]\n",
    "                else:\n",
    "                    x = x[1:]\n",
    "            if count > 1:\n",
    "                repeats += count -1\n",
    "            count = 0\n",
    "        return repeats"
   ]
  },
  {
   "cell_type": "code",
   "execution_count": 126,
   "metadata": {
    "tags": [
     "Lionell's"
    ]
   },
   "outputs": [],
   "source": [
    "class PrimerDesign(PrimerDesign):\n",
    "    def func_count_repeats(self,sq):\n",
    "        \n",
    "        di_repeats = ['at','ac','ag','ca','ct','cg','ga','gt','gc','ta','tc','tg']\n",
    "        sequence_version1 = []\n",
    "        sequence_version2= []\n",
    "\n",
    "        for i in range(0, len(sq), 2):\n",
    "            sequence_version1.append(sq[i:i+2])\n",
    "\n",
    "        for i in range(1, len(sq), 2):\n",
    "            sequence_version2.append(sq[i:i+2])\n",
    "\n",
    "        count = 0\n",
    "        count1 = 0\n",
    "        total_repeats = 0\n",
    "        \n",
    "        for i in range(len(sequence_version1)):\n",
    "            try:\n",
    "                if sequence_version1[i+1] in di_repeats and sequence_version1[i+1] == sequence_version1[i]:\n",
    "                    count +=1\n",
    "#                     print(\"match\", sequence_version1[i+1], sequence_version2[i])\n",
    "                else:\n",
    "                    total_repeats += count\n",
    "                    count = 0\n",
    "            except:\n",
    "                pass\n",
    "\n",
    "        for i in range(len(sequence_version2)):\n",
    "            try:\n",
    "                if sequence_version2[i+1] in di_repeats and sequence_version2[i+1] == sequence_version2[i]:\n",
    "                    count +=1\n",
    "                else:\n",
    "                    total_repeats += count\n",
    "                    count = 0\n",
    "        \n",
    "            except:\n",
    "                pass\n",
    "            \n",
    "        return total_repeats"
   ]
  },
  {
   "cell_type": "code",
   "execution_count": 127,
   "metadata": {},
   "outputs": [
    {
     "name": "stdout",
     "output_type": "stream",
     "text": [
      "4\n",
      "8\n",
      "7\n"
     ]
    }
   ],
   "source": [
    "x = 'atatatcgtata'\n",
    "y = 'acacacttcgcgcgcg'\n",
    "z = 'gtacacacttacacacag'\n",
    "test = PrimerDesign()\n",
    "print(test.func_count_repeats(x))\n",
    "print(test.func_count_repeats(y))\n",
    "print(test.func_count_repeats(z))"
   ]
  },
  {
   "cell_type": "markdown",
   "metadata": {},
   "source": [
    "### Task 5"
   ]
  },
  {
   "cell_type": "code",
   "execution_count": 173,
   "metadata": {},
   "outputs": [],
   "source": [
    "class PrimerDesign(PrimerDesign):\n",
    "    \n",
    "    def cost_length(self, sq):\n",
    "        '''This is given to you as an example '''\n",
    "        sq_len = len(sq)\n",
    "        if(sq_len > self.max_length):\n",
    "            return (sq_len - self.max_length)*self.penalty_length\n",
    "        elif(sq_len > self.min_length):\n",
    "            return 0\n",
    "        else:\n",
    "            return (self.min_length - sq_len)*self.penalty_length \n",
    "    \n",
    "    def cost_temperature(self, sq):\n",
    "        temp = self.func_temperature(sq)\n",
    "        if temp > self.max_temp:\n",
    "            cost_temp = self.penalty_temp*(temp-self.max_temp)\n",
    "        elif temp > self.min_temp:\n",
    "            cost_temp = 0\n",
    "        else:\n",
    "            cost_temp = self.penalty_temp*(self.min_temp-temp)\n",
    "        return cost_temp\n",
    "        \n",
    "    def cost_cgcontent(self,sq):\n",
    "        cg_content = self.func_cg_fraction(sq)\n",
    "        if cg_content > 0.6:\n",
    "            cost_cgcontent = self.penalty_cg*(cg_content-0.6)\n",
    "        elif cg_content >= 0.4:\n",
    "            cost_cgcontent = 0\n",
    "        else:\n",
    "            cost_cgcontent = self.penalty_cg*(0.4-cg_content)\n",
    "        return cost_cgcontent\n",
    "        \n",
    "    def cost_temperature_difference(self, fp, rp):\n",
    "        temp_fp = self.func_temperature(fp)\n",
    "        temp_rp = self.func_temperature(rp)\n",
    "        temp_diff = abs(temp_fp-temp_rp)\n",
    "        if temp_diff > self.max_tdiff:\n",
    "            cost_temp_diff = self.penalty_tdiff*(temp_diff-self.max_tdiff)\n",
    "        else:\n",
    "            cost_temp_diff = 0\n",
    "        return cost_temp_diff\n",
    "    \n",
    "    def cost_specificity(self, sq):\n",
    "        return self.penalty_specificity*(self.dna_sequence.count(sq)-1)\n",
    "    \n",
    "    def cost_runs(self, sq):\n",
    "        return self.func_count_runs(sq) * self.penalty_runs\n",
    "    \n",
    "    def cost_repeats(self,sq):\n",
    "        return self.func_count_repeats(sq) * self.penalty_repeats"
   ]
  },
  {
   "cell_type": "markdown",
   "metadata": {},
   "source": [
    "### Task 6"
   ]
  },
  {
   "cell_type": "code",
   "execution_count": 168,
   "metadata": {},
   "outputs": [],
   "source": [
    "class PrimerDesign(PrimerDesign):\n",
    "    \n",
    "    def cost_objective_function(self, fp, rp):\n",
    "        '''complete the calculation of the cost'''\n",
    "        \n",
    "        cost_fp = self.cost_length(fp) + self.cost_temperature(fp) + self.cost_cgcontent(fp) + self.cost_specificity(fp) + self.cost_runs(fp) + self.cost_repeats(fp)\n",
    "        cost_rp = self.cost_length(rp) + self.cost_temperature(rp) + self.cost_cgcontent(rp) + self.cost_specificity(rp) + self.cost_runs(rp) + self.cost_repeats(rp)\n",
    "        total_cost = cost_fp + cost_rp + self.cost_temperature_difference(fp,rp)\n",
    "        return total_cost "
   ]
  },
  {
   "cell_type": "code",
   "execution_count": 169,
   "metadata": {},
   "outputs": [
    {
     "name": "stdout",
     "output_type": "stream",
     "text": [
      "1091.0\n"
     ]
    }
   ],
   "source": [
    "test_sq = '3721 cccactgggc ccagaaaggc agccaccaaa ttagcctgga caaccctgac taccagcagg 3781 acttctttcc caaggaagcc aagccaaatg gcatctttaa gggctccaca gctgaaaatg 3841 cagaatacct aagggtcgcg ccacaaagca gtgaatttat tggagcatga ccacggagga 3901 tagtatgagc cctaaaaatc cagactcttt cgatacccag gaccaagcca cagcaggtcc 3961 tccatcccaa cagccatgcc cgcattagct cttagaccca cagactggtt ttgcaacgtt 4021 tacaccgact agccaggaag tacttccacc tcgggcacat tttgggaagt tgcattcctt 4081 tgtcttcaaa ctgtgaagca tttacagaaa cgcatccagc aagaatattg tccctttgag 4141 cagaaattta tctttcaaag aggtatattt gaaaaaaaaa aaaagtatat gtgaggattt 4201 ttattgattg gggatcttgg agtttttcat tgtcgctatt gatttttact tcaatgggct 4261 cttccaacaa ggaagaagct tgctggtagc acttgctacc ctgagttcat ccaggcccaa 4321 ctgtgagcaa ggagcacaag ccacaagtct tccagaggat gcttgattcc agtggttctg 4381 cttcaaggct tccactgcaa aacactaaag atccaagaag gccttcatgg ccccagcagg'\n",
    "test = PrimerDesign()\n",
    "test.set_dna_sequence(test_sq)\n",
    "fp = test.func_select_random('forward')\n",
    "rp = test.func_select_random('reverse')\n",
    "print(test.cost_objective_function(fp,rp))"
   ]
  },
  {
   "cell_type": "markdown",
   "metadata": {},
   "source": [
    "### Task 7"
   ]
  },
  {
   "cell_type": "code",
   "execution_count": 174,
   "metadata": {},
   "outputs": [
    {
     "name": "stdout",
     "output_type": "stream",
     "text": [
      "===Forward Primer=== gaatacctaagggtcgcgcc                                       \n",
      "Criterion                      Cost Function Score                  Criteria Met\n",
      "--------------------------------------------------------------------------------\n",
      "length                                      20.000\n",
      "annealing temperature                       64.000\n",
      "%cg_content                                  0.000\n",
      "specificty                                   0.000\n",
      "runs                                         0.000\n",
      "repeats                                     20.000\n",
      "\n",
      "===Reverse Primer=== cacattttgggaagttgcat         \n",
      "Criterion                      Cost Function Score\n",
      "--------------------------------------------------------------------------------\n",
      "length                                      20.000\n",
      "annealing temperature                       56.000\n",
      "%cg_content                                  0.000\n",
      "specificty                                   0.000\n",
      "runs                                         0.000\n",
      "repeats                                     10.000\n",
      "\n",
      "Temperature Difference                    1250.000\n",
      "\n"
     ]
    }
   ],
   "source": [
    "class PrimerDesign(PrimerDesign):\n",
    "    \n",
    "    def cost_objective_function_info(self, fp, rp):\n",
    "        line = '{:<80}'.format('===Forward Primer=== {}'.format(fp)) + '\\n' \n",
    "        line += '{:<25}'.format('Criterion') + '{:>25}'.format('Cost Function Score') + '{:>30}'.format('Criteria Met') + '\\n' \n",
    "        line += '-'*80 + '\\n'\n",
    "        line += '{:<25}'.format('length') + '{:>25}'.format('{0:.3f}'.format(self.func_length(fp))) + '\\n'\n",
    "        line += '{:<25}'.format('annealing temperature') + '{:>25}'.format('{0:.3f}'.format(self.func_temperature(fp))) + '\\n'\n",
    "        line += '{:<25}'.format('%cg_content') + '{:>25}'.format('{0:.3f}'.format(self.cost_cgcontent(fp))) + '\\n'\n",
    "        line += '{:<25}'.format('specificty') + '{:>25}'.format('{0:.3f}'.format(self.cost_specificity(fp))) + '\\n'\n",
    "        line += '{:<25}'.format('runs') + '{:>25}'.format('{0:.3f}'.format(self.cost_runs(fp))) + '\\n'\n",
    "        line += '{:<25}'.format('repeats') + '{:>25}'.format('{0:.3f}'.format(self.cost_repeats(fp))) + '\\n'\n",
    "        line += '\\n'\n",
    "\n",
    "        line += '{:<50}'.format('===Reverse Primer=== {}'.format(rp)) + '\\n' \n",
    "        line += '{:<25}'.format('Criterion') + '{:>25}'.format('Cost Function Score') + '\\n' \n",
    "        line += '-'*80 + '\\n'\n",
    "        line += '{:<25}'.format('length') + '{:>25}'.format('{0:.3f}'.format(self.func_length(rp))) + '\\n'\n",
    "        line += '{:<25}'.format('annealing temperature') + '{:>25}'.format('{0:.3f}'.format(self.func_temperature(rp))) + '\\n'\n",
    "        line += '{:<25}'.format('%cg_content') + '{:>25}'.format('{0:.3f}'.format(self.cost_cgcontent(rp))) + '\\n'\n",
    "        line += '{:<25}'.format('specificty') + '{:>25}'.format('{0:.3f}'.format(self.cost_specificity(rp))) + '\\n'\n",
    "        line += '{:<25}'.format('runs') + '{:>25}'.format('{0:.3f}'.format(self.cost_runs(rp))) + '\\n'\n",
    "        line += '{:<25}'.format('repeats') + '{:>25}'.format('{0:.3f}'.format(self.cost_repeats(rp))) + '\\n'\n",
    "        line += '\\n'\n",
    "\n",
    "        line += '{:<25}'.format('Temperature Difference') + '{:>25}'.format('{0:.3f}'.format(self.cost_objective_function(fp,rp))) + '\\n'\n",
    "        \n",
    "        return line\n",
    "\n",
    "test_sq = '3721 cccactgggc ccagaaaggc agccaccaaa ttagcctgga caaccctgac taccagcagg 3781 acttctttcc caaggaagcc aagccaaatg gcatctttaa gggctccaca gctgaaaatg 3841 cagaatacct aagggtcgcg ccacaaagca gtgaatttat tggagcatga ccacggagga 3901 tagtatgagc cctaaaaatc cagactcttt cgatacccag gaccaagcca cagcaggtcc 3961 tccatcccaa cagccatgcc cgcattagct cttagaccca cagactggtt ttgcaacgtt 4021 tacaccgact agccaggaag tacttccacc tcgggcacat tttgggaagt tgcattcctt 4081 tgtcttcaaa ctgtgaagca tttacagaaa cgcatccagc aagaatattg tccctttgag 4141 cagaaattta tctttcaaag aggtatattt gaaaaaaaaa aaaagtatat gtgaggattt 4201 ttattgattg gggatcttgg agtttttcat tgtcgctatt gatttttact tcaatgggct 4261 cttccaacaa ggaagaagct tgctggtagc acttgctacc ctgagttcat ccaggcccaa 4321 ctgtgagcaa ggagcacaag ccacaagtct tccagaggat gcttgattcc agtggttctg 4381 cttcaaggct tccactgcaa aacactaaag atccaagaag gccttcatgg ccccagcagg'\n",
    "test = PrimerDesign()\n",
    "test.set_dna_sequence(test_sq)\n",
    "sq = test.func_select_random('forward')\n",
    "fp = test.func_select_random('forward')\n",
    "rp = test.func_select_random('reverse')\n",
    "info = test.cost_objective_function_info(fp,rp)\n",
    "print(info)"
   ]
  },
  {
   "cell_type": "code",
   "execution_count": 161,
   "metadata": {},
   "outputs": [
    {
     "data": {
      "text/html": [
       "<div>\n",
       "<style scoped>\n",
       "    .dataframe tbody tr th:only-of-type {\n",
       "        vertical-align: middle;\n",
       "    }\n",
       "\n",
       "    .dataframe tbody tr th {\n",
       "        vertical-align: top;\n",
       "    }\n",
       "\n",
       "    .dataframe thead th {\n",
       "        text-align: right;\n",
       "    }\n",
       "</style>\n",
       "<table border=\"1\" class=\"dataframe\">\n",
       "  <thead>\n",
       "    <tr style=\"text-align: right;\">\n",
       "      <th></th>\n",
       "      <th>a</th>\n",
       "      <th>b</th>\n",
       "      <th>c</th>\n",
       "    </tr>\n",
       "  </thead>\n",
       "  <tbody>\n",
       "    <tr>\n",
       "      <th>0</th>\n",
       "      <td>1</td>\n",
       "      <td>2</td>\n",
       "      <td>NaN</td>\n",
       "    </tr>\n",
       "    <tr>\n",
       "      <th>1</th>\n",
       "      <td>5</td>\n",
       "      <td>10</td>\n",
       "      <td>20.0</td>\n",
       "    </tr>\n",
       "  </tbody>\n",
       "</table>\n",
       "</div>"
      ],
      "text/plain": [
       "   a   b     c\n",
       "0  1   2   NaN\n",
       "1  5  10  20.0"
      ]
     },
     "execution_count": 161,
     "metadata": {},
     "output_type": "execute_result"
    }
   ],
   "source": [
    "import pandas as pd\n",
    "data2 = [{'a': 1, 'b': 2}, {'a': 5, 'b': 10, 'c': 20}]\n",
    "pd.DataFrame(data2)"
   ]
  },
  {
   "cell_type": "code",
   "execution_count": 177,
   "metadata": {},
   "outputs": [
    {
     "data": {
      "text/html": [
       "<div>\n",
       "<style scoped>\n",
       "    .dataframe tbody tr th:only-of-type {\n",
       "        vertical-align: middle;\n",
       "    }\n",
       "\n",
       "    .dataframe tbody tr th {\n",
       "        vertical-align: top;\n",
       "    }\n",
       "\n",
       "    .dataframe thead th {\n",
       "        text-align: right;\n",
       "    }\n",
       "</style>\n",
       "<table border=\"1\" class=\"dataframe\">\n",
       "  <thead>\n",
       "    <tr style=\"text-align: right;\">\n",
       "      <th></th>\n",
       "      <th>one</th>\n",
       "      <th>two</th>\n",
       "    </tr>\n",
       "  </thead>\n",
       "  <tbody>\n",
       "    <tr>\n",
       "      <th>a</th>\n",
       "      <td>1.0</td>\n",
       "      <td>1.0</td>\n",
       "    </tr>\n",
       "    <tr>\n",
       "      <th>b</th>\n",
       "      <td>2.0</td>\n",
       "      <td>2.0</td>\n",
       "    </tr>\n",
       "    <tr>\n",
       "      <th>c</th>\n",
       "      <td>3.0</td>\n",
       "      <td>3.0</td>\n",
       "    </tr>\n",
       "    <tr>\n",
       "      <th>d</th>\n",
       "      <td>NaN</td>\n",
       "      <td>4.0</td>\n",
       "    </tr>\n",
       "  </tbody>\n",
       "</table>\n",
       "</div>"
      ],
      "text/plain": [
       "   one  two\n",
       "a  1.0  1.0\n",
       "b  2.0  2.0\n",
       "c  3.0  3.0\n",
       "d  NaN  4.0"
      ]
     },
     "execution_count": 177,
     "metadata": {},
     "output_type": "execute_result"
    }
   ],
   "source": [
    "d = {'one' : pd.Series([1., 2., 3.], index=['a', 'b', 'c']),\n",
    "     'two' : pd.Series([1., 2., 3., 4.], index=['a', 'b', 'c', 'd'])}\n",
    "pd.DataFrame(d)"
   ]
  },
  {
   "cell_type": "code",
   "execution_count": 179,
   "metadata": {},
   "outputs": [
    {
     "data": {
      "text/html": [
       "<div>\n",
       "<style scoped>\n",
       "    .dataframe tbody tr th:only-of-type {\n",
       "        vertical-align: middle;\n",
       "    }\n",
       "\n",
       "    .dataframe tbody tr th {\n",
       "        vertical-align: top;\n",
       "    }\n",
       "\n",
       "    .dataframe thead th {\n",
       "        text-align: right;\n",
       "    }\n",
       "</style>\n",
       "<table border=\"1\" class=\"dataframe\">\n",
       "  <thead>\n",
       "    <tr style=\"text-align: right;\">\n",
       "      <th></th>\n",
       "      <th>Cost Function Score</th>\n",
       "      <th>Criterion</th>\n",
       "    </tr>\n",
       "  </thead>\n",
       "  <tbody>\n",
       "    <tr>\n",
       "      <th>1</th>\n",
       "      <td>80.000</td>\n",
       "      <td>length</td>\n",
       "    </tr>\n",
       "    <tr>\n",
       "      <th>2</th>\n",
       "      <td>210.000</td>\n",
       "      <td>annealing temperature</td>\n",
       "    </tr>\n",
       "    <tr>\n",
       "      <th>3</th>\n",
       "      <td>34.000</td>\n",
       "      <td>%cg_content</td>\n",
       "    </tr>\n",
       "    <tr>\n",
       "      <th>4</th>\n",
       "      <td>50.000</td>\n",
       "      <td>specificity</td>\n",
       "    </tr>\n",
       "    <tr>\n",
       "      <th>5</th>\n",
       "      <td>30.000</td>\n",
       "      <td>runs</td>\n",
       "    </tr>\n",
       "    <tr>\n",
       "      <th>6</th>\n",
       "      <td>60.000</td>\n",
       "      <td>repeats</td>\n",
       "    </tr>\n",
       "  </tbody>\n",
       "</table>\n",
       "</div>"
      ],
      "text/plain": [
       "  Cost Function Score              Criterion\n",
       "1              80.000                 length\n",
       "2             210.000  annealing temperature\n",
       "3              34.000            %cg_content\n",
       "4              50.000            specificity\n",
       "5              30.000                   runs\n",
       "6              60.000                repeats"
      ]
     },
     "execution_count": 179,
     "metadata": {},
     "output_type": "execute_result"
    }
   ],
   "source": [
    "import pandas as pd\n",
    "Criterion = ['length','annealing temperature', '%cg_content','specificity','runs','repeats']\n",
    "F_Cost = [80,210,34,50,30,60]\n",
    "R_Cost = [240,12,40,30,60,40]\n",
    "F_Primer = {'Criterion': pd.Series(Criterion, index=[i for i in range(1,7)]), \n",
    "            'Cost Function Score': pd.Series(['{0:.3f}'.format(i) for i in F_Cost], index=[i for i in range(1,7)])}\n",
    "pd.DataFrame(F_Primer)"
   ]
  },
  {
   "cell_type": "markdown",
   "metadata": {},
   "source": [
    "### Task 10"
   ]
  },
  {
   "cell_type": "code",
   "execution_count": null,
   "metadata": {},
   "outputs": [],
   "source": [
    "class PrimerDesign(PrimerDesign): \n",
    "    \n",
    "    def func_simulated_annealing(self):\n",
    "        \n",
    "        temperature = self.initial_temperature\n",
    "        stopping_temperature = self.stopping_temperature\n",
    "        drop = self.drop_fractionfunc\n",
    "\t\t\n",
    "\t\t\t\n",
    "        \n",
    "        pass \n"
   ]
  },
  {
   "cell_type": "code",
   "execution_count": null,
   "metadata": {},
   "outputs": [],
   "source": []
  },
  {
   "cell_type": "markdown",
   "metadata": {},
   "source": [
    "### Store the DNA sequence given to you in the variable below "
   ]
  },
  {
   "cell_type": "code",
   "execution_count": null,
   "metadata": {},
   "outputs": [],
   "source": [
    "dna_sequence = ''' '''"
   ]
  },
  {
   "cell_type": "markdown",
   "metadata": {},
   "source": [
    "### Instantiate your class and read in the DNA sequence"
   ]
  },
  {
   "cell_type": "code",
   "execution_count": null,
   "metadata": {},
   "outputs": [],
   "source": []
  },
  {
   "cell_type": "markdown",
   "metadata": {},
   "source": [
    "### If you need to adjust any parameter from their default values in the init method, do it here"
   ]
  },
  {
   "cell_type": "code",
   "execution_count": null,
   "metadata": {},
   "outputs": [],
   "source": []
  },
  {
   "cell_type": "markdown",
   "metadata": {},
   "source": [
    "### Show the outcome of your testing and the functions in the subsequent cells "
   ]
  }
 ],
 "metadata": {
  "celltoolbar": "Tags",
  "kernelspec": {
   "display_name": "Python 3",
   "language": "python",
   "name": "python3"
  },
  "language_info": {
   "codemirror_mode": {
    "name": "ipython",
    "version": 3
   },
   "file_extension": ".py",
   "mimetype": "text/x-python",
   "name": "python",
   "nbconvert_exporter": "python",
   "pygments_lexer": "ipython3",
   "version": "3.6.4"
  }
 },
 "nbformat": 4,
 "nbformat_minor": 2
}
