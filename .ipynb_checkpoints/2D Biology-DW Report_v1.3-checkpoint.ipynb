{
 "cells": [
  {
   "cell_type": "code",
   "execution_count": 20,
   "metadata": {},
   "outputs": [],
   "source": [
    "import random\n",
    "import math"
   ]
  },
  {
   "cell_type": "code",
   "execution_count": 21,
   "metadata": {},
   "outputs": [],
   "source": [
    "class PrimerDesign(object):\n",
    "    \n",
    "    def __init__ (self):\n",
    "        \n",
    "        '''parameters for the length criterion'''\n",
    "        self.max_length = 0\n",
    "        self.min_length = 0\n",
    "        self.penalty_length = 10\n",
    "        \n",
    "        '''parameters for the temperature difference criterion'''\n",
    "        self.max_tdiff = 0\n",
    "        self.min_tdiff = 0\n",
    "        self.penalty_tdiff = 10\n",
    "        \n",
    "        '''parameters for the cg content criterion'''\n",
    "        self.max_cg = 0\n",
    "        self.min_cg = 0\n",
    "        self.penalty_cg = 10\n",
    "        \n",
    "        '''parameters for the annealing temperature criterion'''\n",
    "        self.max_temp = 0\n",
    "        self.min_temp = 0\n",
    "        self.penalty_temp = 10\n",
    "        \n",
    "        '''parameters for the run criterion'''\n",
    "        self.run_threshold = 1\n",
    "        self.penalty_runs = 10\n",
    "        \n",
    "        '''parameters for the repeat criterion'''\n",
    "        self.repeat_threshold = 0\n",
    "        self.penalty_repeats = 10\n",
    "        \n",
    "        '''parameters for the specificity criterion'''\n",
    "        self.penalty_specificity = 10 \n",
    "        \n",
    "        '''locations where the forward primer should be chosen from'''\n",
    "        self.fp_start = 100\n",
    "        self.fp_end = 200\n",
    "        \n",
    "        '''locations where the reverse primer should be chosen from'''\n",
    "        self.rp_start = 300\n",
    "        self.rp_end = 400\n",
    "        \n",
    "        ''' parameters for the simulated annealing portion'''\n",
    "        self.initial_temperature = 200\n",
    "        self.stopping_temperature = 0.01\n",
    "        self.drop_fraction = 0.999\n",
    "        "
   ]
  },
  {
   "cell_type": "markdown",
   "metadata": {},
   "source": [
    "### Task 2 "
   ]
  },
  {
   "cell_type": "code",
   "execution_count": 26,
   "metadata": {},
   "outputs": [],
   "source": [
    "class PrimerDesign(PrimerDesign): \n",
    "    \n",
    "    def set_dna_sequence(self, dna_sequence):\n",
    "        nucleotides = [\"a\", \"t\", \"c\", \"g\"]\n",
    "        output_list = []\n",
    "        for char in dna_sequence: \n",
    "            if char in nucleotides: \n",
    "                output_list.append(char)\n",
    "#         print(\"output\", output_list)\n",
    "        dna_sequence = \"\".join(output_list)\n",
    "        self.dna_sequence = dna_sequence \n",
    "        return self.dna_sequence"
   ]
  },
  {
   "cell_type": "code",
   "execution_count": 44,
   "metadata": {},
   "outputs": [
    {
     "data": {
      "text/plain": [
       "'gtccgggcagcccccggcgcagcgcggccgcagcagcctccgccccccgcacggtgtgaggtccgggcagcccccggcgcagcgcggccgcagcagcctccgccccccgcacggtgtgaggtccgggcagcccccggcgcagcgcggccgcagcagcctccgccccccgcacggtgtgaggtccgggcagcccccggcgcagcgcggccgcagcagcctccgccccccgcacggtgtgaggtccgggcagcccccggcgcagcgcggccgcagcagcctccgccccccgcacggtgtgaggtccgggcagcccccggcgcagcgcggccgcagcagcctccgccccccgcacggtgtgag'"
      ]
     },
     "execution_count": 44,
     "metadata": {},
     "output_type": "execute_result"
    }
   ],
   "source": [
    "example = \"1 gtccgggcag cccccggcgc agcgcggccg cagcagcctc cgccccccgc acggtgtgag 1 gtccgggcag cccccggcgc agcgcggccg cagcagcctc cgccccccgc acggtgtgag 1 gtccgggcag cccccggcgc agcgcggccg cagcagcctc cgccccccgc acggtgtgag 1 gtccgggcag cccccggcgc agcgcggccg cagcagcctc cgccccccgc acggtgtgag 1 gtccgggcag cccccggcgc agcgcggccg cagcagcctc cgccccccgc acggtgtgag 1 gtccgggcag cccccggcgc agcgcggccg cagcagcctc cgccccccgc acggtgtgag\"\n",
    "\n",
    "test1 = PrimerDesign()\n",
    "test1.__dict__\n",
    "\n",
    "test1.set_dna_sequence(example)"
   ]
  },
  {
   "cell_type": "markdown",
   "metadata": {},
   "source": [
    "### Task 3"
   ]
  },
  {
   "cell_type": "markdown",
   "metadata": {},
   "source": [
    "Should I save or return the primer"
   ]
  },
  {
   "cell_type": "code",
   "execution_count": 28,
   "metadata": {},
   "outputs": [],
   "source": [
    "class PrimerDesign(PrimerDesign):\n",
    "    \n",
    "    def func_select_random(self, sqtype='forward', length = 20 ):\n",
    "        '''the length has to be a positive number'''\n",
    "        \n",
    "        if(sqtype == 'forward'):\n",
    "#             print(\"forward\")\n",
    "            output_list = []\n",
    "            start_limit = self.fp_start \n",
    "            end_limit = self.fp_end \n",
    "            start_pos = random.randint(start_limit, end_limit-length)\n",
    "            forward_unprocessed = self.dna_sequence[start_pos:start_pos+length]\n",
    "            for char in forward_unprocessed[::-1]:\n",
    "                if char == \"a\":\n",
    "                    output_list.append(\"t\")\n",
    "                elif char == \"t\":\n",
    "                    output_list.append(\"a\")\n",
    "                elif char == \"g\":\n",
    "                    output_list.append(\"c\")\n",
    "                elif char == \"c\":\n",
    "                    output_list.append(\"g\")\n",
    "            self.forward_primer = \"\".join(output_list)\n",
    "\n",
    "            return self.forward_primer \n",
    "        \n",
    "        elif(sqtype == 'reverse'):\n",
    "#             print(\"reverse\")\n",
    "            start_limit = self.rp_start \n",
    "            end_limit = self.rp_end\n",
    "            \n",
    "            start_pos= random.randint(start_limit, end_limit-length)\n",
    "            self.reverse_primer = self.dna_sequence[start_pos: start_pos+length]\n",
    "       \n",
    "            return self.reverse_primer\n",
    "        else: \n",
    "            return None\n",
    "         \n",
    "\n"
   ]
  },
  {
   "cell_type": "markdown",
   "metadata": {},
   "source": [
    "Test func_select_random for both forward and reverse"
   ]
  },
  {
   "cell_type": "code",
   "execution_count": 43,
   "metadata": {},
   "outputs": [
    {
     "name": "stdout",
     "output_type": "stream",
     "text": [
      "Forward Primer cgctgcgccgggggctgccc\n",
      "Reverse Primer gtgag\n"
     ]
    }
   ],
   "source": [
    "test2 = PrimerDesign()\n",
    "test2.set_dna_sequence(string)\n",
    "test2.dna_sequence\n",
    "fp2 = test2.func_select_random(sqtype='forward', length = 20)\n",
    "rp2 = test2.func_select_random(sqtype='reverse', length=20)\n",
    "print(\"Forward Primer\", fp2)\n",
    "print(\"Reverse Primer\", rp2)"
   ]
  },
  {
   "cell_type": "markdown",
   "metadata": {},
   "source": [
    "### Task 4 \n",
    "#### 1. Finding the length of the Primer \n",
    "#### 2. Finding the percentage of nucleotides that are 'g' or 'c' \n",
    "#### 3. Finding the optimal temperature of the primer\n",
    "#### 4. The number of runs \n",
    "#### 5. The number of repeats"
   ]
  },
  {
   "cell_type": "code",
   "execution_count": 41,
   "metadata": {},
   "outputs": [],
   "source": [
    "class PrimerDesign(PrimerDesign): \n",
    "    \n",
    "    def func_length(self, primer):\n",
    "        return len(primer)\n",
    "    \n",
    "    def func_cg_fraction(self, primer):\n",
    "        count = 0 \n",
    "        for base in primer: \n",
    "            if base == 'c' or base == 'g': \n",
    "                count+=1 \n",
    "        return count/len(primer)\n",
    "    \n",
    "    def func_temperature(self,primer):\n",
    "        optimal_temp = 4*(primer.count('c')+primer.count('g'))+2*(primer.count('a')+primer.count('t'))\n",
    "        return optimal_temp"
   ]
  },
  {
   "cell_type": "code",
   "execution_count": 57,
   "metadata": {},
   "outputs": [],
   "source": [
    "class PrimerDesign(PrimerDesign):\n",
    "\n",
    "    def func_count_runs(self,primer):\n",
    "        count = 1 \n",
    "        num = 0 \n",
    "        for i in range(len(primer)):\n",
    "#       Check if it is the last character\n",
    "            try: \n",
    "                if primer[i+1] == primer[i]: \n",
    "                    count +=1 \n",
    "\n",
    "                else: \n",
    "                    if count > self.run_threshold: \n",
    "                        num+=1 \n",
    "\n",
    "                    count = 1 \n",
    "            except:\n",
    "                pass\n",
    "\n",
    "        return num"
   ]
  },
  {
   "cell_type": "code",
   "execution_count": 58,
   "metadata": {},
   "outputs": [],
   "source": [
    "class PrimerDesign(PrimerDesign):\n",
    "    def func_count_repeats(self,primer):\n",
    "        \n",
    "        di_repeats = ['at','ac','ag','ca','ct','cg','ga','gt','gc','ta','tc','tg']\n",
    "        sequence_version1 = []\n",
    "        sequence_version2= []\n",
    "\n",
    "        for i in range(0, len(primer), 2):\n",
    "            sequence_version1.append(primer[i:i+2])\n",
    "\n",
    "        for i in range(1, len(primer), 2):\n",
    "            sequence_version2.append(primer[i:i+2])\n",
    "\n",
    "        count = 0\n",
    "        count1 = 0\n",
    "        total_repeats = 0\n",
    "        \n",
    "        for i in range(len(sequence_version1)):\n",
    "\n",
    "            try:\n",
    "                if sequence_version1[i+1] in di_repeats and sequence_version1[i+1] == sequence_version1[i]:\n",
    "                    count +=1\n",
    "#                     print(\"match\", sequence_version1[i+1], sequence_version2[i])\n",
    "                \n",
    "                else:\n",
    "                    total_repeats += count\n",
    "                    count = 0\n",
    "\n",
    "            except:\n",
    "                pass\n",
    "\n",
    "        for i in range(len(sequence_version2)):\n",
    "            try:\n",
    "            \n",
    "                if sequence_version2[i+1] in di_repeats and sequence_version2[i+1] == sequence_version2[i]:\n",
    "                    count +=1\n",
    "\n",
    "                else:\n",
    "                    total_repeats += count\n",
    "                    count = 0\n",
    "            \n",
    "            except:\n",
    "                pass\n",
    "            \n",
    "        return total_repeats\n"
   ]
  },
  {
   "cell_type": "code",
   "execution_count": 59,
   "metadata": {},
   "outputs": [
    {
     "name": "stdout",
     "output_type": "stream",
     "text": [
      "13 0\n",
      "16 12\n",
      "0 0\n"
     ]
    }
   ],
   "source": [
    "# Load test cases below\n",
    "\n",
    "# case 1. 'cattaaaaatacgaaaaaagtcat'\n",
    "# It has length 24, cg fraction of 5/24, temperature of 4(5) + 2(19) = 58, two runs of a and no repeats, hence a repeat score of 0.  \n",
    "# case 2. 'atatatatattttatatataa' \n",
    "# It has length 21, cg fraction of 0/24, temperature of 4(0) + 2(21) = 42, no runs of a or t. For repeats, five instances of at, four instances of ta, followed by four instances of ta and three instances of at. Thus the repeat score is 12. \n",
    "# case 3 - edge case '' (empty string).  \n",
    "# It has length 0, cg fraction 0, temperature 0, no runs and no repeats. \n",
    "\n",
    "test2 = PrimerDesign()\n",
    "case1 = 'cattaaaaatacgaaaaaagtcat'\n",
    "case2 = 'atatatatattttatatataa'\n",
    "case3 = ''\n",
    "print(test2.func_count_runs(case1), test2.func_count_repeats(case1))\n",
    "print(test2.func_count_runs(case2), test2.func_count_repeats(case2))\n",
    "print(test2.func_count_runs(case3), test2.func_count_repeats(case3))"
   ]
  },
  {
   "cell_type": "markdown",
   "metadata": {},
   "source": [
    "### Task 5"
   ]
  },
  {
   "cell_type": "code",
   "execution_count": 15,
   "metadata": {},
   "outputs": [],
   "source": [
    "class PrimerDesign(PrimerDesign):\n",
    "    \n",
    "    def cost_length(self, sq):\n",
    "        '''This is given to you as an example '''\n",
    "        sq_len = len(sq)\n",
    "        if(sq_len > self.max_length):\n",
    "            return (sq_len - self.max_length)*self.penalty_length\n",
    "        elif(sq_len > self.min_length):\n",
    "            return 0\n",
    "        else:\n",
    "            return (self.min_length - sq_len)*self.penalty_length \n",
    "    \n",
    "    def cost_temperature(self, sq):\n",
    "        temp = self.func_temperature(sq)\n",
    "        if temp > self.max_temp:\n",
    "            cost_temp = self.penalty_temp*(temp-self.max_temp)\n",
    "        elif temp > self.min_temp:\n",
    "            cost_temp = 0\n",
    "        else:\n",
    "            cost_temp = self.penalty_temp*(self.min_temp-temp)\n",
    "        return cost_temp\n",
    "        \n",
    "    def cost_cgcontent(self,sq):\n",
    "        cg_content = self.func_cg_fraction(sq)\n",
    "        if cg_content > 0.6:\n",
    "            cost_cgcontent = self.penalty_cg*(cg_content-0.6)\n",
    "        elif cg_content >= 0.4:\n",
    "            cost_cgcontent = 0\n",
    "        else:\n",
    "            cost_cgcontent = self.penalty_cg*(0.4-cg_content)\n",
    "        return cost_cgcontent\n",
    "\n",
    "    def cost_temperature_difference(self, fp, rp):\n",
    "        temp_fp = self.func_temperature(fp)\n",
    "        temp_rp = self.func_temperature(rp)\n",
    "        temp_diff = math.abs(temp_fp-temp_rp)\n",
    "        if temp_diff > self.max_tdiff:\n",
    "            cost_temp_diff = self.penalty_tdiff*(temp_diff-self.max_tdiff)\n",
    "        else:\n",
    "            cost_temp_diff = 0\n",
    "        return cost_temp_diff\n",
    "    \n",
    "    def cost_specificity(self, sq):\n",
    "        return self.penalty_specificity*(sq.count(self.forward_primer) + sq.count(self.reverse_primer)-2)\n",
    "    \n",
    "    def cost_runs(self, sq):\n",
    "        return func_count_runs(self, sq) * self.penalty_runs\n",
    "    \n",
    "    def cost_repeats(self,sq):\n",
    "        return func_count_repeats(self, sq) * self.penaulty_repeats"
   ]
  },
  {
   "cell_type": "markdown",
   "metadata": {},
   "source": [
    "### Task 6"
   ]
  },
  {
   "cell_type": "code",
   "execution_count": null,
   "metadata": {
    "collapsed": true
   },
   "outputs": [],
   "source": [
    "class PrimerDesign(PrimerDesign):\n",
    "    \n",
    "    def cost_objective_function(self, fp, rp):\n",
    "        '''complete the calculation of the cost'''\n",
    "        cost = 0        \n",
    "        return cost \n",
    "        "
   ]
  },
  {
   "cell_type": "code",
   "execution_count": null,
   "metadata": {},
   "outputs": [],
   "source": []
  },
  {
   "cell_type": "markdown",
   "metadata": {},
   "source": [
    "### Task 7"
   ]
  },
  {
   "cell_type": "code",
   "execution_count": 18,
   "metadata": {},
   "outputs": [
    {
     "ename": "SyntaxError",
     "evalue": "invalid syntax (<ipython-input-18-148a690ea64c>, line 16)",
     "output_type": "error",
     "traceback": [
      "\u001b[0;36m  File \u001b[0;32m\"<ipython-input-18-148a690ea64c>\"\u001b[0;36m, line \u001b[0;32m16\u001b[0m\n\u001b[0;31m    line += '{:<25}'.format('Criterion') + '{:>25}'.format('Cost Function Score') + '\\n'\u001b[0m\n\u001b[0m       ^\u001b[0m\n\u001b[0;31mSyntaxError\u001b[0m\u001b[0;31m:\u001b[0m invalid syntax\n"
     ]
    }
   ],
   "source": [
    "class PrimerDesign(PrimerDesign):\n",
    "    \n",
    "    def cost_objective_function_info(self, fp, rp):\n",
    "        line = '{:<50}'.format('===Forward Primer=== {}'.format(fp)) + '\\n' \n",
    "        line += '{:<25}'.format('Criterion') + '{:>25}'.format('Cost Function Score') + '\\n' \n",
    "        line += '-'*50 + '+\\n'\n",
    "        line += '{:<25}'.format('length') + '{:>25}'.format('{0:.3f}'.format(self.func_length(fp))) + '\\n'\n",
    "        line += '{:<25}'.format('annealing temperature') + '{:>25}'.format('{0:.3f}'.format(self.func_temperature(fp))) + '\\n'\n",
    "        line += '{:<25}'.format('%cg_content') + '{:>25}'.format('{0:.3f}'.format(self.cost_cgcontent(fp))) + '\\n'\n",
    "        line += '{:<25}'.format('specificty') + '{:>25}'.format('{0:.3f}'.format(self.cost_specificity(fp))) + '\\n'\n",
    "        line += '{:<25}'.format('runs') + '{:>25}'.format('{0:.3f}'.format(self.cost_runs(fp))) + '\\n'\n",
    "        line += '{:<25}'.format('repeats') + '{:>25}'.format('{0:.3f}'.format(self.cost_repeats(fp))) + '\\n'\n",
    "        line += '\\n'\n",
    "\n",
    "        line += '{:<50}'.format('===Reverse Primer=== {}'.format(rp) + '\\n' \n",
    "        line += '{:<25}'.format('Criterion') + '{:>25}'.format('Cost Function Score') + '\\n' \n",
    "        line += '-'*50 + '+\\n'\n",
    "        line += '{:<25}'.format('length') + '{:>25}'.format('{0:.3f}'.format(self.func_length(rp))) + '\\n'\n",
    "        line += '{:<25}'.format('annealing temperature') + '{:>25}'.format('{0:.3f}'.format(self.func_temperature(rp))) + '\\n'\n",
    "        line += '{:<25}'.format('%cg_content') + '{:>25}'.format('{0:.3f}'.format(self.cost_cgcontent(rp))) + '\\n'\n",
    "        line += '{:<25}'.format('specificty') + '{:>25}'.format('{0:.3f}'.format(self.cost_specificity(rp))) + '\\n'\n",
    "        line += '{:<25}'.format('runs') + '{:>25}'.format('{0:.3f}'.format(self.cost_runs(rp))) + '\\n'\n",
    "        line += '{:<25}'.format('repeats') + '{:>25}'.format('{0:.3f}'.format(self.cost_repeats(rp))) + '\\n'\n",
    "        line += '\\n'\n",
    "\n",
    "        line += '{:<25}'.format('Temperature Difference') + '{:>25}'.format('{0:.3f}'.format(self.cost_objective_function(fp,rp)) + '+\\n'\n",
    "        return line                                                                  \n",
    "print(line)\n"
   ]
  },
  {
   "cell_type": "markdown",
   "metadata": {},
   "source": [
    "### Task 10"
   ]
  },
  {
   "cell_type": "code",
   "execution_count": 11,
   "metadata": {
    "collapsed": true
   },
   "outputs": [],
   "source": [
    "class PrimerDesign(PrimerDesign): \n",
    "    \n",
    "    def func_simulated_annealing(self):\n",
    "        \n",
    "        temperature = self.initial_temperature\n",
    "        stopping_temperature = self.stopping_temperature\n",
    "        drop = self.drop_fraction\n",
    "        \n",
    "        pass \n"
   ]
  },
  {
   "cell_type": "markdown",
   "metadata": {},
   "source": [
    "### Store the DNA sequence given to you in the variable below "
   ]
  },
  {
   "cell_type": "code",
   "execution_count": 12,
   "metadata": {
    "collapsed": true
   },
   "outputs": [],
   "source": [
    "dna_sequence = ''' '''"
   ]
  },
  {
   "cell_type": "markdown",
   "metadata": {},
   "source": [
    "### Instantiate your class and read in the DNA sequence"
   ]
  },
  {
   "cell_type": "code",
   "execution_count": 14,
   "metadata": {},
   "outputs": [
    {
     "data": {
      "text/plain": [
       "' '"
      ]
     },
     "execution_count": 14,
     "metadata": {},
     "output_type": "execute_result"
    }
   ],
   "source": []
  },
  {
   "cell_type": "markdown",
   "metadata": {},
   "source": [
    "### If you need to adjust any parameter from their default values in the init method, do it here"
   ]
  },
  {
   "cell_type": "code",
   "execution_count": 15,
   "metadata": {
    "collapsed": true
   },
   "outputs": [],
   "source": []
  },
  {
   "cell_type": "markdown",
   "metadata": {},
   "source": [
    "### Show the outcome of your testing and the functions in the subsequent cells "
   ]
  }
 ],
 "metadata": {
  "kernelspec": {
   "display_name": "Python 3",
   "language": "python",
   "name": "python3"
  },
  "language_info": {
   "codemirror_mode": {
    "name": "ipython",
    "version": 3
   },
   "file_extension": ".py",
   "mimetype": "text/x-python",
   "name": "python",
   "nbconvert_exporter": "python",
   "pygments_lexer": "ipython3",
   "version": "3.6.3"
  }
 },
 "nbformat": 4,
 "nbformat_minor": 2
}
