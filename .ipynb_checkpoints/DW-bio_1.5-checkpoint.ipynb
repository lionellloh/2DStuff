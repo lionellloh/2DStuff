{
 "cells": [
  {
   "cell_type": "code",
   "execution_count": null,
   "metadata": {},
   "outputs": [],
   "source": [
    "import random\n",
    "import math"
   ]
  },
  {
   "cell_type": "markdown",
   "metadata": {},
   "source": [
    "### The init method initializes all parameters to zero. \n",
    "\n",
    "#If any parameter needs to have a default value, you can set it here.\n",
    "#All penalty parameters are set to a default value of 10"
   ]
  },
  {
   "cell_type": "code",
   "execution_count": 2,
   "metadata": {},
   "outputs": [],
   "source": [
    "class PrimerDesign(object):\n",
    "    \n",
    "    def __init__ (self):\n",
    "        \n",
    "        '''parameters for the length criterion'''\n",
    "        self.max_length = 18 #long enough for adequate specificity\n",
    "        self.min_length = 22 #easily bind to template at annealing temperature\n",
    "        self.penalty_length = 10 \n",
    "        \n",
    "        '''parameters for the temperature difference criterion'''\n",
    "        self.max_tdiff = 15 #if annealing temperature of forward and reverse primer is too large, primers will not anneal properly\n",
    "        self.min_tdiff = -5\n",
    "        self.penalty_tdiff = 10\n",
    "        \n",
    "        '''parameters for the cg content criterion'''\n",
    "        self.max_cg = 0.6 #GC-rich tracts tend to form inverted repeats, or hairpin structures, thus will not anneal properly to the target DNA template\n",
    "        self.min_cg = 0.4 #AT-rich strectches are hard to amplify under standard reaction conditions\n",
    "        self.penalty_cg = 10\n",
    "        \n",
    "        '''parameters for the annealing temperature criterion'''\n",
    "        self.max_temp = 65 #if too high, primer might not bind because bonds are broken as they are formed\n",
    "        self.min_temp = 50 #if too low, primer could bind imperfectly\n",
    "        self.penalty_temp = 10\n",
    "        \n",
    "        '''parameters for the run criterion'''\n",
    "        self.run_threshold = 4 #likely to have errors in replication\n",
    "        self.penalty_runs = 10\n",
    "        \n",
    "        '''parameters for the repeat criterion'''\n",
    "        self.repeat_threshold = 2 #likely to have errors in replication\n",
    "        self.penalty_repeats = 10\n",
    "        \n",
    "        '''parameters for the specificity criterion'''\n",
    "        self.penalty_specificity = 10 \n",
    "        \n",
    "        '''locations where the forward primer should be chosen from'''\n",
    "        self.fp_start = 100\n",
    "        self.fp_end = 200\n",
    "        \n",
    "        '''locations where the reverse primer should be chosen from'''\n",
    "        self.rp_start = 300\n",
    "        self.rp_end = 400\n",
    "        \n",
    "        ''' parameters for the simulated annealing portion'''\n",
    "        self.initial_temperature = 200\n",
    "        self.stopping_temperature = 0.01\n",
    "        self.drop_fraction = 0.999\n",
    "        "
   ]
  },
  {
   "cell_type": "markdown",
   "metadata": {},
   "source": [
    "### Task 2 "
   ]
  },
  {
   "cell_type": "markdown",
   "metadata": {},
   "source": [
    "### This method cleans a DNA sequence\n",
    "\n",
    "#All spaces, numbers and capital letters are removed"
   ]
  },
  {
   "cell_type": "code",
   "execution_count": 3,
   "metadata": {},
   "outputs": [],
   "source": [
    "class PrimerDesign(PrimerDesign): \n",
    "    \n",
    "    def set_dna_sequence(self, dna_sequence):\n",
    "        #list of bases\n",
    "        nucleotides = [\"a\", \"t\", \"c\", \"g\"]\n",
    "        output_list = []\n",
    "        \n",
    "        #checks input DNA sequence for bases and append them to a list\n",
    "        for char in dna_sequence: \n",
    "            if char in nucleotides: \n",
    "                output_list.append(char)\n",
    "        \n",
    "        #converts list into single line string\n",
    "        dna_sequence = \"\".join(output_list)\n",
    "        self.dna_sequence = dna_sequence\n",
    "        return self.dna_sequence"
   ]
  },
  {
   "cell_type": "markdown",
   "metadata": {},
   "source": [
    "#Test Case\n",
    "#Run this again after running all cells to instantiate test again"
   ]
  },
  {
   "cell_type": "code",
   "execution_count": 52,
   "metadata": {},
   "outputs": [
    {
     "name": "stdout",
     "output_type": "stream",
     "text": [
      "cccactgggcccagaaaggcagccaccaaattagcctggacaaccctgactaccagcaggacttctttcccaaggaagccaagccaaatggcatctttaagggctccacagctgaaaatgcagaatacctaagggtcgcgccacaaagcagtgaatttattggagcatgaccacggaggatagtatgagccctaaaaatccagactctttcgatacccaggaccaagccacagcaggtcctccatcccaacagccatgcccgcattagctcttagacccacagactggttttgcaacgtttacaccgactagccaggaagtacttccacctcgggcacattttgggaagttgcattcctttgtcttcaaactgtgaagcatttacagaaacgcatccagcaagaatattgtccctttgagcagaaatttatctttcaaagaggtatatttgaaaaaaaaaaaaagtatatgtgaggatttttattgattggggatcttggagtttttcattgtcgctattgatttttacttcaatgggctcttccaacaaggaagaagcttgctggtagcacttgctaccctgagttcatccaggcccaactgtgagcaaggagcacaagccacaagtcttccagaggatgcttgattccagtggttctgcttcaaggcttccactgcaaaacactaaagatccaagaaggccttcatggccccagcagg 720\n"
     ]
    }
   ],
   "source": [
    "test_sq = '3721 cccactgggc ccagaaaggc agccaccaaa ttagcctgga caaccctgac taccagcagg 3781 acttctttcc caaggaagcc aagccaaatg gcatctttaa gggctccaca gctgaaaatg 3841 cagaatacct aagggtcgcg ccacaaagca gtgaatttat tggagcatga ccacggagga 3901 tagtatgagc cctaaaaatc cagactcttt cgatacccag gaccaagcca cagcaggtcc 3961 tccatcccaa cagccatgcc cgcattagct cttagaccca cagactggtt ttgcaacgtt 4021 tacaccgact agccaggaag tacttccacc tcgggcacat tttgggaagt tgcattcctt 4081 tgtcttcaaa ctgtgaagca tttacagaaa cgcatccagc aagaatattg tccctttgag 4141 cagaaattta tctttcaaag aggtatattt gaaaaaaaaa aaaagtatat gtgaggattt 4201 ttattgattg gggatcttgg agtttttcat tgtcgctatt gatttttact tcaatgggct 4261 cttccaacaa ggaagaagct tgctggtagc acttgctacc ctgagttcat ccaggcccaa 4321 ctgtgagcaa ggagcacaag ccacaagtct tccagaggat gcttgattcc agtggttctg 4381 cttcaaggct tccactgcaa aacactaaag atccaagaag gccttcatgg ccccagcagg'\n",
    "test = PrimerDesign()\n",
    "test.set_dna_sequence(test_sq)\n",
    "print(test.dna_sequence, len(test.dna_sequence))"
   ]
  },
  {
   "cell_type": "markdown",
   "metadata": {},
   "source": [
    "### Task 3"
   ]
  },
  {
   "cell_type": "markdown",
   "metadata": {},
   "source": [
    "### This method selects a forward and reverse primer at random with a specified length"
   ]
  },
  {
   "cell_type": "code",
   "execution_count": 5,
   "metadata": {},
   "outputs": [],
   "source": [
    "import random \n",
    "\n",
    "class PrimerDesign(PrimerDesign):\n",
    "    \n",
    "    def func_select_random(self, sqtype='forward', length = 20 ):\n",
    "        \n",
    "        '''the length has to be a positive number'''\n",
    "        \n",
    "        if sqtype == 'forward':\n",
    "            output_list = []\n",
    "            start_limit = self.fp_start \n",
    "            end_limit = self.fp_end\n",
    "            #randomly generate a starting position for the primer\n",
    "            #the length of the primer is accounted for in the end limit\n",
    "            start_pos = random.randint(start_limit, end_limit-length)\n",
    "            #generate primer by slicing the dna sequence\n",
    "            self.forward_primer = self.dna_sequence[start_pos:start_pos+length]\n",
    "            return self.forward_primer \n",
    "        \n",
    "        elif sqtype == 'reverse':\n",
    "            start_limit = self.rp_start \n",
    "            end_limit = self.rp_end\n",
    "            start_pos= random.randint(start_limit, end_limit-length)\n",
    "            self.reverse_primer = self.dna_sequence[start_pos: start_pos+length]\n",
    "            return self.reverse_primer"
   ]
  },
  {
   "cell_type": "markdown",
   "metadata": {},
   "source": [
    "#Test Case"
   ]
  },
  {
   "cell_type": "code",
   "execution_count": 11,
   "metadata": {},
   "outputs": [
    {
     "name": "stdout",
     "output_type": "stream",
     "text": [
      "acggaggatagtatgagccc\n",
      "gaagtacttccacctcgggc\n"
     ]
    }
   ],
   "source": [
    "fp = test.func_select_random('forward')\n",
    "rp = test.func_select_random('reverse')\n",
    "print(fp)\n",
    "print(rp)"
   ]
  },
  {
   "cell_type": "markdown",
   "metadata": {},
   "source": [
    "### Task 4"
   ]
  },
  {
   "cell_type": "markdown",
   "metadata": {},
   "source": [
    "### This method calculates properties for a given primer string\n",
    "#They are defined in the following order:\n",
    "length, fraction of cg bases, annealing temperature, number of runs and number of repeats"
   ]
  },
  {
   "cell_type": "code",
   "execution_count": 12,
   "metadata": {},
   "outputs": [],
   "source": [
    "class PrimerDesign(PrimerDesign): \n",
    "    \n",
    "    def func_length(self, sq):\n",
    "        return len(sq)\n",
    "    \n",
    "    def func_cg_fraction(self, sq):\n",
    "        count = 0\n",
    "        #checks primer for c & g and adds to the counter\n",
    "        for base in sq:\n",
    "            if base == 'c' or base == 'g':\n",
    "                count+=1\n",
    "        return count/len(sq)\n",
    "    \n",
    "    def func_temperature(self,sq):\n",
    "        #calculates optimal temperature based on number of each base\n",
    "        optimal_temp = 4*(sq.count('c') + sq.count('g')) + 2*(sq.count('a') + sq.count('t'))\n",
    "        return optimal_temp"
   ]
  },
  {
   "cell_type": "markdown",
   "metadata": {},
   "source": [
    "#Test Case"
   ]
  },
  {
   "cell_type": "code",
   "execution_count": 15,
   "metadata": {},
   "outputs": [
    {
     "name": "stdout",
     "output_type": "stream",
     "text": [
      "acggaggatagtatgagccc\n",
      "20\n",
      "0.55\n",
      "62\n"
     ]
    }
   ],
   "source": [
    "print(fp)\n",
    "print(test.func_length(fp))\n",
    "print(test.func_cg_fraction(fp))\n",
    "print(test.func_temperature(fp))"
   ]
  },
  {
   "cell_type": "code",
   "execution_count": 16,
   "metadata": {},
   "outputs": [],
   "source": [
    "class PrimerDesign(PrimerDesign):\n",
    "\n",
    "    def func_count_runs(self,sq):\n",
    "        #converts primer string to list\n",
    "        sq_list = [i for i in sq]\n",
    "        runs = 0\n",
    "        count = 0\n",
    "        base = ' '\n",
    "        for i in sq_list:\n",
    "            #adds to count if base is same as previous\n",
    "            if i == base:\n",
    "                count += 1\n",
    "                \n",
    "            else:\n",
    "                if count >= self.run_threshold: #checks if count of previous base run exceeds threshold\n",
    "                    runs += 1 #update number of runs\n",
    "                count = 0 #resets count for new base\n",
    "                base = i #if base different from previous, variable base is changed to current base\n",
    "        if count >= self.run_threshold:\n",
    "            runs += 1\n",
    "        return runs"
   ]
  },
  {
   "cell_type": "markdown",
   "metadata": {},
   "source": [
    "#Test Case"
   ]
  },
  {
   "cell_type": "code",
   "execution_count": 19,
   "metadata": {},
   "outputs": [
    {
     "name": "stdout",
     "output_type": "stream",
     "text": [
      "acggaggatagtatgagccc\n",
      "0\n",
      "aaaaabaa\n",
      "1\n",
      "aattttcccccggggg\n",
      "2\n"
     ]
    }
   ],
   "source": [
    "print(fp)\n",
    "print(test.func_count_runs(fp))\n",
    "x = 'aaaaabaa'\n",
    "print(x)\n",
    "print(test.func_count_runs(x))\n",
    "y = 'aattttcccccggggg'\n",
    "print(y)\n",
    "print(test.func_count_runs(y))"
   ]
  },
  {
   "cell_type": "code",
   "execution_count": 20,
   "metadata": {
    "tags": [
     "Celine's"
    ]
   },
   "outputs": [],
   "source": [
    "class PrimerDesign(PrimerDesign):\n",
    "    def func_count_repeats(self,sq):\n",
    "        di_repeats = ['at','ac','ag','ca','ct','cg','ga','gt','gc','ta','tc','tg']\n",
    "        repeats = 0\n",
    "        count = 0\n",
    "\n",
    "        for i in di_repeats:\n",
    "            #makes a copy of primer sequence\n",
    "            x = sq[:]\n",
    "            while len(x)>= 2:\n",
    "                #if first 2 characters of sequence is same as di_repeat\n",
    "                if x[0] + x[1] == i:\n",
    "                    while len(x) >= 2 and x[0] + x[1] == i:\n",
    "                        count += 1 #adds to count\n",
    "                        x = x[2:] #removes first 2 characters\n",
    "                    \n",
    "                    #when encounter something that is not the di_repeat checked for, checks if theres a repeat\n",
    "                    if count > 1:\n",
    "                        repeats += count - 1\n",
    "                    count = 0\n",
    "\n",
    "                    #after encountering the first di_repeat in sequence if not di_repeat, remove first 1 character\n",
    "                    while len(x) >= 2 and x[0] + x[1] != i:\n",
    "                        x = x[1:]\n",
    "                \n",
    "                #before encountering first di_repeat\n",
    "                else:\n",
    "                    x = x[1:]\n",
    "                    \n",
    "            #when finish checking for sequence for a di_rpeeat, checks if last part has repeats        \n",
    "            if count > 1:\n",
    "                repeats += count -1\n",
    "            count = 0\n",
    "            \n",
    "        return repeats"
   ]
  },
  {
   "cell_type": "markdown",
   "metadata": {},
   "source": [
    "#Test Case"
   ]
  },
  {
   "cell_type": "code",
   "execution_count": 21,
   "metadata": {},
   "outputs": [
    {
     "name": "stdout",
     "output_type": "stream",
     "text": [
      "4\n",
      "8\n",
      "7\n"
     ]
    }
   ],
   "source": [
    "x = 'atatatcgtata'\n",
    "y = 'acacacttcgcgcgcg'\n",
    "z = 'gtacacacttacacacag'\n",
    "test = PrimerDesign()\n",
    "print(test.func_count_repeats(x))\n",
    "print(test.func_count_repeats(y))\n",
    "print(test.func_count_repeats(z))"
   ]
  },
  {
   "cell_type": "markdown",
   "metadata": {},
   "source": [
    "### Task 5"
   ]
  },
  {
   "cell_type": "markdown",
   "metadata": {},
   "source": [
    "### This method calculates the cost for each criteria"
   ]
  },
  {
   "cell_type": "code",
   "execution_count": 23,
   "metadata": {},
   "outputs": [],
   "source": [
    "class PrimerDesign(PrimerDesign):\n",
    "    \n",
    "    def cost_length(self, sq):\n",
    "        '''This is given to you as an example '''\n",
    "        sq_len = len(sq)\n",
    "        if(sq_len > self.max_length):\n",
    "            return (sq_len - self.max_length)*self.penalty_length\n",
    "        elif(sq_len > self.min_length):\n",
    "            return 0\n",
    "        else:\n",
    "            return (self.min_length - sq_len)*self.penalty_length \n",
    "    \n",
    "    def cost_temperature(self, sq):\n",
    "        temp = self.func_temperature(sq)\n",
    "        if temp > self.max_temp:\n",
    "            cost_temp = self.penalty_temp*(temp-self.max_temp)\n",
    "        elif temp > self.min_temp:\n",
    "            cost_temp = 0\n",
    "        else:\n",
    "            cost_temp = self.penalty_temp*(self.min_temp-temp)\n",
    "        return cost_temp\n",
    "        \n",
    "    def cost_cgcontent(self,sq):\n",
    "        cg_content = self.func_cg_fraction(sq)\n",
    "        if cg_content > 0.6:\n",
    "            cost_cgcontent = self.penalty_cg*(cg_content-0.6)\n",
    "        elif cg_content >= 0.4:\n",
    "            cost_cgcontent = 0\n",
    "        else:\n",
    "            cost_cgcontent = self.penalty_cg*(0.4-cg_content)\n",
    "        return cost_cgcontent\n",
    "        \n",
    "    def cost_temperature_difference(self, fp, rp):\n",
    "        temp_fp = self.func_temperature(fp)\n",
    "        temp_rp = self.func_temperature(rp)\n",
    "        temp_diff = abs(temp_fp-temp_rp)\n",
    "        if temp_diff > self.max_tdiff:\n",
    "            cost_temp_diff = self.penalty_tdiff*(temp_diff-self.max_tdiff)\n",
    "        else:\n",
    "            cost_temp_diff = 0\n",
    "        return cost_temp_diff\n",
    "    \n",
    "    def cost_specificity(self, sq):\n",
    "        return self.penalty_specificity*(self.dna_sequence.count(sq)-1)\n",
    "    \n",
    "    def cost_runs(self, sq):\n",
    "        return self.func_count_runs(sq) * self.penalty_runs\n",
    "    \n",
    "    def cost_repeats(self,sq):\n",
    "        return self.func_count_repeats(sq) * self.penalty_repeats"
   ]
  },
  {
   "cell_type": "markdown",
   "metadata": {},
   "source": [
    "### Task 6"
   ]
  },
  {
   "cell_type": "markdown",
   "metadata": {},
   "source": [
    "### This method sums the cost for each criteria for both primers"
   ]
  },
  {
   "cell_type": "code",
   "execution_count": 24,
   "metadata": {},
   "outputs": [],
   "source": [
    "class PrimerDesign(PrimerDesign):\n",
    "    \n",
    "    def cost_objective_function(self, fp, rp):\n",
    "        '''complete the calculation of the cost'''\n",
    "        \n",
    "        cost_fp = self.cost_length(fp) + self.cost_temperature(fp) + self.cost_cgcontent(fp) + self.cost_specificity(fp) + self.cost_runs(fp) + self.cost_repeats(fp)\n",
    "        cost_rp = self.cost_length(rp) + self.cost_temperature(rp) + self.cost_cgcontent(rp) + self.cost_specificity(rp) + self.cost_runs(rp) + self.cost_repeats(rp)\n",
    "        total_cost = cost_fp + cost_rp + self.cost_temperature_difference(fp,rp)\n",
    "        return total_cost "
   ]
  },
  {
   "cell_type": "markdown",
   "metadata": {},
   "source": [
    "#Test Case"
   ]
  },
  {
   "cell_type": "code",
   "execution_count": 28,
   "metadata": {},
   "outputs": [
    {
     "name": "stdout",
     "output_type": "stream",
     "text": [
      "40\n"
     ]
    }
   ],
   "source": [
    "print(test.cost_objective_function(fp,rp))"
   ]
  },
  {
   "cell_type": "markdown",
   "metadata": {},
   "source": [
    "### Task 7"
   ]
  },
  {
   "cell_type": "markdown",
   "metadata": {},
   "source": [
    "### This method prints a receipt of the cost of producing the randomly selected forward and reverse primers"
   ]
  },
  {
   "cell_type": "code",
   "execution_count": 42,
   "metadata": {},
   "outputs": [],
   "source": [
    "class PrimerDesign(PrimerDesign):\n",
    "    \n",
    "    def cost_objective_function_info(self, fp, rp):\n",
    "        Criterion = ['length','annealing temperature', '%cg_content','specificity','runs','repeats']\n",
    "        F_Cost = [self.func_length(fp), self.func_temperature(fp), self.cost_cgcontent(fp), self.cost_specificity(fp), self.cost_runs(fp), self.cost_repeats(fp)]\n",
    "        F_Criterion_Met = ['True' if i==0 else 'False' for i in F_Cost]\n",
    "        \n",
    "        R_Cost = [self.func_length(rp), self.func_temperature(rp), self.cost_cgcontent(rp), self.cost_specificity(rp), self.cost_runs(rp), self.cost_repeats(rp)]\n",
    "        R_Criterion_Met = ['True' if i==0 else 'False' for i in R_Cost]\n",
    "\n",
    "        line = '{:<80}'.format('===Forward Primer=== {}'.format(fp)) + '\\n' \n",
    "        line += '{:<25}'.format('Criterion') + '{:>25}'.format('Cost Function Score') + '{:>30}'.format('Criteria Met') + '\\n' \n",
    "        line += '-'*80 + '\\n'\n",
    "        line += '{:<25}'.format(Criterion[0]) + '{:>25}'.format('{0:.3f}'.format(F_Cost[0])) + '{:>30}'.format(F_Criterion_Met[0]) + '\\n'\n",
    "        line += '{:<25}'.format(Criterion[1]) + '{:>25}'.format('{0:.3f}'.format(F_Cost[1])) + '{:>30}'.format(F_Criterion_Met[1]) + '\\n'\n",
    "        line += '{:<25}'.format(Criterion[2]) + '{:>25}'.format('{0:.3f}'.format(F_Cost[2])) + '{:>30}'.format(F_Criterion_Met[2]) + '\\n'\n",
    "        line += '{:<25}'.format(Criterion[3]) + '{:>25}'.format('{0:.3f}'.format(F_Cost[3])) + '{:>30}'.format(F_Criterion_Met[3]) + '\\n'\n",
    "        line += '{:<25}'.format(Criterion[4]) + '{:>25}'.format('{0:.3f}'.format(F_Cost[4])) + '{:>30}'.format(F_Criterion_Met[4]) + '\\n'\n",
    "        line += '{:<25}'.format(Criterion[5]) + '{:>25}'.format('{0:.3f}'.format(F_Cost[5])) + '{:>30}'.format(F_Criterion_Met[5]) + '\\n'\n",
    "        line += '\\n'\n",
    "\n",
    "        line += '{:<50}'.format('===Reverse Primer=== {}'.format(rp)) + '\\n' \n",
    "        line += '{:<25}'.format('Criterion') + '{:>25}'.format('Cost Function Score') + '{:>30}'.format('Criteria Met') + '\\n' \n",
    "        line += '-'*80 + '\\n'\n",
    "        line += '{:<25}'.format(Criterion[0]) + '{:>25}'.format('{0:.3f}'.format(R_Cost[0])) + '{:>30}'.format(R_Criterion_Met[0]) + '\\n'\n",
    "        line += '{:<25}'.format(Criterion[1]) + '{:>25}'.format('{0:.3f}'.format(R_Cost[1])) + '{:>30}'.format(R_Criterion_Met[1]) + '\\n'\n",
    "        line += '{:<25}'.format(Criterion[2]) + '{:>25}'.format('{0:.3f}'.format(R_Cost[2])) + '{:>30}'.format(R_Criterion_Met[2]) + '\\n'\n",
    "        line += '{:<25}'.format(Criterion[3]) + '{:>25}'.format('{0:.3f}'.format(R_Cost[3])) + '{:>30}'.format(R_Criterion_Met[3]) + '\\n'\n",
    "        line += '{:<25}'.format(Criterion[4]) + '{:>25}'.format('{0:.3f}'.format(R_Cost[4])) + '{:>30}'.format(R_Criterion_Met[4]) + '\\n'\n",
    "        line += '{:<25}'.format(Criterion[5]) + '{:>25}'.format('{0:.3f}'.format(R_Cost[5])) + '{:>30}'.format(R_Criterion_Met[5]) + '\\n'\n",
    "        line += '\\n'\n",
    "\n",
    "        line += '{:<25}'.format('Temperature Difference') + '{:>25}'.format('{0:.3f}'.format(self.cost_objective_function(fp,rp))) + '\\n'\n",
    "        \n",
    "        print (line)"
   ]
  },
  {
   "cell_type": "code",
   "execution_count": 45,
   "metadata": {},
   "outputs": [
    {
     "name": "stdout",
     "output_type": "stream",
     "text": [
      "===Forward Primer=== acggaggatagtatgagccc                                       \n",
      "Criterion                      Cost Function Score                  Criteria Met\n",
      "--------------------------------------------------------------------------------\n",
      "length                                      20.000                         False\n",
      "annealing temperature                       62.000                         False\n",
      "%cg_content                                  0.000                          True\n",
      "specificity                                  0.000                          True\n",
      "runs                                         0.000                          True\n",
      "repeats                                      0.000                          True\n",
      "\n",
      "===Reverse Primer=== gaagtacttccacctcgggc         \n",
      "Criterion                      Cost Function Score                  Criteria Met\n",
      "--------------------------------------------------------------------------------\n",
      "length                                      20.000                         False\n",
      "annealing temperature                       64.000                         False\n",
      "%cg_content                                  0.000                          True\n",
      "specificity                                  0.000                          True\n",
      "runs                                         0.000                          True\n",
      "repeats                                      0.000                          True\n",
      "\n",
      "Temperature Difference                      40.000\n",
      "\n"
     ]
    }
   ],
   "source": [
    "test.cost_objective_function_info(fp,rp)"
   ]
  },
  {
   "cell_type": "markdown",
   "metadata": {},
   "source": [
    "### This method uses pandas to print a similar receipt"
   ]
  },
  {
   "cell_type": "code",
   "execution_count": 48,
   "metadata": {},
   "outputs": [],
   "source": [
    "def color_false(s):\n",
    "    if s == 'False':\n",
    "        color = 'red'\n",
    "    elif s == 'True':\n",
    "        color = 'green'\n",
    "    else:\n",
    "        color = 'black'\n",
    "    return 'color: %s' % color"
   ]
  },
  {
   "cell_type": "code",
   "execution_count": 51,
   "metadata": {},
   "outputs": [],
   "source": [
    "import pandas as pd\n",
    "\n",
    "class PrimerDesign(PrimerDesign):\n",
    "    \n",
    "    def cost_objective_function_info(self, fp, rp):\n",
    "        Criterion = ['length','annealing temperature', '%cg_content','specificity','runs','repeats']\n",
    "        F_Cost = [self.func_length(fp),\n",
    "                  self.func_temperature(fp),\n",
    "                  self.cost_cgcontent(fp),\n",
    "                  self.cost_specificity(fp),\n",
    "                  self.cost_runs(fp),\n",
    "                  self.cost_repeats(fp)]\n",
    "        F_Criterion_Met = ['True' if i==0 else 'False' for i in F_Cost]\n",
    "        F_Primer = {'Criterion': Criterion, \n",
    "                    'Cost Function Score': pd.Series(['{0:.3f}'.format(i) for i in F_Cost], index=[i for i in range(1,7)]), \n",
    "                    'Criterion Met':F_Criterion_Met}\n",
    "        \n",
    "        R_Cost = [self.func_length(rp),\n",
    "                  self.func_temperature(rp),\n",
    "                  self.cost_cgcontent(rp),\n",
    "                  self.cost_specificity(rp),\n",
    "                  self.cost_runs(rp),\n",
    "                  self.cost_repeats(rp)]\n",
    "        R_Criterion_Met = ['True' if i==0 else 'False' for i in R_Cost]\n",
    "        R_Primer = {'Criterion': Criterion, \n",
    "                    'Cost Function Score': pd.Series(['{0:.3f}'.format(i) for i in R_Cost], index=[i for i in range(1,7)]), \n",
    "                    'Criterion Met':R_Criterion_Met}\n",
    "        return (F_Primer, R_Primer)"
   ]
  },
  {
   "cell_type": "code",
   "execution_count": 53,
   "metadata": {},
   "outputs": [
    {
     "name": "stdout",
     "output_type": "stream",
     "text": [
      "Forward Primer\n"
     ]
    },
    {
     "data": {
      "text/html": [
       "<style  type=\"text/css\" >\n",
       "    #T_322efeb4_3e8e_11e8_9a40_14abc5f0b92crow0_col0 {\n",
       "            color:  black;\n",
       "        }    #T_322efeb4_3e8e_11e8_9a40_14abc5f0b92crow0_col1 {\n",
       "            color:  black;\n",
       "        }    #T_322efeb4_3e8e_11e8_9a40_14abc5f0b92crow0_col2 {\n",
       "            color:  red;\n",
       "        }    #T_322efeb4_3e8e_11e8_9a40_14abc5f0b92crow1_col0 {\n",
       "            color:  black;\n",
       "        }    #T_322efeb4_3e8e_11e8_9a40_14abc5f0b92crow1_col1 {\n",
       "            color:  black;\n",
       "        }    #T_322efeb4_3e8e_11e8_9a40_14abc5f0b92crow1_col2 {\n",
       "            color:  red;\n",
       "        }    #T_322efeb4_3e8e_11e8_9a40_14abc5f0b92crow2_col0 {\n",
       "            color:  black;\n",
       "        }    #T_322efeb4_3e8e_11e8_9a40_14abc5f0b92crow2_col1 {\n",
       "            color:  black;\n",
       "        }    #T_322efeb4_3e8e_11e8_9a40_14abc5f0b92crow2_col2 {\n",
       "            color:  green;\n",
       "        }    #T_322efeb4_3e8e_11e8_9a40_14abc5f0b92crow3_col0 {\n",
       "            color:  black;\n",
       "        }    #T_322efeb4_3e8e_11e8_9a40_14abc5f0b92crow3_col1 {\n",
       "            color:  black;\n",
       "        }    #T_322efeb4_3e8e_11e8_9a40_14abc5f0b92crow3_col2 {\n",
       "            color:  green;\n",
       "        }    #T_322efeb4_3e8e_11e8_9a40_14abc5f0b92crow4_col0 {\n",
       "            color:  black;\n",
       "        }    #T_322efeb4_3e8e_11e8_9a40_14abc5f0b92crow4_col1 {\n",
       "            color:  black;\n",
       "        }    #T_322efeb4_3e8e_11e8_9a40_14abc5f0b92crow4_col2 {\n",
       "            color:  green;\n",
       "        }    #T_322efeb4_3e8e_11e8_9a40_14abc5f0b92crow5_col0 {\n",
       "            color:  black;\n",
       "        }    #T_322efeb4_3e8e_11e8_9a40_14abc5f0b92crow5_col1 {\n",
       "            color:  black;\n",
       "        }    #T_322efeb4_3e8e_11e8_9a40_14abc5f0b92crow5_col2 {\n",
       "            color:  green;\n",
       "        }</style>  \n",
       "<table id=\"T_322efeb4_3e8e_11e8_9a40_14abc5f0b92c\" > \n",
       "<thead>    <tr> \n",
       "        <th class=\"blank level0\" ></th> \n",
       "        <th class=\"col_heading level0 col0\" >Criterion</th> \n",
       "        <th class=\"col_heading level0 col1\" >Cost Function Score</th> \n",
       "        <th class=\"col_heading level0 col2\" >Criterion Met</th> \n",
       "    </tr></thead> \n",
       "<tbody>    <tr> \n",
       "        <th id=\"T_322efeb4_3e8e_11e8_9a40_14abc5f0b92clevel0_row0\" class=\"row_heading level0 row0\" >1</th> \n",
       "        <td id=\"T_322efeb4_3e8e_11e8_9a40_14abc5f0b92crow0_col0\" class=\"data row0 col0\" >length</td> \n",
       "        <td id=\"T_322efeb4_3e8e_11e8_9a40_14abc5f0b92crow0_col1\" class=\"data row0 col1\" >20.000</td> \n",
       "        <td id=\"T_322efeb4_3e8e_11e8_9a40_14abc5f0b92crow0_col2\" class=\"data row0 col2\" >False</td> \n",
       "    </tr>    <tr> \n",
       "        <th id=\"T_322efeb4_3e8e_11e8_9a40_14abc5f0b92clevel0_row1\" class=\"row_heading level0 row1\" >2</th> \n",
       "        <td id=\"T_322efeb4_3e8e_11e8_9a40_14abc5f0b92crow1_col0\" class=\"data row1 col0\" >annealing temperature</td> \n",
       "        <td id=\"T_322efeb4_3e8e_11e8_9a40_14abc5f0b92crow1_col1\" class=\"data row1 col1\" >62.000</td> \n",
       "        <td id=\"T_322efeb4_3e8e_11e8_9a40_14abc5f0b92crow1_col2\" class=\"data row1 col2\" >False</td> \n",
       "    </tr>    <tr> \n",
       "        <th id=\"T_322efeb4_3e8e_11e8_9a40_14abc5f0b92clevel0_row2\" class=\"row_heading level0 row2\" >3</th> \n",
       "        <td id=\"T_322efeb4_3e8e_11e8_9a40_14abc5f0b92crow2_col0\" class=\"data row2 col0\" >%cg_content</td> \n",
       "        <td id=\"T_322efeb4_3e8e_11e8_9a40_14abc5f0b92crow2_col1\" class=\"data row2 col1\" >0.000</td> \n",
       "        <td id=\"T_322efeb4_3e8e_11e8_9a40_14abc5f0b92crow2_col2\" class=\"data row2 col2\" >True</td> \n",
       "    </tr>    <tr> \n",
       "        <th id=\"T_322efeb4_3e8e_11e8_9a40_14abc5f0b92clevel0_row3\" class=\"row_heading level0 row3\" >4</th> \n",
       "        <td id=\"T_322efeb4_3e8e_11e8_9a40_14abc5f0b92crow3_col0\" class=\"data row3 col0\" >specificity</td> \n",
       "        <td id=\"T_322efeb4_3e8e_11e8_9a40_14abc5f0b92crow3_col1\" class=\"data row3 col1\" >0.000</td> \n",
       "        <td id=\"T_322efeb4_3e8e_11e8_9a40_14abc5f0b92crow3_col2\" class=\"data row3 col2\" >True</td> \n",
       "    </tr>    <tr> \n",
       "        <th id=\"T_322efeb4_3e8e_11e8_9a40_14abc5f0b92clevel0_row4\" class=\"row_heading level0 row4\" >5</th> \n",
       "        <td id=\"T_322efeb4_3e8e_11e8_9a40_14abc5f0b92crow4_col0\" class=\"data row4 col0\" >runs</td> \n",
       "        <td id=\"T_322efeb4_3e8e_11e8_9a40_14abc5f0b92crow4_col1\" class=\"data row4 col1\" >0.000</td> \n",
       "        <td id=\"T_322efeb4_3e8e_11e8_9a40_14abc5f0b92crow4_col2\" class=\"data row4 col2\" >True</td> \n",
       "    </tr>    <tr> \n",
       "        <th id=\"T_322efeb4_3e8e_11e8_9a40_14abc5f0b92clevel0_row5\" class=\"row_heading level0 row5\" >6</th> \n",
       "        <td id=\"T_322efeb4_3e8e_11e8_9a40_14abc5f0b92crow5_col0\" class=\"data row5 col0\" >repeats</td> \n",
       "        <td id=\"T_322efeb4_3e8e_11e8_9a40_14abc5f0b92crow5_col1\" class=\"data row5 col1\" >0.000</td> \n",
       "        <td id=\"T_322efeb4_3e8e_11e8_9a40_14abc5f0b92crow5_col2\" class=\"data row5 col2\" >True</td> \n",
       "    </tr></tbody> \n",
       "</table> "
      ],
      "text/plain": [
       "<pandas.io.formats.style.Styler at 0x20fc9206978>"
      ]
     },
     "execution_count": 53,
     "metadata": {},
     "output_type": "execute_result"
    }
   ],
   "source": [
    "print('Forward Primer')\n",
    "pd.DataFrame.from_dict(test.cost_objective_function_info(fp,rp)[0])[['Criterion', 'Cost Function Score', 'Criterion Met']].style.applymap(color_false)"
   ]
  },
  {
   "cell_type": "code",
   "execution_count": 55,
   "metadata": {},
   "outputs": [
    {
     "name": "stdout",
     "output_type": "stream",
     "text": [
      "Reverse Primer\n"
     ]
    },
    {
     "data": {
      "text/html": [
       "<style  type=\"text/css\" >\n",
       "    #T_3f0b4700_3e8e_11e8_9721_14abc5f0b92crow0_col0 {\n",
       "            color:  black;\n",
       "        }    #T_3f0b4700_3e8e_11e8_9721_14abc5f0b92crow0_col1 {\n",
       "            color:  black;\n",
       "        }    #T_3f0b4700_3e8e_11e8_9721_14abc5f0b92crow0_col2 {\n",
       "            color:  red;\n",
       "        }    #T_3f0b4700_3e8e_11e8_9721_14abc5f0b92crow1_col0 {\n",
       "            color:  black;\n",
       "        }    #T_3f0b4700_3e8e_11e8_9721_14abc5f0b92crow1_col1 {\n",
       "            color:  black;\n",
       "        }    #T_3f0b4700_3e8e_11e8_9721_14abc5f0b92crow1_col2 {\n",
       "            color:  red;\n",
       "        }    #T_3f0b4700_3e8e_11e8_9721_14abc5f0b92crow2_col0 {\n",
       "            color:  black;\n",
       "        }    #T_3f0b4700_3e8e_11e8_9721_14abc5f0b92crow2_col1 {\n",
       "            color:  black;\n",
       "        }    #T_3f0b4700_3e8e_11e8_9721_14abc5f0b92crow2_col2 {\n",
       "            color:  green;\n",
       "        }    #T_3f0b4700_3e8e_11e8_9721_14abc5f0b92crow3_col0 {\n",
       "            color:  black;\n",
       "        }    #T_3f0b4700_3e8e_11e8_9721_14abc5f0b92crow3_col1 {\n",
       "            color:  black;\n",
       "        }    #T_3f0b4700_3e8e_11e8_9721_14abc5f0b92crow3_col2 {\n",
       "            color:  green;\n",
       "        }    #T_3f0b4700_3e8e_11e8_9721_14abc5f0b92crow4_col0 {\n",
       "            color:  black;\n",
       "        }    #T_3f0b4700_3e8e_11e8_9721_14abc5f0b92crow4_col1 {\n",
       "            color:  black;\n",
       "        }    #T_3f0b4700_3e8e_11e8_9721_14abc5f0b92crow4_col2 {\n",
       "            color:  green;\n",
       "        }    #T_3f0b4700_3e8e_11e8_9721_14abc5f0b92crow5_col0 {\n",
       "            color:  black;\n",
       "        }    #T_3f0b4700_3e8e_11e8_9721_14abc5f0b92crow5_col1 {\n",
       "            color:  black;\n",
       "        }    #T_3f0b4700_3e8e_11e8_9721_14abc5f0b92crow5_col2 {\n",
       "            color:  green;\n",
       "        }</style>  \n",
       "<table id=\"T_3f0b4700_3e8e_11e8_9721_14abc5f0b92c\" > \n",
       "<thead>    <tr> \n",
       "        <th class=\"blank level0\" ></th> \n",
       "        <th class=\"col_heading level0 col0\" >Criterion</th> \n",
       "        <th class=\"col_heading level0 col1\" >Cost Function Score</th> \n",
       "        <th class=\"col_heading level0 col2\" >Criterion Met</th> \n",
       "    </tr></thead> \n",
       "<tbody>    <tr> \n",
       "        <th id=\"T_3f0b4700_3e8e_11e8_9721_14abc5f0b92clevel0_row0\" class=\"row_heading level0 row0\" >1</th> \n",
       "        <td id=\"T_3f0b4700_3e8e_11e8_9721_14abc5f0b92crow0_col0\" class=\"data row0 col0\" >length</td> \n",
       "        <td id=\"T_3f0b4700_3e8e_11e8_9721_14abc5f0b92crow0_col1\" class=\"data row0 col1\" >20.000</td> \n",
       "        <td id=\"T_3f0b4700_3e8e_11e8_9721_14abc5f0b92crow0_col2\" class=\"data row0 col2\" >False</td> \n",
       "    </tr>    <tr> \n",
       "        <th id=\"T_3f0b4700_3e8e_11e8_9721_14abc5f0b92clevel0_row1\" class=\"row_heading level0 row1\" >2</th> \n",
       "        <td id=\"T_3f0b4700_3e8e_11e8_9721_14abc5f0b92crow1_col0\" class=\"data row1 col0\" >annealing temperature</td> \n",
       "        <td id=\"T_3f0b4700_3e8e_11e8_9721_14abc5f0b92crow1_col1\" class=\"data row1 col1\" >64.000</td> \n",
       "        <td id=\"T_3f0b4700_3e8e_11e8_9721_14abc5f0b92crow1_col2\" class=\"data row1 col2\" >False</td> \n",
       "    </tr>    <tr> \n",
       "        <th id=\"T_3f0b4700_3e8e_11e8_9721_14abc5f0b92clevel0_row2\" class=\"row_heading level0 row2\" >3</th> \n",
       "        <td id=\"T_3f0b4700_3e8e_11e8_9721_14abc5f0b92crow2_col0\" class=\"data row2 col0\" >%cg_content</td> \n",
       "        <td id=\"T_3f0b4700_3e8e_11e8_9721_14abc5f0b92crow2_col1\" class=\"data row2 col1\" >0.000</td> \n",
       "        <td id=\"T_3f0b4700_3e8e_11e8_9721_14abc5f0b92crow2_col2\" class=\"data row2 col2\" >True</td> \n",
       "    </tr>    <tr> \n",
       "        <th id=\"T_3f0b4700_3e8e_11e8_9721_14abc5f0b92clevel0_row3\" class=\"row_heading level0 row3\" >4</th> \n",
       "        <td id=\"T_3f0b4700_3e8e_11e8_9721_14abc5f0b92crow3_col0\" class=\"data row3 col0\" >specificity</td> \n",
       "        <td id=\"T_3f0b4700_3e8e_11e8_9721_14abc5f0b92crow3_col1\" class=\"data row3 col1\" >0.000</td> \n",
       "        <td id=\"T_3f0b4700_3e8e_11e8_9721_14abc5f0b92crow3_col2\" class=\"data row3 col2\" >True</td> \n",
       "    </tr>    <tr> \n",
       "        <th id=\"T_3f0b4700_3e8e_11e8_9721_14abc5f0b92clevel0_row4\" class=\"row_heading level0 row4\" >5</th> \n",
       "        <td id=\"T_3f0b4700_3e8e_11e8_9721_14abc5f0b92crow4_col0\" class=\"data row4 col0\" >runs</td> \n",
       "        <td id=\"T_3f0b4700_3e8e_11e8_9721_14abc5f0b92crow4_col1\" class=\"data row4 col1\" >0.000</td> \n",
       "        <td id=\"T_3f0b4700_3e8e_11e8_9721_14abc5f0b92crow4_col2\" class=\"data row4 col2\" >True</td> \n",
       "    </tr>    <tr> \n",
       "        <th id=\"T_3f0b4700_3e8e_11e8_9721_14abc5f0b92clevel0_row5\" class=\"row_heading level0 row5\" >6</th> \n",
       "        <td id=\"T_3f0b4700_3e8e_11e8_9721_14abc5f0b92crow5_col0\" class=\"data row5 col0\" >repeats</td> \n",
       "        <td id=\"T_3f0b4700_3e8e_11e8_9721_14abc5f0b92crow5_col1\" class=\"data row5 col1\" >0.000</td> \n",
       "        <td id=\"T_3f0b4700_3e8e_11e8_9721_14abc5f0b92crow5_col2\" class=\"data row5 col2\" >True</td> \n",
       "    </tr></tbody> \n",
       "</table> "
      ],
      "text/plain": [
       "<pandas.io.formats.style.Styler at 0x20fc9b1e9e8>"
      ]
     },
     "execution_count": 55,
     "metadata": {},
     "output_type": "execute_result"
    }
   ],
   "source": [
    "print('Reverse Primer')\n",
    "pd.DataFrame.from_dict(test.cost_objective_function_info(fp,rp)[1])[['Criterion', 'Cost Function Score', 'Criterion Met']].style.applymap(color_false)"
   ]
  },
  {
   "cell_type": "markdown",
   "metadata": {},
   "source": [
    "### Task 10"
   ]
  },
  {
   "cell_type": "code",
   "execution_count": null,
   "metadata": {},
   "outputs": [],
   "source": [
    "class PrimerDesign(PrimerDesign): \n",
    "    \n",
    "    def func_simulated_annealing(self):\n",
    "        \n",
    "        temperature = self.initial_temperature\n",
    "        stopping_temperature = self.stopping_temperature\n",
    "        drop = self.drop_fractionfunc\n",
    "        \n",
    "        pass \n"
   ]
  },
  {
   "cell_type": "code",
   "execution_count": null,
   "metadata": {},
   "outputs": [],
   "source": []
  },
  {
   "cell_type": "markdown",
   "metadata": {},
   "source": [
    "### Store the DNA sequence given to you in the variable below "
   ]
  },
  {
   "cell_type": "code",
   "execution_count": null,
   "metadata": {},
   "outputs": [],
   "source": [
    "dna_sequence = ''' '''"
   ]
  },
  {
   "cell_type": "markdown",
   "metadata": {},
   "source": [
    "### Instantiate your class and read in the DNA sequence"
   ]
  },
  {
   "cell_type": "code",
   "execution_count": null,
   "metadata": {},
   "outputs": [],
   "source": []
  },
  {
   "cell_type": "markdown",
   "metadata": {},
   "source": [
    "### If you need to adjust any parameter from their default values in the init method, do it here"
   ]
  },
  {
   "cell_type": "code",
   "execution_count": null,
   "metadata": {},
   "outputs": [],
   "source": []
  },
  {
   "cell_type": "markdown",
   "metadata": {},
   "source": [
    "### Show the outcome of your testing and the functions in the subsequent cells "
   ]
  }
 ],
 "metadata": {
  "kernelspec": {
   "display_name": "Python 3",
   "language": "python",
   "name": "python3"
  },
  "language_info": {
   "codemirror_mode": {
    "name": "ipython",
    "version": 3
   },
   "file_extension": ".py",
   "mimetype": "text/x-python",
   "name": "python",
   "nbconvert_exporter": "python",
   "pygments_lexer": "ipython3",
   "version": "3.6.3"
  }
 },
 "nbformat": 4,
 "nbformat_minor": 2
}
