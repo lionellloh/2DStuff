{
 "cells": [
  {
   "cell_type": "code",
   "execution_count": 2,
   "metadata": {},
   "outputs": [],
   "source": [
    "import random\n",
    "import math"
   ]
  },
  {
   "cell_type": "code",
   "execution_count": 11,
   "metadata": {},
   "outputs": [],
   "source": [
    "class PrimerDesign(object):\n",
    "    \n",
    "    def __init__ (self, name):\n",
    "        \n",
    "        '''parameters for the length criterion'''\n",
    "        self.max_length = 0\n",
    "        self.min_length = 0\n",
    "        self.penalty_length = 10\n",
    "        \n",
    "        '''parameters for the temperature difference criterion'''\n",
    "        self.max_tdiff = 0\n",
    "        self.min_tdiff = 0\n",
    "        self.penalty_tdiff = 10\n",
    "        \n",
    "        '''parameters for the cg content criterion'''\n",
    "        self.max_cg = 0\n",
    "        self.min_cg = 0\n",
    "        self.penalty_cg = 10\n",
    "        \n",
    "        '''parameters for the annealing temperature criterion'''\n",
    "        self.max_temp = 0\n",
    "        self.min_temp = 0\n",
    "        self.penalty_temp = 10\n",
    "        \n",
    "        '''parameters for the run criterion'''\n",
    "        self.run_threshold = 0\n",
    "        self.penalty_runs = 10\n",
    "        \n",
    "        '''parameters for the repeat criterion'''\n",
    "        self.repeat_threshold = 0\n",
    "        self.penalty_repeats = 10\n",
    "        \n",
    "        '''parameters for the specificity criterion'''\n",
    "        self.penalty_specificity = 10 \n",
    "        \n",
    "        '''locations where the forward primer should be chosen from'''\n",
    "        self.fp_start = 100\n",
    "        self.fp_end = 200\n",
    "        \n",
    "        '''locations where the reverse primer should be chosen from'''\n",
    "        self.rp_start = 300\n",
    "        self.rp_end = 400\n",
    "        \n",
    "        ''' parameters for the simulated annealing portion'''\n",
    "        self.initial_temperature = 200\n",
    "        self.stopping_temperature = 0.01\n",
    "        self.drop_fraction = 0.999\n",
    "        "
   ]
  },
  {
   "cell_type": "markdown",
   "metadata": {},
   "source": [
    "### Task 2 "
   ]
  },
  {
   "cell_type": "code",
   "execution_count": 12,
   "metadata": {},
   "outputs": [],
   "source": [
    "string = \"1 gtccgggcag cccccggcgc agcgcggccg cagcagcctc cgccccccgc acggtgtgag 1 gtccgggcag cccccggcgc agcgcggccg cagcagcctc cgccccccgc acggtgtgag 1 gtccgggcag cccccggcgc agcgcggccg cagcagcctc cgccccccgc acggtgtgag 1 gtccgggcag cccccggcgc agcgcggccg cagcagcctc cgccccccgc acggtgtgag 1 gtccgggcag cccccggcgc agcgcggccg cagcagcctc cgccccccgc acggtgtgag 1 gtccgggcag cccccggcgc agcgcggccg cagcagcctc cgccccccgc acggtgtgag\""
   ]
  },
  {
   "cell_type": "code",
   "execution_count": 13,
   "metadata": {},
   "outputs": [],
   "source": [
    "class PrimerDesign(PrimerDesign): \n",
    "    \n",
    "    def set_dna_sequence(self, dna_sequence):\n",
    "        nucleotides = [\"a\", \"t\", \"c\", \"g\"]\n",
    "        output_list = []\n",
    "        for char in dna_sequence: \n",
    "            if char in nucleotides: \n",
    "                output_list.append(char)\n",
    "#         print(\"output\", output_list)\n",
    "        dna_sequence = \"\".join(output_list)\n",
    "        self.dna_sequence = dna_sequence "
   ]
  },
  {
   "cell_type": "code",
   "execution_count": 14,
   "metadata": {},
   "outputs": [
    {
     "data": {
      "text/plain": [
       "'gtccgggcagcccccggcgcagcgcggccgcagcagcctccgccccccgcacggtgtgaggtccgggcagcccccggcgcagcgcggccgcagcagcctccgccccccgcacggtgtgaggtccgggcagcccccggcgcagcgcggccgcagcagcctccgccccccgcacggtgtgaggtccgggcagcccccggcgcagcgcggccgcagcagcctccgccccccgcacggtgtgaggtccgggcagcccccggcgcagcgcggccgcagcagcctccgccccccgcacggtgtgaggtccgggcagcccccggcgcagcgcggccgcagcagcctccgccccccgcacggtgtgag'"
      ]
     },
     "execution_count": 14,
     "metadata": {},
     "output_type": "execute_result"
    }
   ],
   "source": []
  },
  {
   "cell_type": "markdown",
   "metadata": {},
   "source": [
    "### Task 3"
   ]
  },
  {
   "cell_type": "markdown",
   "metadata": {},
   "source": [
    "Should I save or return the primer"
   ]
  },
  {
   "cell_type": "code",
   "execution_count": 15,
   "metadata": {},
   "outputs": [],
   "source": [
    "class PrimerDesign(PrimerDesign):\n",
    "    \n",
    "    def func_select_random(self, sqtype='forward', length = 20 ):\n",
    "        '''the length has to be a positive number'''\n",
    "        \n",
    "        if(sqtype == 'forward'):\n",
    "#             print(\"forward\")\n",
    "            output_list = []\n",
    "            start_limit = self.fp_start \n",
    "            end_limit = self.fp_end \n",
    "            start_pos = random.randint(start_limit, end_limit-length)\n",
    "            forward_unprocessed = self.dna_sequence[start_pos:start_pos+length]\n",
    "            for char in forward_unprocessed[::-1]:\n",
    "                if char == \"a\":\n",
    "                    output_list.append(\"t\")\n",
    "                elif char == \"t\":\n",
    "                    output_list.append(\"a\")\n",
    "                elif char == \"g\":\n",
    "                    output_list.append(\"c\")\n",
    "                elif char == \"c\":\n",
    "                    output_list.append(\"g\")\n",
    "            forward_primer = \"\".join(output_list)\n",
    "            return forward_primer \n",
    "        \n",
    "        elif(sqtype == 'reverse'):\n",
    "#             print(\"reverse\")\n",
    "            start_limit = self.rp_start \n",
    "            end_limit = self.rp_end\n",
    "            \n",
    "            start_pos= random.randint(start_limit, end_limit-length)\n",
    "            reverse_primer = self.dna_sequence[start_pos: start_pos+length]\n",
    "       \n",
    "            return reverse_primer\n",
    "        else: \n",
    "            return None\n",
    "         \n",
    "\n"
   ]
  },
  {
   "cell_type": "markdown",
   "metadata": {},
   "source": [
    "Test func_select_random for both forward and reverse"
   ]
  },
  {
   "cell_type": "code",
   "execution_count": 17,
   "metadata": {},
   "outputs": [
    {
     "name": "stdout",
     "output_type": "stream",
     "text": [
      "gccgggggctgcccggacct\n",
      "ccgggcagcccccggcgcag\n"
     ]
    }
   ],
   "source": [
    "test2 = PrimerDesign(\"Example\")\n",
    "test2.set_dna_sequence(string)\n",
    "test2.dna_sequence\n",
    "print(test2.func_select_random(sqtype='forward', length = 20))\n",
    "print(test2.func_select_random(sqtype='reverse', length=20))"
   ]
  },
  {
   "cell_type": "markdown",
   "metadata": {},
   "source": [
    "### Task 4"
   ]
  },
  {
   "cell_type": "code",
   "execution_count": 19,
   "metadata": {},
   "outputs": [],
   "source": [
    "class PrimerDesign(PrimerDesign): \n",
    "    \n",
    "    def func_length(self, sq):\n",
    "        return len(sq)\n",
    "    \n",
    "    def func_cg_fraction(self, sq):\n",
    "        count = 0 \n",
    "        for base in sq: \n",
    "            if base == 'c' or base == 'g': \n",
    "                count+=1 \n",
    "        return count/len(sq)\n",
    "    \n",
    "    def func_temperature(self,sq):\n",
    "        optimal_temp = 4*(sq.count('c')+sq.count('g'))+2*(sq.count('a')+sq.count('t'))\n",
    "        return optimal_temp"
   ]
  },
  {
   "cell_type": "code",
   "execution_count": 23,
   "metadata": {},
   "outputs": [],
   "source": [
    "class PrimerDesign(PrimerDesign):\n",
    "\n",
    "    def func_count_runs(self,sq):\n",
    "        count = 1 \n",
    "        num = 0 \n",
    "        for i in range(len(sq)):\n",
    "#       Check if it is the last character\n",
    "\n",
    "            if i == len(sq)-1:\n",
    "                if count > self.run_threshold:\n",
    "                    num += 1\n",
    "                    count = 1 \n",
    "                else:\n",
    "                    if sq[i+1] == sq[i]:\n",
    "                        count += 1\n",
    "                    \n",
    "                    else:\n",
    "                        if count > self.run_threshold:\n",
    "                            num += 1\n",
    "                        count = 1\n",
    "\n",
    "        return num"
   ]
  },
  {
   "cell_type": "code",
   "execution_count": 24,
   "metadata": {},
   "outputs": [
    {
     "ename": "IndentationError",
     "evalue": "expected an indented block (<ipython-input-24-0d55f81cfa5a>, line 22)",
     "output_type": "error",
     "traceback": [
      "\u001b[0;36m  File \u001b[0;32m\"<ipython-input-24-0d55f81cfa5a>\"\u001b[0;36m, line \u001b[0;32m22\u001b[0m\n\u001b[0;31m    count +=1\u001b[0m\n\u001b[0m        ^\u001b[0m\n\u001b[0;31mIndentationError\u001b[0m\u001b[0;31m:\u001b[0m expected an indented block\n"
     ]
    }
   ],
   "source": [
    "class PrimerDesign(PrimerDesign):\n",
    "    def func_count_repeats(self,sq):\n",
    "        \n",
    "        di_repeats = ['at','ac','ag','ca','ct','cg','ga','gt','gc','ta','tc','tg']\n",
    "        sequence_version1 = []\n",
    "        sequence_version2= []\n",
    "\n",
    "        for i in range(0, len(sq), 2):\n",
    "            sequence_version1.append(sq[i:i+2])\n",
    "\n",
    "        for i in range(1, len(sq), 2):\n",
    "            sequence_version2.append(sq[i:i+2])\n",
    "\n",
    "        count = 0\n",
    "        count1 = 0\n",
    "        total_repeats = 0\n",
    "        \n",
    "        for i in range(len(sequence_version1)):\n",
    "\n",
    "            try:\n",
    "                if sequence_version1[i+1] in di_repeats and sequence_version1[i+1] == sequence_version1[i]:\n",
    "                count +=1\n",
    "                print(\"match\", sequence_version1[i+1], sequence_version2[i])\n",
    "                \n",
    "                else:\n",
    "                    total_repeats += count\n",
    "                    count = 0\n",
    "\n",
    "            except:\n",
    "                pass\n",
    "\n",
    "        for i in range(len(sequence_version2)):\n",
    "            try:\n",
    "            \n",
    "            if sequence_version2[i+1] in di_repeats and sequence_version2[i+1] == sequence_version2[i]:\n",
    "                count +=1\n",
    "\n",
    "            else:\n",
    "                total_repeats += count\n",
    "                count = 0\n",
    "            \n",
    "            except:\n",
    "                pass\n"
   ]
  },
  {
   "cell_type": "markdown",
   "metadata": {},
   "source": [
    "### Task 5"
   ]
  },
  {
   "cell_type": "code",
   "execution_count": 8,
   "metadata": {
    "collapsed": true
   },
   "outputs": [],
   "source": [
    "class PrimerDesign(PrimerDesign):\n",
    "    \n",
    "    def cost_length(self, sq):\n",
    "        '''This is given to you as an example '''\n",
    "        sq_len = len(sq)\n",
    "        if(sq_len > self.max_length):\n",
    "            return (sq_len - self.max_length)*self.penalty_length\n",
    "        elif(sq_len > self.min_length):\n",
    "            return 0\n",
    "        else:\n",
    "            return (self.min_length - sq_len)*self.penalty_length \n",
    "    \n",
    "    def cost_temperature(self, sq):\n",
    "        pass \n",
    "        \n",
    "    def cost_cgcontent(self,sq):\n",
    "        pass\n",
    "        \n",
    "    def cost_temperature_difference(self, fp, rp):\n",
    "        pass\n",
    "    \n",
    "    def cost_specificity(self, sq):\n",
    "        pass\n",
    "    \n",
    "    def cost_runs(self, sq):\n",
    "        pass\n",
    "    \n",
    "    def cost_repeats(self,sq):\n",
    "        pass "
   ]
  },
  {
   "cell_type": "markdown",
   "metadata": {},
   "source": [
    "### Task 6"
   ]
  },
  {
   "cell_type": "code",
   "execution_count": null,
   "metadata": {
    "collapsed": true
   },
   "outputs": [],
   "source": [
    "class PrimerDesign(PrimerDesign):\n",
    "    \n",
    "    def cost_objective_function(self, fp, rp):\n",
    "        '''complete the calculation of the cost'''\n",
    "        cost = 0        \n",
    "        return cost \n",
    "        "
   ]
  },
  {
   "cell_type": "markdown",
   "metadata": {},
   "source": [
    "### Task 7"
   ]
  },
  {
   "cell_type": "code",
   "execution_count": 10,
   "metadata": {
    "collapsed": true
   },
   "outputs": [],
   "source": [
    "class PrimerDesign(PrimerDesign):\n",
    "    \n",
    "    def cost_objective_function_info(self, fp, rp):\n",
    "        pass "
   ]
  },
  {
   "cell_type": "markdown",
   "metadata": {},
   "source": [
    "### Task 10"
   ]
  },
  {
   "cell_type": "code",
   "execution_count": 11,
   "metadata": {
    "collapsed": true
   },
   "outputs": [],
   "source": [
    "class PrimerDesign(PrimerDesign): \n",
    "    \n",
    "    def func_simulated_annealing(self):\n",
    "        \n",
    "        temperature = self.initial_temperature\n",
    "        stopping_temperature = self.stopping_temperature\n",
    "        drop = self.drop_fraction\n",
    "        \n",
    "        pass \n"
   ]
  },
  {
   "cell_type": "markdown",
   "metadata": {},
   "source": [
    "### Store the DNA sequence given to you in the variable below "
   ]
  },
  {
   "cell_type": "code",
   "execution_count": 12,
   "metadata": {
    "collapsed": true
   },
   "outputs": [],
   "source": [
    "dna_sequence = ''' '''"
   ]
  },
  {
   "cell_type": "markdown",
   "metadata": {},
   "source": [
    "### Instantiate your class and read in the DNA sequence"
   ]
  },
  {
   "cell_type": "code",
   "execution_count": 14,
   "metadata": {},
   "outputs": [
    {
     "data": {
      "text/plain": [
       "' '"
      ]
     },
     "execution_count": 14,
     "metadata": {},
     "output_type": "execute_result"
    }
   ],
   "source": []
  },
  {
   "cell_type": "markdown",
   "metadata": {},
   "source": [
    "### If you need to adjust any parameter from their default values in the init method, do it here"
   ]
  },
  {
   "cell_type": "code",
   "execution_count": 15,
   "metadata": {
    "collapsed": true
   },
   "outputs": [],
   "source": []
  },
  {
   "cell_type": "markdown",
   "metadata": {},
   "source": [
    "### Show the outcome of your testing and the functions in the subsequent cells "
   ]
  }
 ],
 "metadata": {
  "kernelspec": {
   "display_name": "Python 3",
   "language": "python",
   "name": "python3"
  },
  "language_info": {
   "codemirror_mode": {
    "name": "ipython",
    "version": 3
   },
   "file_extension": ".py",
   "mimetype": "text/x-python",
   "name": "python",
   "nbconvert_exporter": "python",
   "pygments_lexer": "ipython3",
   "version": "3.6.3"
  }
 },
 "nbformat": 4,
 "nbformat_minor": 2
}
